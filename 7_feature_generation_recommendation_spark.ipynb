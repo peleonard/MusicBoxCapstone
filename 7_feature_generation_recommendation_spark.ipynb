{
 "cells": [
  {
   "cell_type": "markdown",
   "metadata": {},
   "source": [
    "## Import Spark"
   ]
  },
  {
   "cell_type": "code",
   "execution_count": 1,
   "metadata": {},
   "outputs": [
    {
     "name": "stdout",
     "output_type": "stream",
     "text": [
      "Welcome to\n",
      "      ____              __\n",
      "     / __/__  ___ _____/ /__\n",
      "    _\\ \\/ _ \\/ _ `/ __/  '_/\n",
      "   /__ / .__/\\_,_/_/ /_/\\_\\   version 2.3.1\n",
      "      /_/\n",
      "\n",
      "Using Python version 3.6.5 (default, Mar 29 2018 13:14:23)\n",
      "SparkSession available as 'spark'.\n"
     ]
    }
   ],
   "source": [
    "import os\n",
    "# os.environ[\"SPARK_HOME\"]\n",
    "exec(open(os.path.join(os.environ[\"SPARK_HOME\"], 'python/pyspark/shell.py')).read())"
   ]
  },
  {
   "cell_type": "code",
   "execution_count": 2,
   "metadata": {},
   "outputs": [
    {
     "data": {
      "text/html": [
       "\n",
       "        <div>\n",
       "            <p><b>SparkContext</b></p>\n",
       "\n",
       "            <p><a href=\"http://192.168.0.4:4040\">Spark UI</a></p>\n",
       "\n",
       "            <dl>\n",
       "              <dt>Version</dt>\n",
       "                <dd><code>v2.3.1</code></dd>\n",
       "              <dt>Master</dt>\n",
       "                <dd><code>local[*]</code></dd>\n",
       "              <dt>AppName</dt>\n",
       "                <dd><code>pyspark-shell</code></dd>\n",
       "            </dl>\n",
       "        </div>\n",
       "        "
      ],
      "text/plain": [
       "<SparkContext master=local[*] appName=pyspark-shell>"
      ]
     },
     "execution_count": 2,
     "metadata": {},
     "output_type": "execute_result"
    }
   ],
   "source": [
    "sc"
   ]
  },
  {
   "cell_type": "markdown",
   "metadata": {},
   "source": [
    "## Load data into Spark DataFrame"
   ]
  },
  {
   "cell_type": "code",
   "execution_count": 3,
   "metadata": {},
   "outputs": [],
   "source": [
    "from pyspark import SparkContext\n",
    "import pyspark.sql.functions as F"
   ]
  },
  {
   "cell_type": "code",
   "execution_count": 4,
   "metadata": {},
   "outputs": [
    {
     "data": {
      "text/plain": [
       "DataFrame[uid: string, event: string, song_id: string, date: string]"
      ]
     },
     "execution_count": 4,
     "metadata": {},
     "output_type": "execute_result"
    }
   ],
   "source": [
    "# df is A Spark DataFrame\n",
    "df = spark.read.csv('../data/event_ds.csv',header=True).cache()\n",
    "df"
   ]
  },
  {
   "cell_type": "code",
   "execution_count": 5,
   "metadata": {},
   "outputs": [
    {
     "name": "stdout",
     "output_type": "stream",
     "text": [
      "+---------+-----+--------+----------+\n",
      "|      uid|event| song_id|      date|\n",
      "+---------+-----+--------+----------+\n",
      "|168535490|    P| 6616004|2017-03-30|\n",
      "|168551042|    P|  505355|2017-03-30|\n",
      "|168540348|    P|   77260|2017-03-30|\n",
      "|168530895|    P|       0|2017-03-30|\n",
      "|168530479|    P| 1676759|2017-03-30|\n",
      "|168551607|    P| 5517668|2017-03-30|\n",
      "|168548101|    P| 6913185|2017-03-30|\n",
      "|168542680|    P|       0|2017-03-30|\n",
      "|168550237|    P| 6511070|2017-03-30|\n",
      "|168519439|    P|       0|2017-03-30|\n",
      "|168548942|    P| 4112522|2017-03-30|\n",
      "|168551495|    P|22797719|2017-03-30|\n",
      "|168551383|    P| 7149583|2017-03-30|\n",
      "|168550382|    P| 3971726|2017-03-30|\n",
      "|168548945|    P|20429929|2017-03-30|\n",
      "|168550086|    P| 7172624|2017-03-30|\n",
      "|168540348|    P| 6437996|2017-03-30|\n",
      "|168551522|    P|  150918|2017-03-30|\n",
      "|168541857|    P|  295529|2017-03-30|\n",
      "|168546393|    P|  242615|2017-03-30|\n",
      "+---------+-----+--------+----------+\n",
      "only showing top 20 rows\n",
      "\n"
     ]
    }
   ],
   "source": [
    "# show the first 20 rows of the Spark DataFrame\n",
    "df.show()"
   ]
  },
  {
   "cell_type": "code",
   "execution_count": null,
   "metadata": {},
   "outputs": [],
   "source": []
  },
  {
   "cell_type": "markdown",
   "metadata": {},
   "source": [
    "---\n",
    "## Data Exploration"
   ]
  },
  {
   "cell_type": "markdown",
   "metadata": {},
   "source": [
    "### Features Type Casting and Verification"
   ]
  },
  {
   "cell_type": "code",
   "execution_count": 6,
   "metadata": {},
   "outputs": [
    {
     "data": {
      "text/plain": [
       "DataFrame[uid: int, event: string, song_id: int, date: date]"
      ]
     },
     "execution_count": 6,
     "metadata": {},
     "output_type": "execute_result"
    }
   ],
   "source": [
    "# create new or overwrite original field with withColumn: \n",
    "# for \"date\" column, convert \"string\" type to \"date\" type \n",
    "# for \"id\" column, convert \"string\" type to \"int\" type\n",
    "df = df.withColumn('date', F.col('date').cast('date'))\n",
    "for col in ['uid', 'song_id']:\n",
    "    df = df.withColumn(col, F.col(col).cast('int'))\n",
    "df"
   ]
  },
  {
   "cell_type": "markdown",
   "metadata": {},
   "source": [
    "Note that song_id has a **special** negative value and there are missing values in __event__ column"
   ]
  },
  {
   "cell_type": "code",
   "execution_count": 7,
   "metadata": {},
   "outputs": [
    {
     "name": "stdout",
     "output_type": "stream",
     "text": [
      "+-------+--------------------+-------+-----------------+\n",
      "|summary|                 uid|  event|          song_id|\n",
      "+-------+--------------------+-------+-----------------+\n",
      "|  count|             2194568|2194568|          2049856|\n",
      "|   mean|1.6645771046223176E8|   null| 5915507.37680842|\n",
      "| stddev|1.6287908907350207E7|   null|6653398.679705742|\n",
      "|    min|             2626270|      D|               -1|\n",
      "|    max|           168941043|      S|         24024145|\n",
      "+-------+--------------------+-------+-----------------+\n",
      "\n"
     ]
    }
   ],
   "source": [
    "# show the descriptive statistics of the DataFrame\n",
    "df.describe().show()"
   ]
  },
  {
   "cell_type": "markdown",
   "metadata": {},
   "source": [
    "### Missing Values\n",
    "Only Nulls in **song_id** feature."
   ]
  },
  {
   "cell_type": "code",
   "execution_count": 8,
   "metadata": {},
   "outputs": [
    {
     "name": "stdout",
     "output_type": "stream",
     "text": [
      "+---+-----+-------+----+\n",
      "|uid|event|song_id|date|\n",
      "+---+-----+-------+----+\n",
      "|  0|    0| 144712|   0|\n",
      "+---+-----+-------+----+\n",
      "\n"
     ]
    }
   ],
   "source": [
    "# Count the number of Nulls in every feature\n",
    "df.select(*[F.sum(F.col(c).isNull().cast(\"int\")).alias(c) for c in df.columns]).show()"
   ]
  },
  {
   "cell_type": "code",
   "execution_count": 9,
   "metadata": {},
   "outputs": [
    {
     "name": "stdout",
     "output_type": "stream",
     "text": [
      "+---------+-----+-------+----------+\n",
      "|      uid|event|song_id|      date|\n",
      "+---------+-----+-------+----------+\n",
      "|168564110|    P|   null|2017-03-30|\n",
      "|168564110|    P|   null|2017-03-30|\n",
      "|168564110|    P|   null|2017-03-30|\n",
      "|168564110|    P|   null|2017-03-30|\n",
      "|168564110|    P|   null|2017-03-30|\n",
      "|168564110|    P|   null|2017-03-30|\n",
      "|168564110|    P|   null|2017-03-30|\n",
      "|168564110|    P|   null|2017-03-30|\n",
      "|168564110|    P|   null|2017-03-30|\n",
      "|168564110|    P|   null|2017-03-30|\n",
      "+---------+-----+-------+----------+\n",
      "only showing top 10 rows\n",
      "\n"
     ]
    }
   ],
   "source": [
    "# Check the data with missing values\n",
    "df.filter(F.col('song_id').isNull()).show(10)"
   ]
  },
  {
   "cell_type": "markdown",
   "metadata": {},
   "source": [
    "#### Nulls Pattern Inspection\n",
    "The song ids of the \"search\" event are all missing. A tiny proportion of the \"play\" event song ids is missing. None of song ids is absent in \"download\" event. "
   ]
  },
  {
   "cell_type": "code",
   "execution_count": 10,
   "metadata": {},
   "outputs": [
    {
     "name": "stdout",
     "output_type": "stream",
     "text": [
      "+-----+-------+\n",
      "|event|  count|\n",
      "+-----+-------+\n",
      "|    D| 119950|\n",
      "|    S| 144337|\n",
      "|    P|1930281|\n",
      "+-----+-------+\n",
      "\n",
      "+-----+------+\n",
      "|event| count|\n",
      "+-----+------+\n",
      "|    S|144337|\n",
      "|    P|   375|\n",
      "+-----+------+\n",
      "\n"
     ]
    }
   ],
   "source": [
    "# group by aggregation\n",
    "df.groupBy('event').count().show()\n",
    "df.filter(F.col('song_id').isNull()).groupBy('event').count().show()"
   ]
  },
  {
   "cell_type": "markdown",
   "metadata": {},
   "source": [
    "### Song ids and User ids"
   ]
  },
  {
   "cell_type": "code",
   "execution_count": 11,
   "metadata": {},
   "outputs": [
    {
     "data": {
      "text/plain": [
       "2194568"
      ]
     },
     "execution_count": 11,
     "metadata": {},
     "output_type": "execute_result"
    }
   ],
   "source": [
    "# simple count rows\n",
    "df.count()"
   ]
  },
  {
   "cell_type": "code",
   "execution_count": 12,
   "metadata": {},
   "outputs": [
    {
     "data": {
      "text/plain": [
       "(9757, 157320)"
      ]
     },
     "execution_count": 12,
     "metadata": {},
     "output_type": "execute_result"
    }
   ],
   "source": [
    "# count number of distinct user ids and song ids\n",
    "df.select('uid').distinct().count(), df.select('song_id').distinct().count()"
   ]
  },
  {
   "cell_type": "code",
   "execution_count": 13,
   "metadata": {},
   "outputs": [
    {
     "data": {
      "text/plain": [
       "597572"
      ]
     },
     "execution_count": 13,
     "metadata": {},
     "output_type": "execute_result"
    }
   ],
   "source": [
    "df.select('uid', 'song_id').distinct().count()"
   ]
  },
  {
   "cell_type": "markdown",
   "metadata": {},
   "source": [
    "### Date"
   ]
  },
  {
   "cell_type": "code",
   "execution_count": 14,
   "metadata": {},
   "outputs": [
    {
     "name": "stdout",
     "output_type": "stream",
     "text": [
      "+----------+----------+\n",
      "|start_date|  end_date|\n",
      "+----------+----------+\n",
      "|2017-03-30|2017-05-12|\n",
      "+----------+----------+\n",
      "\n"
     ]
    }
   ],
   "source": [
    "df.select(F.min(F.col('date')).alias('start_date'), F.max(F.col('date')).alias('end_date')).show()"
   ]
  },
  {
   "cell_type": "code",
   "execution_count": 15,
   "metadata": {},
   "outputs": [],
   "source": [
    "date_count = df.groupBy('date').count().toPandas()"
   ]
  },
  {
   "cell_type": "code",
   "execution_count": 16,
   "metadata": {},
   "outputs": [
    {
     "data": {
      "text/plain": [
       "(array([736419., 736426., 736433., 736440., 736447., 736454., 736461.]),\n",
       " <a list of 7 Text xticklabel objects>)"
      ]
     },
     "execution_count": 16,
     "metadata": {},
     "output_type": "execute_result"
    },
    {
     "data": {
      "image/png": "[encoded data removed]",
      "text/plain": [
       "<Figure size 432x288 with 1 Axes>"
      ]
     },
     "metadata": {},
     "output_type": "display_data"
    }
   ],
   "source": [
    "# We use matplotlib for plotting\n",
    "import matplotlib.pyplot as plt\n",
    "# This statement allow to display plot without asking to\n",
    "%matplotlib inline\n",
    "plt.bar(date_count.date.tolist(), date_count['count'])\n",
    "plt.xticks(rotation='vertical')"
   ]
  },
  {
   "cell_type": "markdown",
   "metadata": {},
   "source": [
    "---\n",
    "---\n",
    "## Generation of Implicit Rating"
   ]
  },
  {
   "cell_type": "markdown",
   "metadata": {},
   "source": [
    "### Frequecy "
   ]
  },
  {
   "cell_type": "code",
   "execution_count": 17,
   "metadata": {},
   "outputs": [
    {
     "name": "stdout",
     "output_type": "stream",
     "text": [
      "recommendation window: 2017-03-30 ~ 2017-05-12 \n",
      "days: 44\n"
     ]
    }
   ],
   "source": [
    "import datetime\n",
    "from dateutil import parser\n",
    "\n",
    "reco_window_size= 44 \n",
    "reco_window_end_date = parser.parse('2017-05-12').date()\n",
    "reco_window_start_date = reco_window_end_date - datetime.timedelta(reco_window_size - 1)\n",
    "print('recommendation window:', reco_window_start_date, '~', \n",
    "      reco_window_end_date, '\\ndays:', reco_window_size)"
   ]
  },
  {
   "cell_type": "code",
   "execution_count": 18,
   "metadata": {},
   "outputs": [],
   "source": [
    "def frequency_reco_generation_time_windows(df,event,time_window_list,snapshot_date):\n",
    "    \"\"\"\n",
    "    generate frequency features for one event type and a list of time windows\n",
    "    \"\"\"\n",
    "    df_feature = df \\\n",
    "        .filter(F.col('event')==event) \\\n",
    "        .groupBy('uid', 'song_id') \\\n",
    "        .agg(*[F.sum(F.when((F.col('date')>=snapshot_date-datetime.timedelta(time_window-1)) \\\n",
    "                            & (F.col('date')<=snapshot_date),1).otherwise(0))\\\n",
    "               .alias('freq_'+event+'_last_'+str(time_window)) \\\n",
    "                for time_window in time_window_list]\n",
    "            )# *[] opens list and make them comma separated\n",
    "    return df_feature"
   ]
  },
  {
   "cell_type": "code",
   "execution_count": 19,
   "metadata": {},
   "outputs": [],
   "source": [
    "# generate frequency features for all event_list, time_window_list\n",
    "event_list = ['P','D']\n",
    "time_window_list = [1,3,7,14,30,44]\n",
    "snapshot_date = reco_window_end_date\n",
    "\n",
    "df_reco_list = []\n",
    "for event in event_list:\n",
    "    df_reco_list.append(frequency_reco_generation_time_windows(df,event,\n",
    "                                                                     time_window_list,snapshot_date))"
   ]
  },
  {
   "cell_type": "code",
   "execution_count": 20,
   "metadata": {},
   "outputs": [
    {
     "name": "stdout",
     "output_type": "stream",
     "text": [
      "+---------+--------+-------------+-------------+-------------+--------------+--------------+--------------+\n",
      "|      uid| song_id|freq_P_last_1|freq_P_last_3|freq_P_last_7|freq_P_last_14|freq_P_last_30|freq_P_last_44|\n",
      "+---------+--------+-------------+-------------+-------------+--------------+--------------+--------------+\n",
      "|168548942| 4589801|            0|            0|            0|             0|             0|             1|\n",
      "|168542101|  849435|            0|            0|            0|             0|             0|             1|\n",
      "|168551694|23489729|            0|            0|            0|             0|             0|             1|\n",
      "|168551694| 1222356|            0|            0|            0|             0|             0|             1|\n",
      "|168552867| 1094256|            0|            0|            0|             0|             0|             1|\n",
      "|168536197| 6762377|            0|            0|            0|             0|             0|             4|\n",
      "|168553253|  891952|            0|            0|            0|             0|             0|             1|\n",
      "|168553426| 6165034|            0|            0|            0|             0|             0|             1|\n",
      "|168531662| 9950164|            0|            0|            0|             0|             0|             4|\n",
      "|168553520|  327577|            0|            0|            0|             0|             0|             1|\n",
      "|168550815| 7077575|            0|            0|            0|             0|             0|             3|\n",
      "|168548138| 3973072|            0|            0|            0|             0|             0|             1|\n",
      "|168548942| 1161336|            0|            0|            0|             6|            23|            26|\n",
      "|168548211| 1238180|            0|            0|            0|             0|             0|             2|\n",
      "|168554809|23491656|            0|            0|            0|             0|             0|             1|\n",
      "|168555719| 5825379|            0|            0|            0|             0|             0|             2|\n",
      "|168541614| 4229383|            0|            0|            0|             0|             0|             1|\n",
      "|168555652|       0|            0|            0|            0|             0|             0|            71|\n",
      "|168553343|19535291|            0|            0|            1|             2|             2|            10|\n",
      "|168556816| 9848594|            0|            0|            0|             0|             0|             1|\n",
      "+---------+--------+-------------+-------------+-------------+--------------+--------------+--------------+\n",
      "only showing top 20 rows\n",
      "\n"
     ]
    }
   ],
   "source": [
    "df_reco_list[0].show()"
   ]
  },
  {
   "cell_type": "markdown",
   "metadata": {},
   "source": [
    "### Recency"
   ]
  },
  {
   "cell_type": "code",
   "execution_count": 21,
   "metadata": {},
   "outputs": [],
   "source": [
    "from datetime import timedelta\n",
    "def recency_reco_generation_time_windows(df,event,snapshot_date):\n",
    "    \"\"\"\n",
    "    generate recency features for one event type, so totally 3 possible features\n",
    "    \"\"\"\n",
    "    df_feature = df \\\n",
    "        .filter(F.col('event')==event) \\\n",
    "        .groupBy('uid', 'song_id') \\\n",
    "        .agg(F.datediff(F.lit(snapshot_date), F.max(F.col('date'))).alias('rec_' + event) \n",
    "            ) \n",
    "    \n",
    "    return df_feature"
   ]
  },
  {
   "cell_type": "code",
   "execution_count": 22,
   "metadata": {},
   "outputs": [
    {
     "data": {
      "text/plain": [
       "[DataFrame[uid: int, song_id: int, freq_P_last_1: bigint, freq_P_last_3: bigint, freq_P_last_7: bigint, freq_P_last_14: bigint, freq_P_last_30: bigint, freq_P_last_44: bigint],\n",
       " DataFrame[uid: int, song_id: int, freq_D_last_1: bigint, freq_D_last_3: bigint, freq_D_last_7: bigint, freq_D_last_14: bigint, freq_D_last_30: bigint, freq_D_last_44: bigint],\n",
       " DataFrame[uid: int, song_id: int, rec_P: int],\n",
       " DataFrame[uid: int, song_id: int, rec_D: int]]"
      ]
     },
     "execution_count": 22,
     "metadata": {},
     "output_type": "execute_result"
    }
   ],
   "source": [
    "event_list = ['P','D']\n",
    "snapshot_date = reco_window_end_date\n",
    "\n",
    "for event in event_list:\n",
    "    df_reco_list.append(recency_reco_generation_time_windows(df,event,\n",
    "                                                                     snapshot_date))\n",
    "df_reco_list"
   ]
  },
  {
   "cell_type": "markdown",
   "metadata": {},
   "source": [
    "---\n",
    "### Play/Song Length"
   ]
  },
  {
   "cell_type": "code",
   "execution_count": 23,
   "metadata": {},
   "outputs": [
    {
     "name": "stdout",
     "output_type": "stream",
     "text": [
      "+---------+------+-------+----------+---------+-----------+\n",
      "|      uid|device|song_id|      date|play_time|song_length|\n",
      "+---------+------+-------+----------+---------+-----------+\n",
      "|168535490|    ar|6616004|2017-03-30|      283|        283|\n",
      "|168551042|    ar| 505355|2017-03-30|      106|        277|\n",
      "|168540348|    ar|  77260|2017-03-30|    64528|          0|\n",
      "|168530895|    ar|      0|2017-03-30|      264|        265|\n",
      "|168530479|    ar|1676759|2017-03-30|      338|        338|\n",
      "|168551607|    ar|5517668|2017-03-30|      231|        245|\n",
      "|168548101|    ip|6913185|2017-03-30|       40|        198|\n",
      "|168542680|    ar|      0|2017-03-30|      284|        285|\n",
      "|168550237|    ar|6511070|2017-03-30|      144|        237|\n",
      "|168519439|    ar|      0|2017-03-30|      227|        228|\n",
      "+---------+------+-------+----------+---------+-----------+\n",
      "only showing top 10 rows\n",
      "\n"
     ]
    }
   ],
   "source": [
    "df_play = spark.read.csv('../data/play_ds.csv',header=True)\n",
    "df_play.show(10)"
   ]
  },
  {
   "cell_type": "code",
   "execution_count": 24,
   "metadata": {},
   "outputs": [],
   "source": [
    "# df_play_feature_window.show(10)\n",
    "df_profile = df_play.drop('device').distinct() \\\n",
    "    .withColumn('uid', F.col('uid').cast('int')) \\\n",
    "    .withColumn('song_id', F.col('song_id').cast('int')) \\\n",
    "    .withColumn('play_time', F.col('play_time').cast(\"float\")) \\\n",
    "    .withColumn('song_length', F.col('song_length').cast('float'))"
   ]
  },
  {
   "cell_type": "markdown",
   "metadata": {},
   "source": [
    "#### Play Time and Song Length Cleansing"
   ]
  },
  {
   "cell_type": "code",
   "execution_count": 25,
   "metadata": {},
   "outputs": [
    {
     "name": "stdout",
     "output_type": "stream",
     "text": [
      "+---------+--------+----------+---------+-----------+\n",
      "|      uid| song_id|      date|play_time|song_length|\n",
      "+---------+--------+----------+---------+-----------+\n",
      "|168550004|       0|2017-03-30|      0.0|      180.0|\n",
      "|168530027|  461314|2017-03-30|    277.0|      277.0|\n",
      "|168548945|20274234|2017-03-30|      1.0|      307.0|\n",
      "|168553584| 7149583|2017-03-30|    214.0|      215.0|\n",
      "|168553426|   64840|2017-03-30|     27.0|      273.0|\n",
      "|168551535|22873373|2017-03-30|      0.0|        0.0|\n",
      "|168550549|11592276|2017-03-30|      1.0|      285.0|\n",
      "|168543638| 3338912|2017-03-30|      0.0|       29.0|\n",
      "|168548514|  145454|2017-03-30|      3.0|      324.0|\n",
      "|168553532| 4078943|2017-03-30|     22.0|      283.0|\n",
      "+---------+--------+----------+---------+-----------+\n",
      "only showing top 10 rows\n",
      "\n"
     ]
    }
   ],
   "source": [
    "df_profile = df_profile.filter((F.col('play_time') >= 0) & (F.col('song_length') >= 0) \\\n",
    "                              & (F.col('play_time') <= F.col('song_length')))\n",
    "# df_profile.describe().show()\n",
    "df_profile.show(10)"
   ]
  },
  {
   "cell_type": "code",
   "execution_count": 26,
   "metadata": {},
   "outputs": [],
   "source": [
    "# feature: play_time/song_length\n",
    "def relative_freq_reco_generation_time_windows(df,time_window_list,snapshot_date):\n",
    "    \"\"\"\n",
    "    generate counts of songs play 80% of their song length (using play_ds data) for different time window\n",
    "    \"\"\"\n",
    "    df_feature = df \\\n",
    "        .groupBy('uid', 'song_id') \\\n",
    "        .agg(*[F.sum(F.when((F.col('date')>=snapshot_date-datetime.timedelta(time_window-1)) \\\n",
    "                            & (F.col('date')<=snapshot_date) \\\n",
    "                            & (F.col('play_time')/F.col('song_length')>=0.8),1).otherwise(0))\\\n",
    "               .alias('rela_freq_last_'+str(time_window)) \\\n",
    "                for time_window in time_window_list]\n",
    "            )# *[] opens list and make them comma separated\n",
    "    return df_feature"
   ]
  },
  {
   "cell_type": "code",
   "execution_count": 27,
   "metadata": {},
   "outputs": [
    {
     "data": {
      "text/plain": [
       "DataFrame[uid: int, song_id: int, rela_freq_last_1: bigint, rela_freq_last_3: bigint, rela_freq_last_7: bigint, rela_freq_last_14: bigint, rela_freq_last_30: bigint, rela_freq_last_44: bigint]"
      ]
     },
     "execution_count": 27,
     "metadata": {},
     "output_type": "execute_result"
    }
   ],
   "source": [
    "time_window_list = [1,3,7,14,30,44]\n",
    "snapshot_date = reco_window_end_date\n",
    "df_rela_freq_reco = relative_freq_reco_generation_time_windows(df_profile, time_window_list, snapshot_date)\n",
    "df_rela_freq_reco"
   ]
  },
  {
   "cell_type": "markdown",
   "metadata": {},
   "source": [
    "---\n",
    "### Join all feature datasets together"
   ]
  },
  {
   "cell_type": "code",
   "execution_count": 28,
   "metadata": {},
   "outputs": [],
   "source": [
    "def join_reco_data(df_reco_list):\n",
    "    df_master = df_reco_list[0]\n",
    "    df_reco_list.pop(0)\n",
    "    for df_reco in df_reco_list:\n",
    "        df_master = df_master.join(df_reco,on=['uid','song_id'],how='left')\n",
    "        #df_master.persist() # uncomment if number of joins is too many\n",
    "    return df_master    "
   ]
  },
  {
   "cell_type": "code",
   "execution_count": 32,
   "metadata": {},
   "outputs": [
    {
     "data": {
      "text/plain": [
       "DataFrame[uid: int, song_id: int, freq_P_last_1: bigint, freq_P_last_3: bigint, freq_P_last_7: bigint, freq_P_last_14: bigint, freq_P_last_30: bigint, freq_P_last_44: bigint, freq_D_last_1: bigint, freq_D_last_3: bigint, freq_D_last_7: bigint, freq_D_last_14: bigint, freq_D_last_30: bigint, freq_D_last_44: bigint, rec_P: int, rec_D: int, rela_freq_last_1: bigint, rela_freq_last_3: bigint, rela_freq_last_7: bigint, rela_freq_last_14: bigint, rela_freq_last_30: bigint, rela_freq_last_44: bigint]"
      ]
     },
     "execution_count": 32,
     "metadata": {},
     "output_type": "execute_result"
    }
   ],
   "source": [
    "df_reco_list_copy = df_reco_list.copy()\n",
    "df_reco_list_copy.append(df_rela_freq_reco)\n",
    "df_reco_final = join_reco_data(df_reco_list_copy)\n",
    "df_reco_final"
   ]
  },
  {
   "cell_type": "code",
   "execution_count": 33,
   "metadata": {},
   "outputs": [],
   "source": [
    "df_reco_final.fillna(0).toPandas().to_csv('../data/df_reco_final.csv',index=False)"
   ]
  },
  {
   "cell_type": "code",
   "execution_count": null,
   "metadata": {},
   "outputs": [],
   "source": []
  }
 ],
 "metadata": {
  "kernelspec": {
   "display_name": "Python 3",
   "language": "python",
   "name": "python3"
  },
  "language_info": {
   "codemirror_mode": {
    "name": "ipython",
    "version": 3
   },
   "file_extension": ".py",
   "mimetype": "text/x-python",
   "name": "python",
   "nbconvert_exporter": "python",
   "pygments_lexer": "ipython3",
   "version": "3.6.5"
  }
 },
 "nbformat": 4,
 "nbformat_minor": 2
}
