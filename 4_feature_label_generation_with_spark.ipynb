{
 "cells": [
  {
   "cell_type": "markdown",
   "metadata": {},
   "source": [
    "## Import Spark"
   ]
  },
  {
   "cell_type": "code",
   "execution_count": 1,
   "metadata": {},
   "outputs": [
    {
     "name": "stdout",
     "output_type": "stream",
     "text": [
      "Welcome to\n",
      "      ____              __\n",
      "     / __/__  ___ _____/ /__\n",
      "    _\\ \\/ _ \\/ _ `/ __/  '_/\n",
      "   /__ / .__/\\_,_/_/ /_/\\_\\   version 2.3.1\n",
      "      /_/\n",
      "\n",
      "Using Python version 3.6.5 (default, Mar 29 2018 13:14:23)\n",
      "SparkSession available as 'spark'.\n"
     ]
    }
   ],
   "source": [
    "import os\n",
    "# os.environ[\"SPARK_HOME\"]\n",
    "exec(open(os.path.join(os.environ[\"SPARK_HOME\"], 'python/pyspark/shell.py')).read())"
   ]
  },
  {
   "cell_type": "code",
   "execution_count": 2,
   "metadata": {},
   "outputs": [
    {
     "data": {
      "text/html": [
       "\n",
       "        <div>\n",
       "            <p><b>SparkContext</b></p>\n",
       "\n",
       "            <p><a href=\"http://192.168.0.4:4040\">Spark UI</a></p>\n",
       "\n",
       "            <dl>\n",
       "              <dt>Version</dt>\n",
       "                <dd><code>v2.3.1</code></dd>\n",
       "              <dt>Master</dt>\n",
       "                <dd><code>local[*]</code></dd>\n",
       "              <dt>AppName</dt>\n",
       "                <dd><code>pyspark-shell</code></dd>\n",
       "            </dl>\n",
       "        </div>\n",
       "        "
      ],
      "text/plain": [
       "<SparkContext master=local[*] appName=pyspark-shell>"
      ]
     },
     "execution_count": 2,
     "metadata": {},
     "output_type": "execute_result"
    }
   ],
   "source": [
    "sc"
   ]
  },
  {
   "cell_type": "markdown",
   "metadata": {},
   "source": [
    "## Load data into Spark DataFrame"
   ]
  },
  {
   "cell_type": "code",
   "execution_count": 3,
   "metadata": {},
   "outputs": [],
   "source": [
    "from pyspark import SparkContext\n",
    "import pyspark.sql.functions as F\n",
    "# We use matplotlib for plotting\n",
    "import matplotlib.pyplot as plt\n",
    "# This statement allow to display plot without asking to\n",
    "%matplotlib inline"
   ]
  },
  {
   "cell_type": "code",
   "execution_count": 4,
   "metadata": {},
   "outputs": [
    {
     "data": {
      "text/plain": [
       "DataFrame[uid: string, event: string, song_id: string, date: string]"
      ]
     },
     "execution_count": 4,
     "metadata": {},
     "output_type": "execute_result"
    }
   ],
   "source": [
    "# df is A Spark DataFrame\n",
    "df = spark.read.csv('../data/event_ds.csv',header=True).cache()\n",
    "df"
   ]
  },
  {
   "cell_type": "code",
   "execution_count": 5,
   "metadata": {},
   "outputs": [
    {
     "name": "stdout",
     "output_type": "stream",
     "text": [
      "+---------+-----+--------+----------+\n",
      "|      uid|event| song_id|      date|\n",
      "+---------+-----+--------+----------+\n",
      "|168535490|    P| 6616004|2017-03-30|\n",
      "|168551042|    P|  505355|2017-03-30|\n",
      "|168540348|    P|   77260|2017-03-30|\n",
      "|168530895|    P|       0|2017-03-30|\n",
      "|168530479|    P| 1676759|2017-03-30|\n",
      "|168551607|    P| 5517668|2017-03-30|\n",
      "|168548101|    P| 6913185|2017-03-30|\n",
      "|168542680|    P|       0|2017-03-30|\n",
      "|168550237|    P| 6511070|2017-03-30|\n",
      "|168519439|    P|       0|2017-03-30|\n",
      "|168548942|    P| 4112522|2017-03-30|\n",
      "|168551495|    P|22797719|2017-03-30|\n",
      "|168551383|    P| 7149583|2017-03-30|\n",
      "|168550382|    P| 3971726|2017-03-30|\n",
      "|168548945|    P|20429929|2017-03-30|\n",
      "|168550086|    P| 7172624|2017-03-30|\n",
      "|168540348|    P| 6437996|2017-03-30|\n",
      "|168551522|    P|  150918|2017-03-30|\n",
      "|168541857|    P|  295529|2017-03-30|\n",
      "|168546393|    P|  242615|2017-03-30|\n",
      "+---------+-----+--------+----------+\n",
      "only showing top 20 rows\n",
      "\n"
     ]
    }
   ],
   "source": [
    "# show the first 20 rows of the Spark DataFrame\n",
    "df.show()"
   ]
  },
  {
   "cell_type": "code",
   "execution_count": null,
   "metadata": {},
   "outputs": [],
   "source": []
  },
  {
   "cell_type": "markdown",
   "metadata": {},
   "source": [
    "---\n",
    "---\n",
    "## Data Exploration"
   ]
  },
  {
   "cell_type": "markdown",
   "metadata": {},
   "source": [
    "### Features Type Casting and Verification"
   ]
  },
  {
   "cell_type": "code",
   "execution_count": 6,
   "metadata": {},
   "outputs": [
    {
     "data": {
      "text/plain": [
       "DataFrame[uid: int, event: string, song_id: int, date: date]"
      ]
     },
     "execution_count": 6,
     "metadata": {},
     "output_type": "execute_result"
    }
   ],
   "source": [
    "# create new or overwrite original field with withColumn: \n",
    "# for \"date\" column, convert \"string\" type to \"date\" type \n",
    "# for \"id\" column, convert \"string\" type to \"int\" type\n",
    "df = df.withColumn('date', F.col('date').cast('date'))\n",
    "for col in ['uid', 'song_id']:\n",
    "    df = df.withColumn(col, F.col(col).cast('int'))\n",
    "df"
   ]
  },
  {
   "cell_type": "markdown",
   "metadata": {},
   "source": [
    "Note that song_id has a **special** negative value and there are missing values in __event__ column"
   ]
  },
  {
   "cell_type": "code",
   "execution_count": 7,
   "metadata": {},
   "outputs": [
    {
     "name": "stdout",
     "output_type": "stream",
     "text": [
      "+-------+--------------------+-------+-----------------+\n",
      "|summary|                 uid|  event|          song_id|\n",
      "+-------+--------------------+-------+-----------------+\n",
      "|  count|             2194568|2194568|          2049856|\n",
      "|   mean|1.6645771046223176E8|   null| 5915507.37680842|\n",
      "| stddev|1.6287908907350207E7|   null|6653398.679705742|\n",
      "|    min|             2626270|      D|               -1|\n",
      "|    max|           168941043|      S|         24024145|\n",
      "+-------+--------------------+-------+-----------------+\n",
      "\n"
     ]
    }
   ],
   "source": [
    "# show the descriptive statistics of the DataFrame\n",
    "df.describe().show()"
   ]
  },
  {
   "cell_type": "markdown",
   "metadata": {},
   "source": [
    "### Missing Values\n",
    "Only Nulls in **song_id** feature."
   ]
  },
  {
   "cell_type": "code",
   "execution_count": 8,
   "metadata": {},
   "outputs": [
    {
     "name": "stdout",
     "output_type": "stream",
     "text": [
      "+---+-----+-------+----+\n",
      "|uid|event|song_id|date|\n",
      "+---+-----+-------+----+\n",
      "|  0|    0| 144712|   0|\n",
      "+---+-----+-------+----+\n",
      "\n"
     ]
    }
   ],
   "source": [
    "# Count the number of Nulls in every feature\n",
    "df.select(*[F.sum(F.col(c).isNull().cast(\"int\")).alias(c) for c in df.columns]).show()"
   ]
  },
  {
   "cell_type": "code",
   "execution_count": 9,
   "metadata": {},
   "outputs": [
    {
     "name": "stdout",
     "output_type": "stream",
     "text": [
      "+---------+-----+-------+----------+\n",
      "|      uid|event|song_id|      date|\n",
      "+---------+-----+-------+----------+\n",
      "|168564110|    P|   null|2017-03-30|\n",
      "|168564110|    P|   null|2017-03-30|\n",
      "|168564110|    P|   null|2017-03-30|\n",
      "|168564110|    P|   null|2017-03-30|\n",
      "|168564110|    P|   null|2017-03-30|\n",
      "|168564110|    P|   null|2017-03-30|\n",
      "|168564110|    P|   null|2017-03-30|\n",
      "|168564110|    P|   null|2017-03-30|\n",
      "|168564110|    P|   null|2017-03-30|\n",
      "|168564110|    P|   null|2017-03-30|\n",
      "+---------+-----+-------+----------+\n",
      "only showing top 10 rows\n",
      "\n"
     ]
    }
   ],
   "source": [
    "# Check the data with missing values\n",
    "df.filter(F.col('song_id').isNull()).show(10)"
   ]
  },
  {
   "cell_type": "markdown",
   "metadata": {},
   "source": [
    "#### Nulls Pattern Inspection\n",
    "The song ids of the \"search\" event are all missing. A tiny proportion of the \"play\" event song ids is missing. None of song ids is absent in \"download\" event. "
   ]
  },
  {
   "cell_type": "code",
   "execution_count": 10,
   "metadata": {},
   "outputs": [
    {
     "name": "stdout",
     "output_type": "stream",
     "text": [
      "+-----+-------+\n",
      "|event|  count|\n",
      "+-----+-------+\n",
      "|    D| 119950|\n",
      "|    S| 144337|\n",
      "|    P|1930281|\n",
      "+-----+-------+\n",
      "\n",
      "+-----+------+\n",
      "|event| count|\n",
      "+-----+------+\n",
      "|    S|144337|\n",
      "|    P|   375|\n",
      "+-----+------+\n",
      "\n"
     ]
    }
   ],
   "source": [
    "# group by aggregation\n",
    "df.groupBy('event').count().show()\n",
    "df.filter(F.col('song_id').isNull()).groupBy('event').count().show()"
   ]
  },
  {
   "cell_type": "markdown",
   "metadata": {},
   "source": [
    "### Song ids and User ids"
   ]
  },
  {
   "cell_type": "code",
   "execution_count": 11,
   "metadata": {},
   "outputs": [
    {
     "data": {
      "text/plain": [
       "2194568"
      ]
     },
     "execution_count": 11,
     "metadata": {},
     "output_type": "execute_result"
    }
   ],
   "source": [
    "# simple count rows\n",
    "df.count()"
   ]
  },
  {
   "cell_type": "code",
   "execution_count": 12,
   "metadata": {},
   "outputs": [
    {
     "data": {
      "text/plain": [
       "(9757, 157320)"
      ]
     },
     "execution_count": 12,
     "metadata": {},
     "output_type": "execute_result"
    }
   ],
   "source": [
    "# count number of distinct user ids and song ids\n",
    "df.select('uid').distinct().count(), df.select('song_id').distinct().count()"
   ]
  },
  {
   "cell_type": "markdown",
   "metadata": {},
   "source": [
    "### Other Explorations"
   ]
  },
  {
   "cell_type": "code",
   "execution_count": 13,
   "metadata": {},
   "outputs": [
    {
     "name": "stdout",
     "output_type": "stream",
     "text": [
      "+-----+-------+---------+\n",
      "|event|  count|  max_uid|\n",
      "+-----+-------+---------+\n",
      "|    D| 119950|168941043|\n",
      "|    S| 144337|168941043|\n",
      "|    P|1930281|168941043|\n",
      "+-----+-------+---------+\n",
      "\n"
     ]
    }
   ],
   "source": [
    "# group by aggregation, more general (count, min, max, mean), multiple at once\n",
    "df.groupBy('event').agg(\n",
    "    F.count(F.col('uid')).alias('count'),\n",
    "    F.max(F.col('uid')).alias('max_uid')\n",
    ").show()"
   ]
  },
  {
   "cell_type": "code",
   "execution_count": 14,
   "metadata": {},
   "outputs": [
    {
     "name": "stdout",
     "output_type": "stream",
     "text": [
      "+----------+-----+-----+\n",
      "|      date|event|count|\n",
      "+----------+-----+-----+\n",
      "|2017-04-01|    D| 4921|\n",
      "|2017-04-01|    P|83997|\n",
      "|2017-04-01|    S| 5307|\n",
      "|2017-04-02|    D| 3784|\n",
      "|2017-04-02|    P|74020|\n",
      "|2017-04-02|    S| 5182|\n",
      "|2017-04-03|    D| 2858|\n",
      "|2017-04-03|    P|    6|\n",
      "|2017-04-03|    S| 4533|\n",
      "|2017-04-04|    D| 3104|\n",
      "|2017-04-04|    P|61541|\n",
      "|2017-04-04|    S| 4213|\n",
      "|2017-04-05|    D| 2145|\n",
      "|2017-04-05|    P|51591|\n",
      "|2017-04-05|    S| 3290|\n",
      "+----------+-----+-----+\n",
      "\n"
     ]
    }
   ],
   "source": [
    "# filter operation\n",
    "# group by aggregation\n",
    "# order by operation\n",
    "df.filter((F.col('date')>='2017-04-01') & (F.col('date')<='2017-04-05')) \\\n",
    "                    .groupBy('date','event').count() \\\n",
    "                    .orderBy('date','event').show()"
   ]
  },
  {
   "cell_type": "markdown",
   "metadata": {},
   "source": [
    "#### Pot Number of Records on each day"
   ]
  },
  {
   "cell_type": "code",
   "execution_count": 15,
   "metadata": {},
   "outputs": [
    {
     "name": "stdout",
     "output_type": "stream",
     "text": [
      "<class 'pandas.core.frame.DataFrame'>\n",
      "RangeIndex: 44 entries, 0 to 43\n",
      "Data columns (total 2 columns):\n",
      "date     44 non-null object\n",
      "count    44 non-null int64\n",
      "dtypes: int64(1), object(1)\n",
      "memory usage: 784.0+ bytes\n"
     ]
    }
   ],
   "source": [
    "date_count = df.groupBy('date').count().toPandas()\n",
    "date_count.info()"
   ]
  },
  {
   "cell_type": "markdown",
   "metadata": {},
   "source": [
    "##### Two Ways to change column type of \"datetime\" (OPTIONAL) in pandas."
   ]
  },
  {
   "cell_type": "code",
   "execution_count": 16,
   "metadata": {},
   "outputs": [],
   "source": [
    "# # 1.\n",
    "# import pandas as pd\n",
    "# date_count['date'] = pd.to_datetime(date_count['date'])\n",
    "# # 2. \n",
    "# date_count['date'] = date_count['date'].astype('datetime64[D]')\n",
    "# date_count.info()"
   ]
  },
  {
   "cell_type": "code",
   "execution_count": 17,
   "metadata": {},
   "outputs": [
    {
     "data": {
      "text/html": [
       "<div>\n",
       "<style scoped>\n",
       "    .dataframe tbody tr th:only-of-type {\n",
       "        vertical-align: middle;\n",
       "    }\n",
       "\n",
       "    .dataframe tbody tr th {\n",
       "        vertical-align: top;\n",
       "    }\n",
       "\n",
       "    .dataframe thead th {\n",
       "        text-align: right;\n",
       "    }\n",
       "</style>\n",
       "<table border=\"1\" class=\"dataframe\">\n",
       "  <thead>\n",
       "    <tr style=\"text-align: right;\">\n",
       "      <th></th>\n",
       "      <th>date</th>\n",
       "      <th>count</th>\n",
       "    </tr>\n",
       "  </thead>\n",
       "  <tbody>\n",
       "    <tr>\n",
       "      <th>19</th>\n",
       "      <td>2017-03-30</td>\n",
       "      <td>344632</td>\n",
       "    </tr>\n",
       "    <tr>\n",
       "      <th>32</th>\n",
       "      <td>2017-03-31</td>\n",
       "      <td>145109</td>\n",
       "    </tr>\n",
       "    <tr>\n",
       "      <th>41</th>\n",
       "      <td>2017-04-01</td>\n",
       "      <td>94225</td>\n",
       "    </tr>\n",
       "    <tr>\n",
       "      <th>8</th>\n",
       "      <td>2017-04-02</td>\n",
       "      <td>82986</td>\n",
       "    </tr>\n",
       "    <tr>\n",
       "      <th>36</th>\n",
       "      <td>2017-04-04</td>\n",
       "      <td>68858</td>\n",
       "    </tr>\n",
       "    <tr>\n",
       "      <th>7</th>\n",
       "      <td>2017-04-07</td>\n",
       "      <td>58705</td>\n",
       "    </tr>\n",
       "    <tr>\n",
       "      <th>11</th>\n",
       "      <td>2017-04-05</td>\n",
       "      <td>57026</td>\n",
       "    </tr>\n",
       "    <tr>\n",
       "      <th>26</th>\n",
       "      <td>2017-04-06</td>\n",
       "      <td>56515</td>\n",
       "    </tr>\n",
       "    <tr>\n",
       "      <th>20</th>\n",
       "      <td>2017-04-08</td>\n",
       "      <td>54848</td>\n",
       "    </tr>\n",
       "    <tr>\n",
       "      <th>0</th>\n",
       "      <td>2017-04-09</td>\n",
       "      <td>51591</td>\n",
       "    </tr>\n",
       "  </tbody>\n",
       "</table>\n",
       "</div>"
      ],
      "text/plain": [
       "          date   count\n",
       "19  2017-03-30  344632\n",
       "32  2017-03-31  145109\n",
       "41  2017-04-01   94225\n",
       "8   2017-04-02   82986\n",
       "36  2017-04-04   68858\n",
       "7   2017-04-07   58705\n",
       "11  2017-04-05   57026\n",
       "26  2017-04-06   56515\n",
       "20  2017-04-08   54848\n",
       "0   2017-04-09   51591"
      ]
     },
     "execution_count": 17,
     "metadata": {},
     "output_type": "execute_result"
    }
   ],
   "source": [
    "date_count.sort_values(by='count', ascending=False).head(10)"
   ]
  },
  {
   "cell_type": "code",
   "execution_count": 18,
   "metadata": {},
   "outputs": [
    {
     "data": {
      "text/plain": [
       "(array([736419., 736426., 736433., 736440., 736447., 736454., 736461.]),\n",
       " <a list of 7 Text xticklabel objects>)"
      ]
     },
     "execution_count": 18,
     "metadata": {},
     "output_type": "execute_result"
    },
    {
     "data": {
      "image/png": "[encoded data removed]",
      "text/plain": [
       "<Figure size 432x288 with 1 Axes>"
      ]
     },
     "metadata": {},
     "output_type": "display_data"
    }
   ],
   "source": [
    "plt.bar(date_count['date'].tolist(), date_count['count'])\n",
    "plt.xticks(rotation='vertical')"
   ]
  },
  {
   "cell_type": "code",
   "execution_count": null,
   "metadata": {},
   "outputs": [],
   "source": []
  },
  {
   "cell_type": "markdown",
   "metadata": {},
   "source": [
    "---\n",
    "---\n",
    "## Label definition"
   ]
  },
  {
   "cell_type": "code",
   "execution_count": 19,
   "metadata": {},
   "outputs": [
    {
     "name": "stdout",
     "output_type": "stream",
     "text": [
      "label window: 2017-04-29 ~ 2017-05-12 days: 14\n",
      "feature window: 2017-03-30 ~ 2017-04-28 days: 30\n"
     ]
    }
   ],
   "source": [
    "import datetime\n",
    "from dateutil import parser\n",
    "\n",
    "label_window_size = 14\n",
    "label_window_end_date = parser.parse('2017-05-12').date()\n",
    "label_window_start_date = label_window_end_date \\\n",
    "    - datetime.timedelta(label_window_size - 1)\n",
    "print('label window:',label_window_start_date,\n",
    "      '~',label_window_end_date,\n",
    "      'days:',label_window_size)\n",
    "\n",
    "feature_window_size = 30\n",
    "feature_window_end_date = label_window_start_date - datetime.timedelta(1)\n",
    "feature_window_start_date = feature_window_end_date \\\n",
    "    - datetime.timedelta(feature_window_size - 1)\n",
    "print('feature window:',feature_window_start_date,\n",
    "      '~',feature_window_end_date,'days:',feature_window_size)\n",
    "\n",
    "# all the uid we will model\n",
    "df_model_uid = df.filter((F.col('date')>=feature_window_start_date) \\\n",
    "                         & (F.col('date')<=feature_window_end_date))\\\n",
    "                    .select('uid').distinct()\n",
    "\n",
    "# active in label window (active label=0)\n",
    "df_active_uid_in_label_window = df.filter((F.col('date')>=label_window_start_date) \\\n",
    "                                          & (F.col('date')<=label_window_end_date))\\\n",
    "                            .select('uid').distinct().withColumn('label',F.lit(0))"
   ]
  },
  {
   "cell_type": "code",
   "execution_count": 20,
   "metadata": {},
   "outputs": [],
   "source": [
    "# df_active_uid_in_label_window.show()\n",
    "# df_model_uid.show()"
   ]
  },
  {
   "cell_type": "markdown",
   "metadata": {},
   "source": [
    "**1 means churn, 0 means still active**"
   ]
  },
  {
   "cell_type": "code",
   "execution_count": 21,
   "metadata": {},
   "outputs": [],
   "source": [
    "# prepare label data (churn label=1; active label=0)\n",
    "df_label = df_model_uid.join(df_active_uid_in_label_window,on=['uid'],how='left')\n",
    "df_label = df_label.fillna(1)"
   ]
  },
  {
   "cell_type": "code",
   "execution_count": 22,
   "metadata": {},
   "outputs": [
    {
     "name": "stdout",
     "output_type": "stream",
     "text": [
      "+-----+-----+\n",
      "|label|count|\n",
      "+-----+-----+\n",
      "|    1| 6679|\n",
      "|    0| 3078|\n",
      "+-----+-----+\n",
      "\n"
     ]
    }
   ],
   "source": [
    "df_label.groupBy('label').count().show()"
   ]
  },
  {
   "cell_type": "code",
   "execution_count": null,
   "metadata": {},
   "outputs": [],
   "source": []
  },
  {
   "cell_type": "markdown",
   "metadata": {},
   "source": [
    "---\n",
    "---\n",
    "## Feature generation"
   ]
  },
  {
   "cell_type": "code",
   "execution_count": 23,
   "metadata": {},
   "outputs": [],
   "source": [
    "# event_data in feature_window\n",
    "df_feature_window = df.filter((F.col('date')>=feature_window_start_date) \\\n",
    "                              & (F.col('date')<=feature_window_end_date))"
   ]
  },
  {
   "cell_type": "markdown",
   "metadata": {},
   "source": [
    "### Frequency features"
   ]
  },
  {
   "cell_type": "code",
   "execution_count": 24,
   "metadata": {},
   "outputs": [
    {
     "name": "stdout",
     "output_type": "stream",
     "text": [
      "+---------+-----+--------+----------+\n",
      "|      uid|event| song_id|      date|\n",
      "+---------+-----+--------+----------+\n",
      "|168535490|    P| 6616004|2017-03-30|\n",
      "|168551042|    P|  505355|2017-03-30|\n",
      "|168540348|    P|   77260|2017-03-30|\n",
      "|168530895|    P|       0|2017-03-30|\n",
      "|168530479|    P| 1676759|2017-03-30|\n",
      "|168551607|    P| 5517668|2017-03-30|\n",
      "|168548101|    P| 6913185|2017-03-30|\n",
      "|168542680|    P|       0|2017-03-30|\n",
      "|168550237|    P| 6511070|2017-03-30|\n",
      "|168519439|    P|       0|2017-03-30|\n",
      "|168548942|    P| 4112522|2017-03-30|\n",
      "|168551495|    P|22797719|2017-03-30|\n",
      "|168551383|    P| 7149583|2017-03-30|\n",
      "|168550382|    P| 3971726|2017-03-30|\n",
      "|168548945|    P|20429929|2017-03-30|\n",
      "|168550086|    P| 7172624|2017-03-30|\n",
      "|168540348|    P| 6437996|2017-03-30|\n",
      "|168551522|    P|  150918|2017-03-30|\n",
      "|168541857|    P|  295529|2017-03-30|\n",
      "|168546393|    P|  242615|2017-03-30|\n",
      "+---------+-----+--------+----------+\n",
      "only showing top 20 rows\n",
      "\n"
     ]
    }
   ],
   "source": [
    "# Recall our DataSet\n",
    "df.show()"
   ]
  },
  {
   "cell_type": "markdown",
   "metadata": {},
   "source": [
    "##### method 1"
   ]
  },
  {
   "cell_type": "code",
   "execution_count": 25,
   "metadata": {},
   "outputs": [],
   "source": [
    "# # define a function to generate frequency features\n",
    "# def frequency_feature_generation(df,event,time_window,snapshot_date):\n",
    "#     \"\"\"\n",
    "#     generate frequency features for one event type and one time window\n",
    "#     \"\"\"\n",
    "#     df_feature = df.filter(F.col('event')==event)\\\n",
    "#             .filter((F.col('date')>=snapshot_date-datetime.timedelta(time_window-1)) \\\n",
    "#                     & (F.col('date')<=snapshot_date))\\\n",
    "#             .groupBy('uid').agg(F.count(F.col('uid')).alias('freq_'+event+'_last_'+str(time_window)))\n",
    "#     return df_feature"
   ]
  },
  {
   "cell_type": "code",
   "execution_count": 26,
   "metadata": {},
   "outputs": [],
   "source": [
    "# # generate one feature\n",
    "# event = 'S'\n",
    "# time_window = 3\n",
    "# snapshot_date = feature_window_end_date\n",
    "# df_feature = frequency_feature_generation(df_feature_window,event,time_window,snapshot_date)"
   ]
  },
  {
   "cell_type": "code",
   "execution_count": 27,
   "metadata": {},
   "outputs": [],
   "source": [
    "# df_feature.show(5)"
   ]
  },
  {
   "cell_type": "code",
   "execution_count": 28,
   "metadata": {},
   "outputs": [],
   "source": [
    "# # generate frequency features for all event_list, time_window_list\n",
    "# event_list = ['P','D','S']\n",
    "# time_window_list = [1,3,7,14,30]\n",
    "# df_feature_list = []\n",
    "# for event in event_list:\n",
    "#     for time_window in time_window_list:\n",
    "#         df_feature_list.append(frequency_feature_generation(df_feature_window,event,time_window,snapshot_date))\n",
    "# df_feature_list"
   ]
  },
  {
   "cell_type": "markdown",
   "metadata": {},
   "source": [
    "##### method 2: too many dfs to join? do it another way"
   ]
  },
  {
   "cell_type": "code",
   "execution_count": 29,
   "metadata": {},
   "outputs": [],
   "source": [
    "# print([1,2], *[1,2])"
   ]
  },
  {
   "cell_type": "code",
   "execution_count": 30,
   "metadata": {},
   "outputs": [],
   "source": [
    "# define a function to generate frequency features for a list of time windows\n",
    "# using when().otherwise(), and list comprehension trick!\n",
    "def frequency_feature_generation_time_windows(df,event,time_window_list,snapshot_date):\n",
    "    \"\"\"\n",
    "    generate frequency features for one event type and a list of time windows\n",
    "    \"\"\"\n",
    "    df_feature = df \\\n",
    "        .filter(F.col('event')==event) \\\n",
    "        .groupBy('uid') \\\n",
    "        .agg(*[F.sum(F.when((F.col('date')>=snapshot_date-datetime.timedelta(time_window-1)) \\\n",
    "                            & (F.col('date')<=snapshot_date),1).otherwise(0))\\\n",
    "               .alias('freq_'+event+'_last_'+str(time_window)) \\\n",
    "                for time_window in time_window_list]\n",
    "            )# *[] opens list and make them comma separated\n",
    "    return df_feature"
   ]
  },
  {
   "cell_type": "code",
   "execution_count": 31,
   "metadata": {},
   "outputs": [
    {
     "name": "stdout",
     "output_type": "stream",
     "text": [
      "+---------+-------------+-------------+-------------+--------------+--------------+\n",
      "|      uid|freq_S_last_1|freq_S_last_3|freq_S_last_7|freq_S_last_14|freq_S_last_30|\n",
      "+---------+-------------+-------------+-------------+--------------+--------------+\n",
      "|168552245|            0|            0|            0|             0|             8|\n",
      "|168556386|            0|            0|            0|             0|             2|\n",
      "|168625286|            0|            0|            0|             0|             2|\n",
      "|168667784|            0|            0|            0|             0|             9|\n",
      "|168673276|            0|            0|            0|             0|            12|\n",
      "+---------+-------------+-------------+-------------+--------------+--------------+\n",
      "only showing top 5 rows\n",
      "\n"
     ]
    }
   ],
   "source": [
    "# generate one event type, all time windows \n",
    "event = 'S'\n",
    "time_window_list = [1,3,7,14,30]\n",
    "snapshot_date = feature_window_end_date\n",
    "df_feature = frequency_feature_generation_time_windows(df_feature_window,event,time_window_list,snapshot_date)\n",
    "df_feature.show(5)"
   ]
  },
  {
   "cell_type": "code",
   "execution_count": 32,
   "metadata": {},
   "outputs": [],
   "source": [
    "# generate frequency features for all event_list, time_window_list\n",
    "event_list = ['P','D','S']\n",
    "time_window_list = [1,3,7,14,30]\n",
    "snapshot_date = feature_window_end_date\n",
    "\n",
    "df_feature_list = []\n",
    "for event in event_list:\n",
    "    df_feature_list.append(frequency_feature_generation_time_windows(df_feature_window,event,\n",
    "                                                                     time_window_list,snapshot_date))\n"
   ]
  },
  {
   "cell_type": "code",
   "execution_count": 33,
   "metadata": {},
   "outputs": [
    {
     "data": {
      "text/plain": [
       "[DataFrame[uid: int, freq_P_last_1: bigint, freq_P_last_3: bigint, freq_P_last_7: bigint, freq_P_last_14: bigint, freq_P_last_30: bigint],\n",
       " DataFrame[uid: int, freq_D_last_1: bigint, freq_D_last_3: bigint, freq_D_last_7: bigint, freq_D_last_14: bigint, freq_D_last_30: bigint],\n",
       " DataFrame[uid: int, freq_S_last_1: bigint, freq_S_last_3: bigint, freq_S_last_7: bigint, freq_S_last_14: bigint, freq_S_last_30: bigint]]"
      ]
     },
     "execution_count": 33,
     "metadata": {},
     "output_type": "execute_result"
    }
   ],
   "source": [
    "df_feature_list"
   ]
  },
  {
   "cell_type": "markdown",
   "metadata": {},
   "source": [
    "### Recency features"
   ]
  },
  {
   "cell_type": "code",
   "execution_count": 34,
   "metadata": {},
   "outputs": [],
   "source": [
    "# defined as days from last event\n",
    "# can generate one feature for each type of event\n",
    "\n",
    "from datetime import timedelta\n",
    "def recency_feature_generation_time_windows(df,event,snapshot_date):\n",
    "    \"\"\"\n",
    "    generate recency features for one event type, so totally 3 possible features\n",
    "    \"\"\"\n",
    "#     df_feature = df \\\n",
    "#         .filter(F.col('event')==event) \\\n",
    "#         .groupBy('uid') \\\n",
    "#         .agg(F.max(F.col('date')).alias('rec_' + event + '_date') \n",
    "#             ) \\\n",
    "#         .withColumn('snapshot_date', F.lit(snapshot_date))\n",
    "#     df_feature = df_feature.withColumn('rec_' + event, F.datediff(F.col('snapshot_date'), \n",
    "#                                                                   F.col('rec_' + event + '_date')))\n",
    "    df_feature = df \\\n",
    "        .filter(F.col('event')==event) \\\n",
    "        .groupBy('uid') \\\n",
    "        .agg(F.datediff(F.lit(snapshot_date), F.max(F.col('date'))).alias('rec_' + event) \n",
    "            ) \n",
    "    \n",
    "    return df_feature"
   ]
  },
  {
   "cell_type": "code",
   "execution_count": 35,
   "metadata": {},
   "outputs": [
    {
     "name": "stdout",
     "output_type": "stream",
     "text": [
      "+---------+-----+\n",
      "|      uid|rec_S|\n",
      "+---------+-----+\n",
      "|168552245|   29|\n",
      "|168556386|   29|\n",
      "|168625286|   29|\n",
      "|168667784|   26|\n",
      "|168673276|   29|\n",
      "|168678563|    5|\n",
      "|168757796|    1|\n",
      "|168814832|   15|\n",
      "|168816012|   29|\n",
      "|168819137|   29|\n",
      "+---------+-----+\n",
      "only showing top 10 rows\n",
      "\n"
     ]
    }
   ],
   "source": [
    "# generate one event type, all time windows \n",
    "event = 'S'\n",
    "snapshot_date = feature_window_end_date\n",
    "df_feature = recency_feature_generation_time_windows(df_feature_window,event,\n",
    "                                                       snapshot_date)\n",
    "df_feature.show(10)"
   ]
  },
  {
   "cell_type": "code",
   "execution_count": 36,
   "metadata": {},
   "outputs": [
    {
     "data": {
      "text/plain": [
       "[DataFrame[uid: int, freq_P_last_1: bigint, freq_P_last_3: bigint, freq_P_last_7: bigint, freq_P_last_14: bigint, freq_P_last_30: bigint],\n",
       " DataFrame[uid: int, freq_D_last_1: bigint, freq_D_last_3: bigint, freq_D_last_7: bigint, freq_D_last_14: bigint, freq_D_last_30: bigint],\n",
       " DataFrame[uid: int, freq_S_last_1: bigint, freq_S_last_3: bigint, freq_S_last_7: bigint, freq_S_last_14: bigint, freq_S_last_30: bigint],\n",
       " DataFrame[uid: int, rec_P: int],\n",
       " DataFrame[uid: int, rec_D: int],\n",
       " DataFrame[uid: int, rec_S: int]]"
      ]
     },
     "execution_count": 36,
     "metadata": {},
     "output_type": "execute_result"
    }
   ],
   "source": [
    "# generate recency features for all event_list\n",
    "event_list = ['P','D','S']\n",
    "snapshot_date = feature_window_end_date\n",
    "\n",
    "for event in event_list:\n",
    "    df_feature_list.append(recency_feature_generation_time_windows(df_feature_window,event,\n",
    "                                                                     snapshot_date))\n",
    "df_feature_list"
   ]
  },
  {
   "cell_type": "markdown",
   "metadata": {},
   "source": [
    "### Acceleration Feature\n",
    "\n",
    "To be added at the end of this file "
   ]
  },
  {
   "cell_type": "code",
   "execution_count": null,
   "metadata": {},
   "outputs": [],
   "source": []
  },
  {
   "cell_type": "markdown",
   "metadata": {},
   "source": [
    "---\n",
    "### Profile features"
   ]
  },
  {
   "cell_type": "code",
   "execution_count": 37,
   "metadata": {},
   "outputs": [
    {
     "name": "stdout",
     "output_type": "stream",
     "text": [
      "+---------+------+-------+----------+---------+-----------+\n",
      "|      uid|device|song_id|      date|play_time|song_length|\n",
      "+---------+------+-------+----------+---------+-----------+\n",
      "|168535490|    ar|6616004|2017-03-30|      283|        283|\n",
      "|168551042|    ar| 505355|2017-03-30|      106|        277|\n",
      "|168540348|    ar|  77260|2017-03-30|    64528|          0|\n",
      "|168530895|    ar|      0|2017-03-30|      264|        265|\n",
      "|168530479|    ar|1676759|2017-03-30|      338|        338|\n",
      "|168551607|    ar|5517668|2017-03-30|      231|        245|\n",
      "|168548101|    ip|6913185|2017-03-30|       40|        198|\n",
      "|168542680|    ar|      0|2017-03-30|      284|        285|\n",
      "|168550237|    ar|6511070|2017-03-30|      144|        237|\n",
      "|168519439|    ar|      0|2017-03-30|      227|        228|\n",
      "+---------+------+-------+----------+---------+-----------+\n",
      "only showing top 10 rows\n",
      "\n"
     ]
    }
   ],
   "source": [
    "df_play = spark.read.csv('../data/play_ds.csv',header=True)\n",
    "df_play.show(10)"
   ]
  },
  {
   "cell_type": "code",
   "execution_count": 38,
   "metadata": {},
   "outputs": [
    {
     "data": {
      "text/plain": [
       "DataFrame[uid: string, device: string, song_id: string, date: string, play_time: string, song_length: string]"
      ]
     },
     "execution_count": 38,
     "metadata": {},
     "output_type": "execute_result"
    }
   ],
   "source": [
    "df_play_feature_window = df_play.filter((F.col('date')>=feature_window_start_date) \\\n",
    "                                        & (F.col('date')<=feature_window_end_date))\n",
    "df_play_feature_window"
   ]
  },
  {
   "cell_type": "code",
   "execution_count": 39,
   "metadata": {},
   "outputs": [
    {
     "name": "stdout",
     "output_type": "stream",
     "text": [
      "+------+-----+\n",
      "|device|count|\n",
      "+------+-----+\n",
      "|    ar| 8640|\n",
      "|    ip| 1125|\n",
      "+------+-----+\n",
      "\n"
     ]
    }
   ],
   "source": [
    "df_profile_tmp = df_play_feature_window.select('uid','device').distinct()\n",
    "df_profile_tmp.groupBy('device').count().show()"
   ]
  },
  {
   "cell_type": "markdown",
   "metadata": {},
   "source": [
    "9765 = 8640 + 1125. Thus no user has two devices"
   ]
  },
  {
   "cell_type": "code",
   "execution_count": 40,
   "metadata": {},
   "outputs": [
    {
     "data": {
      "text/plain": [
       "9765"
      ]
     },
     "execution_count": 40,
     "metadata": {},
     "output_type": "execute_result"
    }
   ],
   "source": [
    "# check if one user has two devices\n",
    "df_profile_tmp.count()"
   ]
  },
  {
   "cell_type": "markdown",
   "metadata": {},
   "source": [
    "Replace **iphone device with 1, and android device with 2**, for furthe modelling."
   ]
  },
  {
   "cell_type": "code",
   "execution_count": 41,
   "metadata": {},
   "outputs": [
    {
     "name": "stdout",
     "output_type": "stream",
     "text": [
      "+-----------+-----+\n",
      "|device_type|count|\n",
      "+-----------+-----+\n",
      "|          1| 1125|\n",
      "|          2| 8640|\n",
      "+-----------+-----+\n",
      "\n"
     ]
    }
   ],
   "source": [
    "df_profile_tmp = df_profile_tmp.withColumn('device_type',F.when(F.col('device')=='ip',1).otherwise(2))\n",
    "df_profile_tmp.groupBy('device_type').count().show()"
   ]
  },
  {
   "cell_type": "markdown",
   "metadata": {},
   "source": [
    "<font color = red>\n",
    "**Note that df_label is our \"target\" dataset. And we do all the joins based upon it**."
   ]
  },
  {
   "cell_type": "code",
   "execution_count": 42,
   "metadata": {},
   "outputs": [
    {
     "name": "stdout",
     "output_type": "stream",
     "text": [
      "+-----------+-----+\n",
      "|device_type|count|\n",
      "+-----------+-----+\n",
      "|          1| 1125|\n",
      "|          2| 8640|\n",
      "+-----------+-----+\n",
      "\n"
     ]
    }
   ],
   "source": [
    "df_profile = df_label.select('uid').join(df_profile_tmp.select('uid','device_type'),on='uid',how='left')\n",
    "df_profile.groupBy('device_type').count().show()"
   ]
  },
  {
   "cell_type": "markdown",
   "metadata": {},
   "source": [
    "---\n",
    "### Total play time features\n",
    "\n",
    "Remember in the dataset, the type of play_time is \"string\", we have to convert it to \"int\""
   ]
  },
  {
   "cell_type": "code",
   "execution_count": 43,
   "metadata": {},
   "outputs": [],
   "source": [
    "# df_play_feature_window.show(10)\n",
    "df_profile_tmp1 = df_play_feature_window.select('uid','date','play_time','song_length').distinct() \\\n",
    "    .withColumn('play_time', F.col('play_time').cast(\"float\")) \\\n",
    "    .withColumn('song_length', F.col('song_length').cast('float'))"
   ]
  },
  {
   "cell_type": "markdown",
   "metadata": {},
   "source": [
    "However, one need to pay special attention to the odd behaviors of \"play_time\" and \"song_length\"."
   ]
  },
  {
   "cell_type": "code",
   "execution_count": 44,
   "metadata": {},
   "outputs": [
    {
     "name": "stdout",
     "output_type": "stream",
     "text": [
      "+-------+--------------------+----------+-------------------+-------------------+\n",
      "|summary|                 uid|      date|          play_time|        song_length|\n",
      "+-------+--------------------+----------+-------------------+-------------------+\n",
      "|  count|             1092280|   1092280|            1083275|            1092279|\n",
      "|   mean|1.6655997408752608E8|      null|-381.16257441989154|-1641.3405991024893|\n",
      "| stddev|1.5822782106036628E7|      null|  2063424.866350916|  2054774.116935796|\n",
      "|    min|           104156596|2017-03-30|      -2.14748365E9|      -2.14748365E9|\n",
      "|    max|            98212708|2017-04-28|          9888346.0|          2096042.0|\n",
      "+-------+--------------------+----------+-------------------+-------------------+\n",
      "\n"
     ]
    }
   ],
   "source": [
    "df_profile_tmp1.describe().show()"
   ]
  },
  {
   "cell_type": "markdown",
   "metadata": {},
   "source": [
    "<font color = red>\n",
    "#### Clean play_time feature"
   ]
  },
  {
   "cell_type": "markdown",
   "metadata": {},
   "source": [
    "1. Check all negative play_time and song_length \n",
    "\n",
    "Tiny proportion of play_time and song_length are negative, we can just remove them. "
   ]
  },
  {
   "cell_type": "code",
   "execution_count": 45,
   "metadata": {},
   "outputs": [
    {
     "name": "stdout",
     "output_type": "stream",
     "text": [
      "+------------------------+--------------------------+\n",
      "|play_time_neg_percentage|song_length_neg_percentage|\n",
      "+------------------------+--------------------------+\n",
      "|                  3.0E-6|                    6.0E-5|\n",
      "+------------------------+--------------------------+\n",
      "\n"
     ]
    }
   ],
   "source": [
    "N = df_profile_tmp1.count()\n",
    "df_profile_tmp1.select(F.round(F.sum(F.when(F.col('play_time') < 0, 1).otherwise(0)) / N, 6)  \\\n",
    "                       .alias('play_time_neg_percentage'), \n",
    "                      F.round(F.sum(F.when(F.col('song_length') < 0, 1).otherwise(0)) / N, 6)  \\\n",
    "                       .alias('song_length_neg_percentage')).show()"
   ]
  },
  {
   "cell_type": "code",
   "execution_count": 46,
   "metadata": {},
   "outputs": [
    {
     "name": "stdout",
     "output_type": "stream",
     "text": [
      "+-------+--------------------+----------+------------------+------------------+\n",
      "|summary|                 uid|      date|         play_time|       song_length|\n",
      "+-------+--------------------+----------+------------------+------------------+\n",
      "|  count|             1083207|   1083207|           1083207|           1083207|\n",
      "|   mean|1.6655797537946394E8|      null|1593.7828071728877|265.94458994412713|\n",
      "| stddev|1.5857028867894515E7|      null| 23217.96203477057| 309.7476090964457|\n",
      "|    min|           104156596|2017-03-30|               0.0|               0.0|\n",
      "|    max|            98212708|2017-04-28|         9888346.0|           10920.0|\n",
      "+-------+--------------------+----------+------------------+------------------+\n",
      "\n"
     ]
    }
   ],
   "source": [
    "df_profile_tmp1 = df_profile_tmp1.filter((F.col('play_time') >= 0) & (F.col('song_length') >= 0))\n",
    "df_profile_tmp1.describe().show()"
   ]
  },
  {
   "cell_type": "markdown",
   "metadata": {},
   "source": [
    "2. Remove the play_time that is longer than song_length. We treat it as some unknown systematic error."
   ]
  },
  {
   "cell_type": "code",
   "execution_count": 47,
   "metadata": {},
   "outputs": [
    {
     "name": "stdout",
     "output_type": "stream",
     "text": [
      "+-------+--------------------+----------+------------------+-----------------+\n",
      "|summary|                 uid|      date|         play_time|      song_length|\n",
      "+-------+--------------------+----------+------------------+-----------------+\n",
      "|  count|             1027416|   1027416|           1027416|          1027416|\n",
      "|   mean|  1.66675004578166E8|      null|139.83209963660326|272.5067850879889|\n",
      "| stddev|1.5342973993016796E7|      null|193.82412103161897|313.8591847895198|\n",
      "|    min|           109031863|2017-03-30|               0.0|              0.0|\n",
      "|    max|            98212708|2017-04-28|            8714.0|          10920.0|\n",
      "+-------+--------------------+----------+------------------+-----------------+\n",
      "\n"
     ]
    }
   ],
   "source": [
    "df_profile_tmp1 = df_profile_tmp1.filter(F.col('play_time') <= F.col('song_length'))\n",
    "df_profile_tmp1.describe().show()"
   ]
  },
  {
   "cell_type": "code",
   "execution_count": 48,
   "metadata": {},
   "outputs": [
    {
     "data": {
      "text/plain": [
       "0.9406159592778408"
      ]
     },
     "execution_count": 48,
     "metadata": {},
     "output_type": "execute_result"
    }
   ],
   "source": [
    "# we do not exclude too much data points and the paly_time and song_length seems reasonable after this transfermation. \n",
    "df_profile_tmp1.count() / N"
   ]
  },
  {
   "cell_type": "markdown",
   "metadata": {},
   "source": [
    "Check the distribution of these two variables after cleansing."
   ]
  },
  {
   "cell_type": "code",
   "execution_count": 49,
   "metadata": {},
   "outputs": [
    {
     "data": {
      "text/plain": [
       "array([[<matplotlib.axes._subplots.AxesSubplot object at 0x12e1f4160>,\n",
       "        <matplotlib.axes._subplots.AxesSubplot object at 0x11a27b6a0>]],\n",
       "      dtype=object)"
      ]
     },
     "execution_count": 49,
     "metadata": {},
     "output_type": "execute_result"
    },
    {
     "data": {
      "image/png": "[encoded data removed]",
      "text/plain": [
       "<Figure size 432x288 with 2 Axes>"
      ]
     },
     "metadata": {},
     "output_type": "display_data"
    }
   ],
   "source": [
    "play_time_pd = df_profile_tmp1.toPandas()\n",
    "import numpy as np\n",
    "play_time_pd['play_time_10^n'] = np.log10(play_time_pd['play_time'] + 1)\n",
    "play_time_pd['song_length_10^n'] = np.log10(play_time_pd['song_length'] + 1)\n",
    "\n",
    "play_time_pd[['play_time_10^n', 'song_length_10^n']].hist(bins = np.arange(0, 8, 1))"
   ]
  },
  {
   "cell_type": "markdown",
   "metadata": {},
   "source": [
    "<font color = red>\n",
    "    Assign \"target\" user id to this feature by joining the final dataset to the left of DataFrame \"df_label\"."
   ]
  },
  {
   "cell_type": "code",
   "execution_count": 50,
   "metadata": {},
   "outputs": [
    {
     "name": "stdout",
     "output_type": "stream",
     "text": [
      "+-------+--------------------+----------+------------------+\n",
      "|summary|                 uid|      date|         play_time|\n",
      "+-------+--------------------+----------+------------------+\n",
      "|  count|             1027610|   1027416|           1027416|\n",
      "|   mean| 1.666752098840533E8|      null|139.83209963660326|\n",
      "| stddev|1.5342076408365091E7|      null|193.82412103161897|\n",
      "|    min|             2626270|2017-03-30|               0.0|\n",
      "|    max|           168941043|2017-04-28|            8714.0|\n",
      "+-------+--------------------+----------+------------------+\n",
      "\n"
     ]
    }
   ],
   "source": [
    "df_profile1 = df_label.select('uid').join(df_profile_tmp1.select('uid','date','play_time'),on='uid',how='left')\n",
    "df_profile1.describe().show()"
   ]
  },
  {
   "cell_type": "code",
   "execution_count": 51,
   "metadata": {},
   "outputs": [
    {
     "name": "stdout",
     "output_type": "stream",
     "text": [
      "+---+----+---------+\n",
      "|uid|date|play_time|\n",
      "+---+----+---------+\n",
      "|  0| 194|      194|\n",
      "+---+----+---------+\n",
      "\n"
     ]
    }
   ],
   "source": [
    "# Count Missing Values\n",
    "df_profile1.select(*[F.sum(F.col(c).isNull().cast(\"int\")).alias(c) \\\n",
    "                        for c in df_profile1.columns]).show()"
   ]
  },
  {
   "cell_type": "code",
   "execution_count": 52,
   "metadata": {},
   "outputs": [],
   "source": [
    "def play_time_feature_generation_time_windows(df,time_window_list,snapshot_date):\n",
    "    \"\"\"\n",
    "    generate total song play time features (using play_ds data) for different time window\n",
    "    \"\"\"\n",
    "    df_feature = df \\\n",
    "        .groupBy('uid') \\\n",
    "        .agg(*[F.sum(F.when((F.col('date')>=snapshot_date-datetime.timedelta(time_window-1)) \\\n",
    "                            & (F.col('date')<=snapshot_date),F.col('play_time')).otherwise(0))\\\n",
    "               .alias('play_time_last_'+str(time_window)) \\\n",
    "                for time_window in time_window_list]\n",
    "            )# *[] opens list and make them comma separated\n",
    "    return df_feature"
   ]
  },
  {
   "cell_type": "code",
   "execution_count": 53,
   "metadata": {},
   "outputs": [
    {
     "name": "stdout",
     "output_type": "stream",
     "text": [
      "+--------+----------+---------+\n",
      "|     uid|      date|play_time|\n",
      "+--------+----------+---------+\n",
      "|34509854|2017-03-30|     51.0|\n",
      "|34509854|2017-03-30|     62.0|\n",
      "|34509854|2017-03-30|      0.0|\n",
      "|34509854|2017-03-30|   1808.0|\n",
      "|34509854|2017-04-28|    810.0|\n",
      "|34509854|2017-03-30|    256.0|\n",
      "|34509854|2017-03-30|    280.0|\n",
      "|34509854|2017-04-04|    194.0|\n",
      "|34509854|2017-03-30|    140.0|\n",
      "|34509854|2017-04-04|    208.0|\n",
      "+--------+----------+---------+\n",
      "only showing top 10 rows\n",
      "\n"
     ]
    }
   ],
   "source": [
    "# Recall df_profile1 \n",
    "df_profile1.show(10)"
   ]
  },
  {
   "cell_type": "code",
   "execution_count": 54,
   "metadata": {},
   "outputs": [],
   "source": [
    "# all time windows \n",
    "time_window_list = [1,3,7,14,30]\n",
    "snapshot_date = feature_window_end_date\n",
    "\n",
    "df_play_time_time_window = play_time_feature_generation_time_windows(df_profile1,\n",
    "                                                                     time_window_list,snapshot_date)"
   ]
  },
  {
   "cell_type": "code",
   "execution_count": 55,
   "metadata": {},
   "outputs": [
    {
     "name": "stdout",
     "output_type": "stream",
     "text": [
      "+---------+----------------+----------------+----------------+-----------------+-----------------+\n",
      "|      uid|play_time_last_1|play_time_last_3|play_time_last_7|play_time_last_14|play_time_last_30|\n",
      "+---------+----------------+----------------+----------------+-----------------+-----------------+\n",
      "| 34509854|          4150.0|          4622.0|          4622.0|           4622.0|          55245.0|\n",
      "| 56890349|          7173.0|         20678.0|         35220.0|          81315.0|         184721.0|\n",
      "|168552245|             0.0|             0.0|             0.0|              0.0|         132670.0|\n",
      "|168553859|             0.0|             0.0|             0.0|              0.0|           3819.0|\n",
      "|168556386|             0.0|             0.0|             0.0|              0.0|            202.0|\n",
      "|168556642|             0.0|             0.0|             0.0|              0.0|            250.0|\n",
      "|168577890|             0.0|             0.0|             0.0|              0.0|            848.0|\n",
      "|168590270|             0.0|          2343.0|          2343.0|           4064.0|          16168.0|\n",
      "|168605933|             0.0|             0.0|             0.0|              0.0|            764.0|\n",
      "|168613400|             0.0|             0.0|             0.0|              0.0|            250.0|\n",
      "+---------+----------------+----------------+----------------+-----------------+-----------------+\n",
      "only showing top 10 rows\n",
      "\n"
     ]
    }
   ],
   "source": [
    "df_play_time_time_window.show(10)"
   ]
  },
  {
   "cell_type": "markdown",
   "metadata": {},
   "source": [
    "---\n",
    "### Fancier frequency features"
   ]
  },
  {
   "cell_type": "markdown",
   "metadata": {},
   "source": [
    "We still build this feature based upon the previous cleansing."
   ]
  },
  {
   "cell_type": "code",
   "execution_count": 56,
   "metadata": {},
   "outputs": [
    {
     "name": "stdout",
     "output_type": "stream",
     "text": [
      "+-------+--------------------+----------+------------------+-----------------+\n",
      "|summary|                 uid|      date|         play_time|      song_length|\n",
      "+-------+--------------------+----------+------------------+-----------------+\n",
      "|  count|             1027610|   1027416|           1027416|          1027416|\n",
      "|   mean| 1.666752098840533E8|      null|139.83209963660326|272.5067850879889|\n",
      "| stddev|1.5342076408365091E7|      null|193.82412103161897|313.8591847895197|\n",
      "|    min|             2626270|2017-03-30|               0.0|              0.0|\n",
      "|    max|           168941043|2017-04-28|            8714.0|          10920.0|\n",
      "+-------+--------------------+----------+------------------+-----------------+\n",
      "\n"
     ]
    }
   ],
   "source": [
    "df_profile2 = df_label.select('uid').join(df_profile_tmp1.select('uid','date','play_time','song_length'),on='uid',how='left')\n",
    "df_profile2.describe().show()"
   ]
  },
  {
   "cell_type": "code",
   "execution_count": 57,
   "metadata": {},
   "outputs": [
    {
     "name": "stdout",
     "output_type": "stream",
     "text": [
      "+---+----+---------+-----------+\n",
      "|uid|date|play_time|song_length|\n",
      "+---+----+---------+-----------+\n",
      "|  0| 194|      194|        194|\n",
      "+---+----+---------+-----------+\n",
      "\n"
     ]
    }
   ],
   "source": [
    "# Count Missing Values\n",
    "df_profile2.select(*[F.sum(F.col(c).isNull().cast(\"int\")).alias(c) \\\n",
    "                        for c in df_profile2.columns]).show()"
   ]
  },
  {
   "cell_type": "code",
   "execution_count": 68,
   "metadata": {},
   "outputs": [],
   "source": [
    "df_profile2_copy = df_profile2.cache()"
   ]
  },
  {
   "cell_type": "code",
   "execution_count": 70,
   "metadata": {},
   "outputs": [],
   "source": [
    "df_pro2_pd = df_profile2_copy.withColumn('ratio', F.col('play_time')/F.col('song_length')).toPandas()"
   ]
  },
  {
   "cell_type": "code",
   "execution_count": 71,
   "metadata": {},
   "outputs": [
    {
     "data": {
      "text/plain": [
       "<matplotlib.axes._subplots.AxesSubplot at 0x127fbab70>"
      ]
     },
     "execution_count": 71,
     "metadata": {},
     "output_type": "execute_result"
    },
    {
     "data": {
      "image/png": "[encoded data removed]",
      "text/plain": [
       "<Figure size 432x288 with 1 Axes>"
      ]
     },
     "metadata": {},
     "output_type": "display_data"
    }
   ],
   "source": [
    "df_pro2_pd['ratio'].hist()"
   ]
  },
  {
   "cell_type": "code",
   "execution_count": 58,
   "metadata": {},
   "outputs": [],
   "source": [
    "def relative_freq_feature_generation_time_windows(df,time_window_list,snapshot_date):\n",
    "    \"\"\"\n",
    "    generate counts of songs play 80% of their song length (using play_ds data) for different time window\n",
    "    \"\"\"\n",
    "    df_feature = df \\\n",
    "        .groupBy('uid') \\\n",
    "        .agg(*[F.sum(F.when((F.col('date')>=snapshot_date-datetime.timedelta(time_window-1)) \\\n",
    "                            & (F.col('date')<=snapshot_date) \\\n",
    "                            & (F.col('play_time')/F.col('song_length')>=0.8),1).otherwise(0))\\\n",
    "               .alias('rela_freq_last_'+str(time_window)) \\\n",
    "                for time_window in time_window_list]\n",
    "            )# *[] opens list and make them comma separated\n",
    "    return df_feature"
   ]
  },
  {
   "cell_type": "code",
   "execution_count": 59,
   "metadata": {},
   "outputs": [],
   "source": [
    "# all time windows \n",
    "time_window_list = [1,3,7,14,30]\n",
    "snapshot_date = feature_window_end_date\n",
    "\n",
    "df_relative_freq_time_window = relative_freq_feature_generation_time_windows(df_profile2,\n",
    "                                                                     time_window_list,snapshot_date)"
   ]
  },
  {
   "cell_type": "code",
   "execution_count": 60,
   "metadata": {},
   "outputs": [
    {
     "name": "stdout",
     "output_type": "stream",
     "text": [
      "+---------+----------------+----------------+----------------+-----------------+-----------------+\n",
      "|      uid|rela_freq_last_1|rela_freq_last_3|rela_freq_last_7|rela_freq_last_14|rela_freq_last_30|\n",
      "+---------+----------------+----------------+----------------+-----------------+-----------------+\n",
      "| 34509854|               4|               5|               5|                5|               67|\n",
      "| 56890349|              28|              82|             141|              328|              751|\n",
      "|168552245|               0|               0|               0|                0|               80|\n",
      "|168553859|               0|               0|               0|                0|                0|\n",
      "|168556386|               0|               0|               0|                0|                0|\n",
      "|168556642|               0|               0|               0|                0|                1|\n",
      "|168577890|               0|               0|               0|                0|                3|\n",
      "|168590270|               0|               9|               9|               15|               62|\n",
      "|168605933|               0|               0|               0|                0|                4|\n",
      "|168613400|               0|               0|               0|                0|                1|\n",
      "+---------+----------------+----------------+----------------+-----------------+-----------------+\n",
      "only showing top 10 rows\n",
      "\n"
     ]
    }
   ],
   "source": [
    "df_relative_freq_time_window.show(10)"
   ]
  },
  {
   "cell_type": "markdown",
   "metadata": {},
   "source": [
    "---\n",
    "### Append all new features to df_profile"
   ]
  },
  {
   "cell_type": "code",
   "execution_count": 61,
   "metadata": {},
   "outputs": [
    {
     "data": {
      "text/plain": [
       "[DataFrame[uid: int, device_type: int],\n",
       " DataFrame[uid: int, play_time_last_1: double, play_time_last_3: double, play_time_last_7: double, play_time_last_14: double, play_time_last_30: double],\n",
       " DataFrame[uid: int, rela_freq_last_1: bigint, rela_freq_last_3: bigint, rela_freq_last_7: bigint, rela_freq_last_14: bigint, rela_freq_last_30: bigint]]"
      ]
     },
     "execution_count": 61,
     "metadata": {},
     "output_type": "execute_result"
    }
   ],
   "source": [
    "[df_profile, df_play_time_time_window, df_relative_freq_time_window]"
   ]
  },
  {
   "cell_type": "code",
   "execution_count": 62,
   "metadata": {},
   "outputs": [],
   "source": [
    "df_new_feature_list = [df_profile, df_play_time_time_window, df_relative_freq_time_window]"
   ]
  },
  {
   "cell_type": "code",
   "execution_count": null,
   "metadata": {},
   "outputs": [],
   "source": []
  },
  {
   "cell_type": "markdown",
   "metadata": {},
   "source": [
    "---\n",
    "---\n",
    "## Form training data\n",
    "We are going to join every new DataFrame we generated to the df_label dataset"
   ]
  },
  {
   "cell_type": "code",
   "execution_count": 63,
   "metadata": {},
   "outputs": [],
   "source": [
    "def join_feature_data(df_master,df_feature_list):\n",
    "    for df_feature in df_feature_list:\n",
    "        df_master = df_master.join(df_feature,on='uid',how='left')\n",
    "        #df_master.persist() # uncomment if number of joins is too many\n",
    "    return df_master    "
   ]
  },
  {
   "cell_type": "code",
   "execution_count": 64,
   "metadata": {},
   "outputs": [],
   "source": [
    "# join all behavior features\n",
    "df_model_final = join_feature_data(df_label,df_feature_list)"
   ]
  },
  {
   "cell_type": "code",
   "execution_count": 65,
   "metadata": {},
   "outputs": [],
   "source": [
    "# join all profile features\n",
    "df_model_final = join_feature_data(df_model_final, df_new_feature_list)"
   ]
  },
  {
   "cell_type": "markdown",
   "metadata": {},
   "source": [
    "### Add acceleration features"
   ]
  },
  {
   "cell_type": "code",
   "execution_count": 66,
   "metadata": {},
   "outputs": [],
   "source": [
    "df_model_final = df_model_final.withColumn('play_1_over_play_7', F.col('freq_P_last_1')/F.col('freq_P_last_7')) \\\n",
    "                                .withColumn('play_1_over_down_1', F.col('freq_P_last_1')/F.col('freq_D_last_1')) \\\n",
    "                                .withColumn('play_1_over_down_7', F.col('freq_P_last_1')/F.col('freq_D_last_7'))"
   ]
  },
  {
   "cell_type": "code",
   "execution_count": 67,
   "metadata": {},
   "outputs": [],
   "source": [
    "df_model_final.fillna(0).toPandas().to_csv('../data/df_model_final.csv',index=False)"
   ]
  },
  {
   "cell_type": "code",
   "execution_count": null,
   "metadata": {},
   "outputs": [],
   "source": []
  }
 ],
 "metadata": {
  "kernelspec": {
   "display_name": "Python 3",
   "language": "python",
   "name": "python3"
  },
  "language_info": {
   "codemirror_mode": {
    "name": "ipython",
    "version": 3
   },
   "file_extension": ".py",
   "mimetype": "text/x-python",
   "name": "python",
   "nbconvert_exporter": "python",
   "pygments_lexer": "ipython3",
   "version": "3.6.5"
  }
 },
 "nbformat": 4,
 "nbformat_minor": 2
}
