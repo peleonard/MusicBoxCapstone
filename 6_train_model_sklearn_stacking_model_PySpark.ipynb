{
 "cells": [
  {
   "cell_type": "markdown",
   "metadata": {},
   "source": [
    "### Trigger PySpark"
   ]
  },
  {
   "cell_type": "code",
   "execution_count": 1,
   "metadata": {},
   "outputs": [
    {
     "name": "stdout",
     "output_type": "stream",
     "text": [
      "Welcome to\n",
      "      ____              __\n",
      "     / __/__  ___ _____/ /__\n",
      "    _\\ \\/ _ \\/ _ `/ __/  '_/\n",
      "   /__ / .__/\\_,_/_/ /_/\\_\\   version 2.3.1\n",
      "      /_/\n",
      "\n",
      "Using Python version 3.6.5 (default, Mar 29 2018 13:14:23)\n",
      "SparkSession available as 'spark'.\n"
     ]
    },
    {
     "data": {
      "text/html": [
       "\n",
       "        <div>\n",
       "            <p><b>SparkContext</b></p>\n",
       "\n",
       "            <p><a href=\"http://192.168.0.4:4040\">Spark UI</a></p>\n",
       "\n",
       "            <dl>\n",
       "              <dt>Version</dt>\n",
       "                <dd><code>v2.3.1</code></dd>\n",
       "              <dt>Master</dt>\n",
       "                <dd><code>local[*]</code></dd>\n",
       "              <dt>AppName</dt>\n",
       "                <dd><code>pyspark-shell</code></dd>\n",
       "            </dl>\n",
       "        </div>\n",
       "        "
      ],
      "text/plain": [
       "<SparkContext master=local[*] appName=pyspark-shell>"
      ]
     },
     "execution_count": 1,
     "metadata": {},
     "output_type": "execute_result"
    }
   ],
   "source": [
    "import os\n",
    "# os.environ[\"SPARK_HOME\"]\n",
    "exec(open(os.path.join(os.environ[\"SPARK_HOME\"], 'python/pyspark/shell.py')).read())\n",
    "sc"
   ]
  },
  {
   "cell_type": "markdown",
   "metadata": {},
   "source": [
    "### Library Preparation"
   ]
  },
  {
   "cell_type": "code",
   "execution_count": 2,
   "metadata": {},
   "outputs": [
    {
     "data": {
      "text/html": [
       "<script>requirejs.config({paths: { 'plotly': ['https://cdn.plot.ly/plotly-latest.min']},});if(!window.Plotly) {{require(['plotly'],function(plotly) {window.Plotly=plotly;});}}</script>"
      ],
      "text/vnd.plotly.v1+html": [
       "<script>requirejs.config({paths: { 'plotly': ['https://cdn.plot.ly/plotly-latest.min']},});if(!window.Plotly) {{require(['plotly'],function(plotly) {window.Plotly=plotly;});}}</script>"
      ]
     },
     "metadata": {},
     "output_type": "display_data"
    }
   ],
   "source": [
    "from pyspark.sql.types import *\n",
    "from pyspark.mllib.linalg import Vectors\n",
    "from pyspark.mllib.linalg import DenseVector\n",
    "from pyspark.ml.feature import VectorAssembler\n",
    "from pyspark.ml.feature import StringIndexer, VectorIndexer\n",
    "from pyspark.ml.feature import OneHotEncoder, OneHotEncoderEstimator\n",
    "\n",
    "from pyspark.ml.classification import DecisionTreeClassifier\n",
    "from pyspark.ml.classification import RandomForestClassifier\n",
    "from pyspark.ml.classification import GBTClassifier\n",
    "from pyspark.ml.tuning import CrossValidator, ParamGridBuilder\n",
    "from pyspark.ml.evaluation import BinaryClassificationEvaluator\n",
    "from pyspark.ml.evaluation import MulticlassClassificationEvaluator\n",
    "\n",
    "import pyspark.sql.functions as F\n",
    "\n",
    "import numpy as np\n",
    "import pandas as pd\n",
    "import matplotlib.pyplot as plt\n",
    "import plotly.graph_objs as go\n",
    "import plotly.offline as py\n",
    "py.init_notebook_mode(connected=True)\n",
    "% matplotlib inline\n",
    "# Always make it pretty.\n",
    "plt.style.use('ggplot')\n",
    "\n",
    "# sklearn is mainly used to calculate and plot performance metrics\n",
    "from sklearn.metrics import roc_curve, auc, roc_auc_score\n",
    "from sklearn.metrics import precision_score, accuracy_score, recall_score, f1_score\n"
   ]
  },
  {
   "cell_type": "markdown",
   "metadata": {},
   "source": [
    "## 1. A Brief Look with Spark"
   ]
  },
  {
   "cell_type": "code",
   "execution_count": 3,
   "metadata": {},
   "outputs": [
    {
     "name": "stdout",
     "output_type": "stream",
     "text": [
      "root\n",
      " |-- uid: integer (nullable = true)\n",
      " |-- label: integer (nullable = true)\n",
      " |-- freq_P_last_1: integer (nullable = true)\n",
      " |-- freq_P_last_3: integer (nullable = true)\n",
      " |-- freq_P_last_7: integer (nullable = true)\n",
      " |-- freq_P_last_14: integer (nullable = true)\n",
      " |-- freq_P_last_30: integer (nullable = true)\n",
      " |-- freq_D_last_1: integer (nullable = true)\n",
      " |-- freq_D_last_3: integer (nullable = true)\n",
      " |-- freq_D_last_7: integer (nullable = true)\n",
      " |-- freq_D_last_14: integer (nullable = true)\n",
      " |-- freq_D_last_30: integer (nullable = true)\n",
      " |-- freq_S_last_1: integer (nullable = true)\n",
      " |-- freq_S_last_3: integer (nullable = true)\n",
      " |-- freq_S_last_7: integer (nullable = true)\n",
      " |-- freq_S_last_14: integer (nullable = true)\n",
      " |-- freq_S_last_30: integer (nullable = true)\n",
      " |-- rec_P: integer (nullable = true)\n",
      " |-- rec_D: integer (nullable = true)\n",
      " |-- rec_S: integer (nullable = true)\n",
      " |-- device_type: integer (nullable = true)\n",
      " |-- play_time_last_1: double (nullable = true)\n",
      " |-- play_time_last_3: double (nullable = true)\n",
      " |-- play_time_last_7: double (nullable = true)\n",
      " |-- play_time_last_14: double (nullable = true)\n",
      " |-- play_time_last_30: double (nullable = true)\n",
      " |-- rela_freq_last_1: integer (nullable = true)\n",
      " |-- rela_freq_last_3: integer (nullable = true)\n",
      " |-- rela_freq_last_7: integer (nullable = true)\n",
      " |-- rela_freq_last_14: integer (nullable = true)\n",
      " |-- rela_freq_last_30: integer (nullable = true)\n",
      " |-- play_1_over_play_7: double (nullable = true)\n",
      " |-- play_1_over_down_1: double (nullable = true)\n",
      " |-- play_1_over_down_7: double (nullable = true)\n",
      "\n"
     ]
    }
   ],
   "source": [
    "# Load the data to the form of Spark DataFrame\n",
    "df = spark.read.csv('../data/df_model_final.csv',header=True,inferSchema=True).cache()\n",
    "df.printSchema()"
   ]
  },
  {
   "cell_type": "code",
   "execution_count": 4,
   "metadata": {},
   "outputs": [
    {
     "name": "stdout",
     "output_type": "stream",
     "text": [
      "+---------+-----+-------------+-------------+-------------+--------------+--------------+\n",
      "|      uid|label|freq_P_last_1|freq_P_last_3|freq_P_last_7|freq_P_last_14|freq_P_last_30|\n",
      "+---------+-----+-------------+-------------+-------------+--------------+--------------+\n",
      "| 34509854|    1|            7|           11|           11|            11|           144|\n",
      "| 56890349|    0|           41|          141|          220|           509|          1060|\n",
      "|168552245|    1|            0|            0|            0|             0|           101|\n",
      "|168553859|    1|            0|            0|            0|             0|           242|\n",
      "|168556386|    1|            0|            0|            0|             0|             1|\n",
      "|168556642|    1|            0|            0|            0|             0|             1|\n",
      "|168577890|    1|            0|            0|            0|             0|             7|\n",
      "|168590270|    0|            0|           20|           20|            36|           134|\n",
      "|168605933|    1|            0|            0|            0|             0|            22|\n",
      "|168613400|    1|            0|            0|            0|             0|             1|\n",
      "+---------+-----+-------------+-------------+-------------+--------------+--------------+\n",
      "only showing top 10 rows\n",
      "\n"
     ]
    }
   ],
   "source": [
    "# In order display tidily, choose the first 7 columns\n",
    "df.select(df.columns[:7]).show(10)"
   ]
  },
  {
   "cell_type": "code",
   "execution_count": 5,
   "metadata": {},
   "outputs": [
    {
     "name": "stdout",
     "output_type": "stream",
     "text": [
      "+-------+------------------+------------------+------------------+-----------------+-----------------+\n",
      "|summary|     freq_P_last_1|     freq_P_last_3|     freq_P_last_7|   freq_P_last_14|   freq_P_last_30|\n",
      "+-------+------------------+------------------+------------------+-----------------+-----------------+\n",
      "|  count|              9765|              9765|              9765|             9765|             9765|\n",
      "|   mean|3.1378392217101894|10.990168970814132|25.026728110599077|51.65980542754736|154.2995391705069|\n",
      "| stddev|16.832519796405776|46.045467457212986| 92.81682679963325|174.1722919621382|344.7018543299777|\n",
      "|    min|                 0|                 0|                 0|                0|                1|\n",
      "|    max|               498|              1028|              2060|             4151|             7464|\n",
      "+-------+------------------+------------------+------------------+-----------------+-----------------+\n",
      "\n",
      "+-------+-------------------+-------------------+-----------------+------------------+-----------------+\n",
      "|summary|      freq_D_last_1|      freq_D_last_3|    freq_D_last_7|    freq_D_last_14|   freq_D_last_30|\n",
      "+-------+-------------------+-------------------+-----------------+------------------+-----------------+\n",
      "|  count|               9765|               9765|             9765|              9765|             9765|\n",
      "|   mean|0.11571940604198669|0.28366615463389655|0.789042498719918|1.6816180235535074|11.16804915514593|\n",
      "| stddev| 3.3349052923905846|  4.792245083524389|10.92710487780666| 17.07230673802319|45.48169656671442|\n",
      "|    min|                  0|                  0|                0|                 0|                0|\n",
      "|    max|                277|                282|              625|               895|             1922|\n",
      "+-------+-------------------+-------------------+-----------------+------------------+-----------------+\n",
      "\n",
      "+-------+-------------------+-------------------+------------------+------------------+-----------------+\n",
      "|summary|      freq_S_last_1|      freq_S_last_3|     freq_S_last_7|    freq_S_last_14|   freq_S_last_30|\n",
      "+-------+-------------------+-------------------+------------------+------------------+-----------------+\n",
      "|  count|               9765|               9765|              9765|              9765|             9765|\n",
      "|   mean|0.10926779313876088|0.31827956989247314|1.0125960061443933|  2.55279057859703|12.43236047107015|\n",
      "| stddev| 0.9039498233610883| 1.8926209990064544|4.8846322680027425|10.311186598828678|34.30347873955205|\n",
      "|    min|                  0|                  0|                 0|                 0|                0|\n",
      "|    max|                 24|                 70|               168|               235|             1333|\n",
      "+-------+-------------------+-------------------+------------------+------------------+-----------------+\n",
      "\n",
      "+-------+------------------+------------------+------------------+-------------------+\n",
      "|summary|             rec_P|             rec_D|             rec_S|        device_type|\n",
      "+-------+------------------+------------------+------------------+-------------------+\n",
      "|  count|              9765|              9765|              9765|               9765|\n",
      "|   mean| 18.29646697388633| 8.699129544290834|11.504147465437788| 1.8847926267281105|\n",
      "| stddev|11.819223851372474|12.101983861160155|12.602822013281314|0.31928838729185777|\n",
      "|    min|                 0|                 0|                 0|                  1|\n",
      "|    max|                29|                29|                29|                  2|\n",
      "+-------+------------------+------------------+------------------+-------------------+\n",
      "\n",
      "+-------+------------------+------------------+-----------------+------------------+-----------------+\n",
      "|summary|  play_time_last_1|  play_time_last_3| play_time_last_7| play_time_last_14|play_time_last_30|\n",
      "+-------+------------------+------------------+-----------------+------------------+-----------------+\n",
      "|  count|              9765|              9765|             9765|              9765|             9765|\n",
      "|   mean|338.41285843685597|1055.4640446009907|2538.671892146645| 5315.565376039429|14720.40967539584|\n",
      "| stddev|1640.5504445462036|4361.2634248436325|9362.651993760323|17906.663336080244|36146.82192034721|\n",
      "|    min|               0.0|               0.0|              0.0|               0.0|              0.0|\n",
      "|    max|           40359.0|          102735.0|         201015.0|          461663.0|         796549.0|\n",
      "+-------+------------------+------------------+-----------------+------------------+-----------------+\n",
      "\n",
      "+-------+------------------+------------------+------------------+-----------------+-----------------+\n",
      "|summary|  rela_freq_last_1|  rela_freq_last_3|  rela_freq_last_7|rela_freq_last_14|rela_freq_last_30|\n",
      "+-------+------------------+------------------+------------------+-----------------+-----------------+\n",
      "|  count|              9765|              9765|              9765|             9765|             9765|\n",
      "|   mean| 1.100972862263185| 3.371326164874552| 8.208090117767536|17.19600614439324|46.38084997439836|\n",
      "| stddev|5.3067174001945245|13.650452733315266|29.864320318927394|57.08593395409839|113.3005354323853|\n",
      "|    min|                 0|                 0|                 0|                0|                0|\n",
      "|    max|               108|               238|               553|             1122|             2586|\n",
      "+-------+------------------+------------------+------------------+-----------------+-----------------+\n",
      "\n",
      "+-------+-------------------+------------------+-------------------+\n",
      "|summary| play_1_over_play_7|play_1_over_down_1| play_1_over_down_7|\n",
      "+-------+-------------------+------------------+-------------------+\n",
      "|  count|               9765|              9765|               9765|\n",
      "|   mean|0.03749228057888213|0.2700279857634765|0.48495258446566747|\n",
      "| stddev|0.14816007499321293|3.8691192198232565|   4.88634578869467|\n",
      "|    min|                0.0|               0.0|                0.0|\n",
      "|    max|                1.0|             218.0|              218.0|\n",
      "+-------+-------------------+------------------+-------------------+\n",
      "\n"
     ]
    }
   ],
   "source": [
    "df.select(df.columns[2:7]).describe().show()\n",
    "df.select(df.columns[7:12]).describe().show()\n",
    "df.select(df.columns[12:17]).describe().show()\n",
    "df.select(df.columns[17:21]).describe().show()\n",
    "df.select(df.columns[21:26]).describe().show()\n",
    "df.select(df.columns[26:31]).describe().show()\n",
    "df.select(df.columns[31:36]).describe().show()"
   ]
  },
  {
   "cell_type": "markdown",
   "metadata": {},
   "source": [
    "### Extreme Value Double Check\n",
    "We only check frequency of playing music for an example. As a matter of factor, the out-lier detection of other types of features has been done in the last feature generation jupyter notebook. Therea re"
   ]
  },
  {
   "cell_type": "code",
   "execution_count": 6,
   "metadata": {},
   "outputs": [
    {
     "name": "stdout",
     "output_type": "stream",
     "text": [
      "The maximum resonable play time (in minutes) per day for last 14 days is 1186.00. \n",
      "\n",
      "The maximum resonable play time (in minutes) per day for last 30 days is 995.20. \n",
      "\n",
      "One day has 1440 minutes.\n"
     ]
    }
   ],
   "source": [
    "# frequency of play check: if we assume average length of song is 4min, and we play songs one to the end one \n",
    "# one after one, \n",
    "# \n",
    "print('''The maximum resonable play time (in minutes) per day for last 14 days is {:.2f}. \\n\n",
    "The maximum resonable play time (in minutes) per day for last 30 days is {:.2f}. \\n\n",
    "One day has {} minutes.'''.format(4151/14*4, 7464/30*4, 24*60))"
   ]
  },
  {
   "cell_type": "markdown",
   "metadata": {},
   "source": [
    "Many features has a lot of missing values, namely zeros. The proportion of 0s of some features is nearly close to 1. Obviously, that's due to how we generate the features.\n",
    "<font color = red> This phenomenon suggests machine learning algorithms insensitive to missing values."
   ]
  },
  {
   "cell_type": "code",
   "execution_count": 7,
   "metadata": {},
   "outputs": [
    {
     "data": {
      "image/png": "[encoded data removed]",
      "text/plain": [
       "<Figure size 576x360 with 1 Axes>"
      ]
     },
     "metadata": {},
     "output_type": "display_data"
    }
   ],
   "source": [
    "# Convert it to Pandas DataFrame\n",
    "df_pd = df.toPandas()\n",
    "\n",
    "# histogram or proportions of nulls in each feature\n",
    "prop_0s = df_pd[df_pd== 0].count(axis=0)/len(df_pd.index)\n",
    "\n",
    "plt.figure(figsize=(8,5))\n",
    "prop_0s.hist()\n",
    "plt.title('histogram of proportions of 0s(Nulls) in features')\n",
    "plt.show()"
   ]
  },
  {
   "cell_type": "code",
   "execution_count": null,
   "metadata": {},
   "outputs": [],
   "source": []
  },
  {
   "cell_type": "markdown",
   "metadata": {},
   "source": [
    "----\n",
    "---\n",
    "## 2. Data Preparation and Correlation Plot"
   ]
  },
  {
   "cell_type": "markdown",
   "metadata": {},
   "source": [
    "### One hot encoder for device type"
   ]
  },
  {
   "cell_type": "code",
   "execution_count": 8,
   "metadata": {},
   "outputs": [
    {
     "name": "stdout",
     "output_type": "stream",
     "text": [
      "+---+--------+-------------+-------------+\n",
      "| id|category|categoryIndex|  categoryVec|\n",
      "+---+--------+-------------+-------------+\n",
      "|  0|       a|          0.0|(2,[0],[1.0])|\n",
      "|  1|       b|          2.0|    (2,[],[])|\n",
      "|  2|       c|          1.0|(2,[1],[1.0])|\n",
      "|  3|       a|          0.0|(2,[0],[1.0])|\n",
      "|  4|       a|          0.0|(2,[0],[1.0])|\n",
      "|  5|       c|          1.0|(2,[1],[1.0])|\n",
      "+---+--------+-------------+-------------+\n",
      "\n"
     ]
    }
   ],
   "source": [
    "from pyspark.ml.feature import OneHotEncoder, StringIndexer\n",
    "\n",
    "df_oh = spark.createDataFrame([\n",
    "    (0, \"a\"),\n",
    "    (1, \"b\"),\n",
    "    (2, \"c\"),\n",
    "    (3, \"a\"),\n",
    "    (4, \"a\"),\n",
    "    (5, \"c\")\n",
    "], [\"id\", \"category\"])\n",
    "\n",
    "stringIndexer = StringIndexer(inputCol=\"category\", outputCol=\"categoryIndex\")\n",
    "model = stringIndexer.fit(df_oh)\n",
    "indexed = model.transform(df_oh)\n",
    "\n",
    "encoder = OneHotEncoder(inputCol=\"categoryIndex\", outputCol=\"categoryVec\")\n",
    "encoded = encoder.transform(indexed)\n",
    "encoded.show()"
   ]
  },
  {
   "cell_type": "code",
   "execution_count": 9,
   "metadata": {},
   "outputs": [
    {
     "data": {
      "text/plain": [
       "[Row(id=0, category='a'), Row(id=1, category='b')]"
      ]
     },
     "execution_count": 9,
     "metadata": {},
     "output_type": "execute_result"
    }
   ],
   "source": [
    "df_oh.take(2)"
   ]
  },
  {
   "cell_type": "code",
   "execution_count": null,
   "metadata": {},
   "outputs": [],
   "source": []
  },
  {
   "cell_type": "markdown",
   "metadata": {},
   "source": [
    "### Data Type Casting and Features Preparation"
   ]
  },
  {
   "cell_type": "markdown",
   "metadata": {},
   "source": [
    "Define a pipeline to convert the type of features.\n",
    "Please refer to the [databrick](https://docs.databricks.com/spark/latest/mllib/index.html#apache-spark-mllib) and [medium](https://towardsdatascience.com/machine-learning-with-pyspark-and-mllib-solving-a-binary-classification-problem-96396065d2aa)."
   ]
  },
  {
   "cell_type": "code",
   "execution_count": 14,
   "metadata": {},
   "outputs": [],
   "source": [
    "stages = []\n",
    "\n",
    "## One hot encoding the following cat columns\n",
    "categoricalCols = ['device_type']\n",
    "for c in categoricalCols:\n",
    "#     stringIndexer = StringIndexer(inputCol = c, outputCol = c+'_Index')\n",
    "    onehot_encoder = OneHotEncoderEstimator(inputCols=[c], outputCols=[c+\"_onehot\"])\n",
    "    stages += [onehot_encoder]\n",
    "\n",
    "## convert label type to string type\n",
    "# Prevent the same column as what Spark MLlib Model ask for, \n",
    "# usually in the dataset, the name of response is not 'label'\n",
    "df = df.withColumnRenamed(\"label\", \"churn_label\")\n",
    "labelCol = 'churn_label'\n",
    "label_stringIdx = StringIndexer(inputCol = labelCol, outputCol = 'label')\n",
    "stages += [label_stringIdx]\n",
    "\n",
    "nonNumericCols = categoricalCols+[labelCol]+['uid']\n",
    "numericCols = [e for e in df.columns if e not in nonNumericCols]\n",
    "\n",
    "assemblerInputs = [c + \"_onehot\" for c in categoricalCols] + numericCols\n",
    "assembler = VectorAssembler(inputCols=assemblerInputs, outputCol=\"features\")\n",
    "stages += [assembler]\n",
    "\n",
    "colTypeCast_pipeline = Pipeline(stages = stages)\n",
    "colTypeCast_pipelineModel = colTypeCast_pipeline.fit(df)\n",
    "data = colTypeCast_pipelineModel.transform(df)\n",
    "data.printSchema()"
   ]
  },
  {
   "cell_type": "markdown",
   "metadata": {},
   "source": [
    "## 3. Churn Prediction"
   ]
  },
  {
   "cell_type": "markdown",
   "metadata": {},
   "source": [
    "### Train Test Split "
   ]
  },
  {
   "cell_type": "code",
   "execution_count": 18,
   "metadata": {},
   "outputs": [],
   "source": [
    "# train test split\n",
    "(train, test) = data.randomSplit([0.7, 0.3], seed=1)"
   ]
  },
  {
   "cell_type": "code",
   "execution_count": 19,
   "metadata": {},
   "outputs": [
    {
     "name": "stdout",
     "output_type": "stream",
     "text": [
      "+--------------------------------------------------------------------------------------------------------------------------------------------------------+\n",
      "|features                                                                                                                                                |\n",
      "+--------------------------------------------------------------------------------------------------------------------------------------------------------+\n",
      "|(33,[2,3,4,5,6,20,21,22,23,24,25,26,27,28,29,30],[7.0,11.0,11.0,11.0,144.0,4150.0,4622.0,4622.0,4622.0,55245.0,4.0,5.0,5.0,5.0,67.0,0.6363636363636364])|\n",
      "+--------------------------------------------------------------------------------------------------------------------------------------------------------+\n",
      "only showing top 1 row\n",
      "\n"
     ]
    }
   ],
   "source": [
    "## The return of the 'assembler.transform' is \n",
    "# 31: number of 'selected_features'\n",
    "# [0,1,2,3,4,18,19,20,21,22,23,24,25,26,27,28]: position of nonzero features\n",
    "# [7.0,11.0,11.0,11.0,144.0,4150.0,4622.0,4622.0,4622.0,55245.0,4.0,5.0,5.0,5.0,67.0,0.6363636363636364]: value of these nonzero features\n",
    "data.select('features').show(1, truncate=False)"
   ]
  },
  {
   "cell_type": "markdown",
   "metadata": {},
   "source": [
    "### Define Some Functions"
   ]
  },
  {
   "cell_type": "code",
   "execution_count": 20,
   "metadata": {},
   "outputs": [],
   "source": [
    "#### predict and evaluate performance\n",
    "# show: if show the top 5 predictions of train and test \n",
    "def train_test_model_spark(spark_model, train, test, show=False):\n",
    "    predictions_train = spark_model.transform(train)\n",
    "    pred_train = predictions_train.select(\"probability\", \"label\").toPandas()\n",
    "    predictions_test = spark_model.transform(test)\n",
    "    pred_test = predictions_test.select(\"probability\", \"label\").toPandas()\n",
    "    if show:\n",
    "        predictions_train.select(\"probability\",\"prediction\", \"label\", \"features\").show(5)\n",
    "        predictions_test.select(\"probability\",\"prediction\", \"label\", \"features\").show(5)\n",
    "    \n",
    "    y_train = pred_train['label']\n",
    "    y_train_pred = np.array([v[1] for v in pred_train['probability']])\n",
    "    y_test = pred_test['label']\n",
    "    y_test_pred = np.array([v[1] for v in pred_test['probability']])\n",
    "\n",
    "    get_performance_metrics(y_train, y_train_pred, y_test, y_test_pred)\n",
    "    plot_roc_curve(y_train, y_train_pred, y_test, y_test_pred)\n",
    "\n",
    "\n",
    "def plot_roc_curve(y_train, y_train_pred, y_test, y_test_pred):\n",
    "    roc_auc_train = roc_auc_score(y_train, y_train_pred)\n",
    "    fpr_train, tpr_train, _ = roc_curve(y_train, y_train_pred)\n",
    "\n",
    "    roc_auc_test = roc_auc_score(y_test, y_test_pred)\n",
    "    fpr_test, tpr_test, _ = roc_curve(y_test, y_test_pred)\n",
    "    plt.figure()\n",
    "    lw = 2\n",
    "    plt.plot(fpr_train, tpr_train, color='green',\n",
    "             lw=lw, label='ROC Train (AUC = %0.4f)' % roc_auc_train)\n",
    "    plt.plot(fpr_test, tpr_test, color='darkorange',\n",
    "             lw=lw, label='ROC Test (AUC = %0.4f)' % roc_auc_test)\n",
    "    plt.plot([0, 1], [0, 1], color='navy', lw=lw, linestyle='--')\n",
    "    plt.xlim([0.0, 1.0])\n",
    "    plt.ylim([0.0, 1.05])\n",
    "    plt.xlabel('False Positive Rate')\n",
    "    plt.ylabel('True Positive Rate')\n",
    "    plt.title('Receiver operating characteristic example')\n",
    "    plt.legend(loc=\"lower right\")\n",
    "    plt.show()\n",
    "    \n",
    "def get_performance_metrics(y_train, y_train_pred, y_test, y_test_pred, threshold=0.5):\n",
    "    metric_names = ['AUC','Accuracy','Precision','Recall','f1-score']\n",
    "    metric_values_train = [roc_auc_score(y_train, y_train_pred),\n",
    "                    accuracy_score(y_train, y_train_pred>threshold),\n",
    "                    precision_score(y_train, y_train_pred>threshold),\n",
    "                    recall_score(y_train, y_train_pred>threshold),\n",
    "                    f1_score(y_train, y_train_pred>threshold)\n",
    "                   ]\n",
    "    metric_values_test = [roc_auc_score(y_test, y_test_pred),\n",
    "                    accuracy_score(y_test, y_test_pred>threshold),\n",
    "                    precision_score(y_test, y_test_pred>threshold),\n",
    "                    recall_score(y_test, y_test_pred>threshold),\n",
    "                    f1_score(y_test, y_test_pred>threshold)\n",
    "                   ]\n",
    "    all_metrics = pd.DataFrame({'metrics':metric_names,\n",
    "                                'train':metric_values_train,\n",
    "                                'test':metric_values_test},columns=['metrics','train','test']).set_index('metrics')\n",
    "\n",
    "    print(all_metrics)"
   ]
  },
  {
   "cell_type": "markdown",
   "metadata": {},
   "source": [
    "### First Level Model"
   ]
  },
  {
   "cell_type": "markdown",
   "metadata": {},
   "source": [
    "#### Preset a seed for 'random' model"
   ]
  },
  {
   "cell_type": "code",
   "execution_count": 21,
   "metadata": {},
   "outputs": [],
   "source": [
    "model_spark_seed = 201"
   ]
  },
  {
   "cell_type": "markdown",
   "metadata": {},
   "source": [
    "#### logistic regression"
   ]
  },
  {
   "cell_type": "code",
   "execution_count": 22,
   "metadata": {},
   "outputs": [],
   "source": [
    "lr = LogisticRegression(maxIter=3, regParam=0.01)\n",
    "lr_model = lr.fit(train)\n",
    "# # Extract the summary from the returned LogisticRegressionModel instance trained\n",
    "# # in the earlier example\n",
    "# trainingSummary = lr_model.summary\n",
    "\n",
    "# # Obtain the objective per iteration\n",
    "# objectiveHistory = trainingSummary.objectiveHistory\n",
    "# print(\"objectiveHistory:\")\n",
    "# for objective in objectiveHistory:\n",
    "#     print(objective)\n",
    "\n",
    "\n",
    "# Obtain the receiver-operating characteristic as a dataframe and areaUnderROC.\n",
    "# trainingSummary.roc.show()\n",
    "# trainingSummary.roc.count()\n",
    "# print(\"areaUnderROC: \" + str(trainingSummary.areaUnderROC))\n",
    "\n",
    "\n",
    "# # Set the model threshold to maximize F-Measure\n",
    "# fMeasure = trainingSummary.fMeasureByThreshold\n",
    "# maxFMeasure = fMeasure.groupBy().max('F-Measure').select('max(F-Measure)').head()\n",
    "# bestThreshold = fMeasure.where(fMeasure['F-Measure'] == maxFMeasure['max(F-Measure)']) \\\n",
    "#     .select('threshold').head()['threshold']\n",
    "# lr.setThreshold(bestThreshold)"
   ]
  },
  {
   "cell_type": "code",
   "execution_count": 23,
   "metadata": {},
   "outputs": [
    {
     "name": "stdout",
     "output_type": "stream",
     "text": [
      "              train      test\n",
      "metrics                      \n",
      "AUC        0.910026  0.903182\n",
      "Accuracy   0.841397  0.827975\n",
      "Precision  0.864620  0.866995\n",
      "Recall     0.581690  0.555789\n",
      "f1-score   0.695481  0.677357\n"
     ]
    },
    {
     "data": {
      "image/png": "[encoded data removed]",
      "text/plain": [
       "<Figure size 432x288 with 1 Axes>"
      ]
     },
     "metadata": {},
     "output_type": "display_data"
    }
   ],
   "source": [
    "train_test_model_spark(lr_model, train, test)"
   ]
  },
  {
   "cell_type": "markdown",
   "metadata": {},
   "source": [
    "##### ML Tuning: model selection and hyperparameter tuning"
   ]
  },
  {
   "cell_type": "code",
   "execution_count": 24,
   "metadata": {},
   "outputs": [
    {
     "data": {
      "text/plain": [
       "LogisticRegression_4003a1e4834c54c60cdc"
      ]
     },
     "execution_count": 24,
     "metadata": {},
     "output_type": "execute_result"
    }
   ],
   "source": [
    "from pyspark.ml import Pipeline\n",
    "from pyspark.ml.classification import LogisticRegression\n",
    "from pyspark.ml.evaluation import BinaryClassificationEvaluator\n",
    "from pyspark.ml.tuning import CrossValidator, ParamGridBuilder\n",
    "\n",
    "lr_grid = LogisticRegression(maxIter=10)\n",
    "# pipeline = Pipeline(stages=[lr_grid])\n",
    "\n",
    "param_lr_grid = ParamGridBuilder() \\\n",
    "    .addGrid(lr_grid.regParam, [10.0, 5.0, 1.0, .5, 0.1, 0.01]) \\\n",
    "    .addGrid(lr_grid.elasticNetParam, [.0, .5, 1.0]) \\\n",
    "    .build()\n",
    "\n",
    "lr_crossval = CrossValidator(estimator=lr_grid,\n",
    "                             estimatorParamMaps=param_lr_grid,\n",
    "                             evaluator=BinaryClassificationEvaluator(),\n",
    "                             numFolds=3)\n",
    "lr_crossval.setParallelism(8)\n",
    "\n",
    "# Run cross-validation, and choose the best set of parameters.\n",
    "lr_cvModel = lr_crossval.fit(train)\n",
    "lr_cvModel.bestModel"
   ]
  },
  {
   "cell_type": "markdown",
   "metadata": {},
   "source": [
    "In order to show the params of the best model, we have to <font color = red>call the java property</font>."
   ]
  },
  {
   "cell_type": "code",
   "execution_count": 25,
   "metadata": {},
   "outputs": [
    {
     "name": "stdout",
     "output_type": "stream",
     "text": [
      "Best Param (regParam):  0.01\n",
      "Best Param (elasticNetParam):  0.0\n"
     ]
    }
   ],
   "source": [
    "print('Best Param (regParam): ', lr_cvModel.bestModel._java_obj.getRegParam())\n",
    "print('Best Param (elasticNetParam): ', lr_cvModel.bestModel._java_obj.getElasticNetParam())"
   ]
  },
  {
   "cell_type": "code",
   "execution_count": 26,
   "metadata": {},
   "outputs": [],
   "source": [
    "# import numpy as np\n",
    "\n",
    "# from pyspark.ml.tuning import CrossValidator, CrossValidatorModel\n",
    "# from pyspark.sql.functions import rand\n",
    "\n",
    "\n",
    "# class CrossValidatorVerbose(CrossValidator):\n",
    "\n",
    "#     def _fit(self, dataset):\n",
    "#         est = self.getOrDefault(self.estimator)\n",
    "#         epm = self.getOrDefault(self.estimatorParamMaps)\n",
    "#         numModels = len(epm)\n",
    "\n",
    "#         eva = self.getOrDefault(self.evaluator)\n",
    "#         metricName = eva.getMetricName()\n",
    "\n",
    "#         nFolds = self.getOrDefault(self.numFolds)\n",
    "#         seed = self.getOrDefault(self.seed)\n",
    "#         h = 1.0 / nFolds\n",
    "\n",
    "#         randCol = self.uid + \"_rand\"\n",
    "#         df = dataset.select(\"*\", rand(seed).alias(randCol))\n",
    "#         metrics = [0.0] * numModels\n",
    "\n",
    "#         for i in range(nFolds):\n",
    "#             foldNum = i + 1\n",
    "#             print(\"Comparing models on fold %d\" % foldNum)\n",
    "\n",
    "#             validateLB = i * h\n",
    "#             validateUB = (i + 1) * h\n",
    "#             condition = (df[randCol] >= validateLB) & (df[randCol] < validateUB)\n",
    "#             validation = df.filter(condition)\n",
    "#             train = df.filter(~condition)\n",
    "\n",
    "#             for j in range(numModels):\n",
    "#                 paramMap = epm[j]\n",
    "#                 model = est.fit(train, paramMap)\n",
    "#                 # TODO: duplicate evaluator to take extra params from input\n",
    "#                 metric = eva.evaluate(model.transform(validation, paramMap))\n",
    "#                 metrics[j] += metric\n",
    "\n",
    "#                 avgSoFar = metrics[j] / foldNum\n",
    "#                 print(\"params: %s\\t%s: %f\\tavg: %f\" % (\n",
    "#                     {param.name: val for (param, val) in paramMap.items()},\n",
    "#                     metricName, metric, avgSoFar))\n",
    "\n",
    "#         if eva.isLargerBetter():\n",
    "#             bestIndex = np.argmax(metrics)\n",
    "#         else:\n",
    "#             bestIndex = np.argmin(metrics)\n",
    "\n",
    "#         bestParams = epm[bestIndex]\n",
    "#         bestModel = est.fit(dataset, bestParams)\n",
    "#         avgMetrics = [m / nFolds for m in metrics]\n",
    "#         bestAvg = avgMetrics[bestIndex]\n",
    "#         print(\"Best model:\\nparams: %s\\t%s: %f\" % (\n",
    "#             {param.name: val for (param, val) in bestParams.items()},\n",
    "#             metricName, bestAvg))\n",
    "\n",
    "#         return self._copyValues(CrossValidatorModel(bestModel, avgMetrics))\n",
    "    \n",
    "# CrossValidatorVerbose._fit(lr_crossval, train)"
   ]
  },
  {
   "cell_type": "code",
   "execution_count": 27,
   "metadata": {},
   "outputs": [
    {
     "name": "stdout",
     "output_type": "stream",
     "text": [
      "The test AUC is: 0.908688\n"
     ]
    }
   ],
   "source": [
    "## Check the Metrics in \n",
    "evaluator = BinaryClassificationEvaluator()\n",
    "print('The test AUC is: %.6f'%evaluator.evaluate(lr_cvModel.transform(test)))"
   ]
  },
  {
   "cell_type": "code",
   "execution_count": 28,
   "metadata": {},
   "outputs": [
    {
     "name": "stdout",
     "output_type": "stream",
     "text": [
      "              train      test\n",
      "metrics                      \n",
      "AUC        0.916472  0.908688\n",
      "Accuracy   0.864786  0.862175\n",
      "Precision  0.802005  0.818393\n",
      "Recall     0.751174  0.740000\n",
      "f1-score   0.775758  0.777225\n"
     ]
    },
    {
     "data": {
      "image/png": "[encoded data removed]",
      "text/plain": [
       "<Figure size 432x288 with 1 Axes>"
      ]
     },
     "metadata": {},
     "output_type": "display_data"
    }
   ],
   "source": [
    "train_test_model_spark(lr_cvModel, train, test)"
   ]
  },
  {
   "cell_type": "code",
   "execution_count": null,
   "metadata": {},
   "outputs": [],
   "source": []
  },
  {
   "cell_type": "markdown",
   "metadata": {},
   "source": [
    "---\n",
    "#### Random Forests"
   ]
  },
  {
   "cell_type": "code",
   "execution_count": 29,
   "metadata": {},
   "outputs": [],
   "source": [
    "rf = RandomForestClassifier(numTrees=50 #50\n",
    "                            ,featureSubsetStrategy=\"auto\"\n",
    "                            ,impurity='gini'\n",
    "                            ,maxDepth=12 #20\n",
    "                            ,minInstancesPerNode=10\n",
    "                            ,maxBins=16\n",
    "                            ,seed=model_spark_seed\n",
    "                            )\n",
    "rf_model = rf.fit(train)"
   ]
  },
  {
   "cell_type": "code",
   "execution_count": 36,
   "metadata": {},
   "outputs": [
    {
     "data": {
      "text/plain": [
       "SparseVector(33, {1: 0.0021, 2: 0.012, 3: 0.0653, 4: 0.0612, 5: 0.0929, 6: 0.0356, 7: 0.0, 8: 0.0003, 9: 0.0009, 10: 0.0037, 11: 0.0112, 12: 0.0001, 13: 0.0005, 14: 0.0043, 15: 0.0166, 16: 0.0154, 17: 0.1707, 18: 0.0104, 19: 0.0122, 20: 0.0023, 21: 0.0592, 22: 0.1142, 23: 0.121, 24: 0.0322, 25: 0.0006, 26: 0.019, 27: 0.0208, 28: 0.0964, 29: 0.0152, 30: 0.0035, 31: 0.0002, 32: 0.0001})"
      ]
     },
     "execution_count": 36,
     "metadata": {},
     "output_type": "execute_result"
    }
   ],
   "source": [
    "rf_model.featureImportances"
   ]
  },
  {
   "cell_type": "code",
   "execution_count": 30,
   "metadata": {},
   "outputs": [
    {
     "name": "stdout",
     "output_type": "stream",
     "text": [
      "              train      test\n",
      "metrics                      \n",
      "AUC        0.944785  0.914806\n",
      "Accuracy   0.898699  0.858755\n",
      "Precision  0.875588  0.832714\n",
      "Recall     0.786385  0.707368\n",
      "f1-score   0.828593  0.764940\n"
     ]
    },
    {
     "data": {
      "image/png": "[encoded data removed]",
      "text/plain": [
       "<Figure size 432x288 with 1 Axes>"
      ]
     },
     "metadata": {},
     "output_type": "display_data"
    }
   ],
   "source": [
    "train_test_model_spark(rf_model, train, test)"
   ]
  },
  {
   "cell_type": "markdown",
   "metadata": {},
   "source": [
    "##### ML Tuning for Random Forests"
   ]
  },
  {
   "cell_type": "code",
   "execution_count": 31,
   "metadata": {},
   "outputs": [
    {
     "data": {
      "text/plain": [
       "RandomForestClassificationModel (uid=RandomForestClassifier_4369a75f46245bf9fef7) with 100 trees"
      ]
     },
     "execution_count": 31,
     "metadata": {},
     "output_type": "execute_result"
    }
   ],
   "source": [
    "rf_grid = RandomForestClassifier()\n",
    "# pipeline = Pipeline(stages=[lr_grid])\n",
    "\n",
    "param_rf_grid = ParamGridBuilder() \\\n",
    "    .addGrid(rf_grid.numTrees, [50, 100, 150]) \\\n",
    "    .addGrid(rf_grid.featureSubsetStrategy, ['auto']) \\\n",
    "    .addGrid(rf_grid.impurity, ['gini']) \\\n",
    "    .addGrid(rf_grid.maxDepth, [5, 10, 15]) \\\n",
    "    .addGrid(rf_grid.minInstancesPerNode, [2, 8, 14]) \\\n",
    "    .addGrid(rf_grid.maxBins, [16, 32]) \\\n",
    "    .addGrid(rf_grid.seed, [model_spark_seed]) \\\n",
    "    .build()\n",
    "\n",
    "rf_crossval = CrossValidator(estimator=rf_grid,\n",
    "                             estimatorParamMaps=param_rf_grid,\n",
    "                             evaluator=BinaryClassificationEvaluator(),\n",
    "                             numFolds=3)\n",
    "rf_crossval.setParallelism(8)\n",
    "\n",
    "# Run cross-validation, and choose the best set of parameters.\n",
    "rf_cvModel = rf_crossval.fit(train)\n",
    "rf_cvModel.bestModel"
   ]
  },
  {
   "cell_type": "code",
   "execution_count": 32,
   "metadata": {},
   "outputs": [
    {
     "name": "stdout",
     "output_type": "stream",
     "text": [
      "The CV AUC is: 0.939834\n"
     ]
    }
   ],
   "source": [
    "evaluator = BinaryClassificationEvaluator()\n",
    "print('The CV AUC is: %.6f'%evaluator.evaluate(rf_cvModel.transform(train)))"
   ]
  },
  {
   "cell_type": "code",
   "execution_count": 33,
   "metadata": {},
   "outputs": [
    {
     "data": {
      "text/plain": [
       "(100, 'auto', 'gini', 10, 14, 16)"
      ]
     },
     "execution_count": 33,
     "metadata": {},
     "output_type": "execute_result"
    }
   ],
   "source": [
    "## Print the parameters\n",
    "rf_param_javaObj = rf_cvModel.bestModel._java_obj\n",
    "rf_param_javaObj.getNumTrees(), rf_param_javaObj.getFeatureSubsetStrategy(), \\\n",
    "rf_param_javaObj.getImpurity(), rf_param_javaObj.getMaxDepth(), \\\n",
    "rf_param_javaObj.getMinInstancesPerNode(), rf_param_javaObj.getMaxBins()"
   ]
  },
  {
   "cell_type": "code",
   "execution_count": 34,
   "metadata": {},
   "outputs": [
    {
     "name": "stdout",
     "output_type": "stream",
     "text": [
      "The test AUC is: 0.908688\n"
     ]
    }
   ],
   "source": [
    "## Check the Metrics in \n",
    "evaluator = BinaryClassificationEvaluator()\n",
    "print('The test AUC is: %.6f'%evaluator.evaluate(rf_cvModel.transform(test)))"
   ]
  },
  {
   "cell_type": "code",
   "execution_count": 35,
   "metadata": {},
   "outputs": [
    {
     "name": "stdout",
     "output_type": "stream",
     "text": [
      "              train      test\n",
      "metrics                      \n",
      "AUC        0.939834  0.916519\n",
      "Accuracy   0.891536  0.861833\n",
      "Precision  0.862213  0.833741\n",
      "Recall     0.775587  0.717895\n",
      "f1-score   0.816609  0.771493\n"
     ]
    },
    {
     "data": {
      "image/png": "[encoded data removed]",
      "text/plain": [
       "<Figure size 432x288 with 1 Axes>"
      ]
     },
     "metadata": {},
     "output_type": "display_data"
    }
   ],
   "source": [
    "train_test_model_spark(rf_cvModel, train, test)"
   ]
  },
  {
   "cell_type": "code",
   "execution_count": null,
   "metadata": {},
   "outputs": [],
   "source": []
  },
  {
   "cell_type": "markdown",
   "metadata": {},
   "source": [
    "#### GBDT"
   ]
  },
  {
   "cell_type": "code",
   "execution_count": 46,
   "metadata": {},
   "outputs": [],
   "source": [
    "gbt = GBTClassifier(maxIter=50\n",
    "                   ,maxDepth = 5\n",
    "                   ,maxBins = 16\n",
    "                   ,seed=model_spark_seed)\n",
    "gbt_model = rf.fit(train)"
   ]
  },
  {
   "cell_type": "code",
   "execution_count": 47,
   "metadata": {},
   "outputs": [
    {
     "data": {
      "text/plain": [
       "SparseVector(33, {1: 0.0135, 2: 0.0292, 3: 0.0192, 4: 0.0391, 5: 0.0414, 6: 0.0731, 7: 0.0031, 8: 0.0029, 9: 0.0124, 10: 0.0226, 11: 0.0657, 12: 0.0032, 13: 0.0165, 14: 0.0241, 15: 0.026, 16: 0.0587, 17: 0.2107, 18: 0.0449, 19: 0.0438, 20: 0.0025, 21: 0.0029, 22: 0.0107, 23: 0.0453, 24: 0.0716, 25: 0.0048, 26: 0.0116, 27: 0.0091, 28: 0.0224, 29: 0.0667, 30: 0.0005, 31: 0.0015, 32: 0.0002})"
      ]
     },
     "execution_count": 47,
     "metadata": {},
     "output_type": "execute_result"
    }
   ],
   "source": [
    "gbt_model.featureImportances"
   ]
  },
  {
   "cell_type": "code",
   "execution_count": 48,
   "metadata": {},
   "outputs": [
    {
     "name": "stdout",
     "output_type": "stream",
     "text": [
      "              train      test\n",
      "metrics                      \n",
      "AUC        0.947795  0.910931\n",
      "Accuracy   0.906739  0.855335\n",
      "Precision  0.887734  0.821734\n",
      "Recall     0.801878  0.708421\n",
      "f1-score   0.842625  0.760882\n"
     ]
    },
    {
     "data": {
      "image/png": "[encoded data removed]",
      "text/plain": [
       "<Figure size 432x288 with 1 Axes>"
      ]
     },
     "metadata": {},
     "output_type": "display_data"
    }
   ],
   "source": [
    "train_test_model_spark(gbt_model, train, test)"
   ]
  },
  {
   "cell_type": "markdown",
   "metadata": {},
   "source": [
    "##### ML Tuning for Random Forests"
   ]
  },
  {
   "cell_type": "code",
   "execution_count": 49,
   "metadata": {},
   "outputs": [
    {
     "data": {
      "text/plain": [
       "GBTClassificationModel (uid=GBTClassifier_4cff8c2bdf216b8b2308) with 50 trees"
      ]
     },
     "execution_count": 49,
     "metadata": {},
     "output_type": "execute_result"
    }
   ],
   "source": [
    "gbt_grid = GBTClassifier()\n",
    "# pipeline = Pipeline(stages=[lr_grid])\n",
    "\n",
    "param_gbt_grid = ParamGridBuilder() \\\n",
    "    .addGrid(gbt_grid.maxIter, [25, 50, 75]) \\\n",
    "    .addGrid(gbt_grid.maxDepth, [2, 3, 6]) \\\n",
    "    .addGrid(gbt_grid.maxBins, [16, 32, 48]) \\\n",
    "    .addGrid(gbt_grid.seed, [model_spark_seed]) \\\n",
    "    .build()\n",
    "\n",
    "gbt_crossval = CrossValidator(estimator=gbt_grid,\n",
    "                             estimatorParamMaps=param_gbt_grid,\n",
    "                             evaluator=BinaryClassificationEvaluator(),\n",
    "                             numFolds=3)\n",
    "gbt_crossval.setParallelism(8)\n",
    "\n",
    "# Run cross-validation, and choose the best set of parameters.\n",
    "gbt_cvModel = gbt_crossval.fit(train)\n",
    "gbt_cvModel.bestModel"
   ]
  },
  {
   "cell_type": "code",
   "execution_count": 50,
   "metadata": {},
   "outputs": [
    {
     "name": "stdout",
     "output_type": "stream",
     "text": [
      "The CV AUC is: 0.929206\n"
     ]
    }
   ],
   "source": [
    "evaluator = BinaryClassificationEvaluator()\n",
    "print('The CV AUC is: %.6f'%evaluator.evaluate(gbt_cvModel.transform(train)))"
   ]
  },
  {
   "cell_type": "code",
   "execution_count": 51,
   "metadata": {},
   "outputs": [
    {
     "data": {
      "text/plain": [
       "(50, 3, 48)"
      ]
     },
     "execution_count": 51,
     "metadata": {},
     "output_type": "execute_result"
    }
   ],
   "source": [
    "## Print the parameters\n",
    "gbt_param_javaObj = gbt_cvModel.bestModel._java_obj\n",
    "gbt_param_javaObj.getMaxIter(), gbt_param_javaObj.getMaxDepth(), \\\n",
    "gbt_param_javaObj.getMaxBins()"
   ]
  },
  {
   "cell_type": "code",
   "execution_count": 52,
   "metadata": {},
   "outputs": [
    {
     "name": "stdout",
     "output_type": "stream",
     "text": [
      "The test AUC is: 0.909720\n"
     ]
    }
   ],
   "source": [
    "## Check the Metrics in \n",
    "evaluator = BinaryClassificationEvaluator()\n",
    "print('The test AUC is: %.6f'%evaluator.evaluate(gbt_cvModel.transform(test)))"
   ]
  },
  {
   "cell_type": "code",
   "execution_count": 53,
   "metadata": {},
   "outputs": [
    {
     "name": "stdout",
     "output_type": "stream",
     "text": [
      "              train      test\n",
      "metrics                      \n",
      "AUC        0.929206  0.909720\n",
      "Accuracy   0.879842  0.862859\n",
      "Precision  0.844211  0.834348\n",
      "Recall     0.753052  0.721053\n",
      "f1-score   0.796030  0.773574\n"
     ]
    },
    {
     "data": {
      "image/png": "[encoded data removed]",
      "text/plain": [
       "<Figure size 432x288 with 1 Axes>"
      ]
     },
     "metadata": {},
     "output_type": "display_data"
    }
   ],
   "source": [
    "train_test_model_spark(gbt_cvModel, train, test)"
   ]
  },
  {
   "cell_type": "code",
   "execution_count": null,
   "metadata": {},
   "outputs": [],
   "source": []
  },
  {
   "cell_type": "code",
   "execution_count": null,
   "metadata": {},
   "outputs": [],
   "source": []
  },
  {
   "cell_type": "code",
   "execution_count": null,
   "metadata": {},
   "outputs": [],
   "source": []
  }
 ],
 "metadata": {
  "kernelspec": {
   "display_name": "Python 3",
   "language": "python",
   "name": "python3"
  },
  "language_info": {
   "codemirror_mode": {
    "name": "ipython",
    "version": 3
   },
   "file_extension": ".py",
   "mimetype": "text/x-python",
   "name": "python",
   "nbconvert_exporter": "python",
   "pygments_lexer": "ipython3",
   "version": "3.6.5"
  }
 },
 "nbformat": 4,
 "nbformat_minor": 2
}
