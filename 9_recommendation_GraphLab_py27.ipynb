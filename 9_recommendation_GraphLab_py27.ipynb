{
 "cells": [
  {
   "cell_type": "code",
   "execution_count": 1,
   "metadata": {
    "collapsed": true
   },
   "outputs": [],
   "source": [
    "import pandas as pd\n",
    "import numpy as np\n",
    "\n",
    "import matplotlib.pyplot as plt\n",
    "%matplotlib inline\n",
    "plt.style.use('ggplot')\n",
    "\n",
    "from scipy import sparse\n",
    "from sklearn.metrics.pairwise import cosine_similarity\n",
    "from sklearn import preprocessing \n",
    "from time import time"
   ]
  },
  {
   "cell_type": "markdown",
   "metadata": {},
   "source": [
    "## 1. Loading Dataset"
   ]
  },
  {
   "cell_type": "code",
   "execution_count": 2,
   "metadata": {
    "collapsed": false
   },
   "outputs": [
    {
     "name": "stdout",
     "output_type": "stream",
     "text": [
      "<class 'pandas.core.frame.DataFrame'>\n",
      "RangeIndex: 553324 entries, 0 to 553323\n",
      "Data columns (total 22 columns):\n",
      "uid                  553324 non-null int64\n",
      "song_id              553324 non-null int64\n",
      "freq_P_last_1        553324 non-null int64\n",
      "freq_P_last_3        553324 non-null int64\n",
      "freq_P_last_7        553324 non-null int64\n",
      "freq_P_last_14       553324 non-null int64\n",
      "freq_P_last_30       553324 non-null int64\n",
      "freq_P_last_44       553324 non-null int64\n",
      "freq_D_last_1        553324 non-null int64\n",
      "freq_D_last_3        553324 non-null int64\n",
      "freq_D_last_7        553324 non-null int64\n",
      "freq_D_last_14       553324 non-null int64\n",
      "freq_D_last_30       553324 non-null int64\n",
      "freq_D_last_44       553324 non-null int64\n",
      "rec_P                553324 non-null int64\n",
      "rec_D                553324 non-null int64\n",
      "rela_freq_last_1     553324 non-null int64\n",
      "rela_freq_last_3     553324 non-null int64\n",
      "rela_freq_last_7     553324 non-null int64\n",
      "rela_freq_last_14    553324 non-null int64\n",
      "rela_freq_last_30    553324 non-null int64\n",
      "rela_freq_last_44    553324 non-null int64\n",
      "dtypes: int64(22)\n",
      "memory usage: 92.9 MB\n"
     ]
    }
   ],
   "source": [
    "df = pd.read_csv('../data/df_reco_final.csv')\n",
    "df.info()"
   ]
  },
  {
   "cell_type": "code",
   "execution_count": 3,
   "metadata": {
    "collapsed": false
   },
   "outputs": [
    {
     "data": {
      "text/html": [
       "<div>\n",
       "<table border=\"1\" class=\"dataframe\">\n",
       "  <thead>\n",
       "    <tr style=\"text-align: right;\">\n",
       "      <th></th>\n",
       "      <th>uid</th>\n",
       "      <th>song_id</th>\n",
       "      <th>freq_P_last_1</th>\n",
       "      <th>freq_P_last_3</th>\n",
       "      <th>freq_P_last_7</th>\n",
       "      <th>freq_P_last_14</th>\n",
       "      <th>freq_P_last_30</th>\n",
       "      <th>freq_P_last_44</th>\n",
       "      <th>freq_D_last_1</th>\n",
       "      <th>freq_D_last_3</th>\n",
       "      <th>...</th>\n",
       "      <th>freq_D_last_30</th>\n",
       "      <th>freq_D_last_44</th>\n",
       "      <th>rec_P</th>\n",
       "      <th>rec_D</th>\n",
       "      <th>rela_freq_last_1</th>\n",
       "      <th>rela_freq_last_3</th>\n",
       "      <th>rela_freq_last_7</th>\n",
       "      <th>rela_freq_last_14</th>\n",
       "      <th>rela_freq_last_30</th>\n",
       "      <th>rela_freq_last_44</th>\n",
       "    </tr>\n",
       "  </thead>\n",
       "  <tbody>\n",
       "    <tr>\n",
       "      <th>0</th>\n",
       "      <td>6871077</td>\n",
       "      <td>22399766</td>\n",
       "      <td>0</td>\n",
       "      <td>0</td>\n",
       "      <td>0</td>\n",
       "      <td>0</td>\n",
       "      <td>2</td>\n",
       "      <td>2</td>\n",
       "      <td>0</td>\n",
       "      <td>0</td>\n",
       "      <td>...</td>\n",
       "      <td>0</td>\n",
       "      <td>0</td>\n",
       "      <td>18</td>\n",
       "      <td>0</td>\n",
       "      <td>0</td>\n",
       "      <td>0</td>\n",
       "      <td>0</td>\n",
       "      <td>0</td>\n",
       "      <td>0</td>\n",
       "      <td>0</td>\n",
       "    </tr>\n",
       "    <tr>\n",
       "      <th>1</th>\n",
       "      <td>9644453</td>\n",
       "      <td>6819013</td>\n",
       "      <td>0</td>\n",
       "      <td>0</td>\n",
       "      <td>0</td>\n",
       "      <td>0</td>\n",
       "      <td>0</td>\n",
       "      <td>1</td>\n",
       "      <td>0</td>\n",
       "      <td>0</td>\n",
       "      <td>...</td>\n",
       "      <td>0</td>\n",
       "      <td>0</td>\n",
       "      <td>40</td>\n",
       "      <td>0</td>\n",
       "      <td>0</td>\n",
       "      <td>0</td>\n",
       "      <td>0</td>\n",
       "      <td>0</td>\n",
       "      <td>0</td>\n",
       "      <td>1</td>\n",
       "    </tr>\n",
       "    <tr>\n",
       "      <th>2</th>\n",
       "      <td>12781898</td>\n",
       "      <td>4757745</td>\n",
       "      <td>0</td>\n",
       "      <td>0</td>\n",
       "      <td>0</td>\n",
       "      <td>0</td>\n",
       "      <td>0</td>\n",
       "      <td>1</td>\n",
       "      <td>0</td>\n",
       "      <td>0</td>\n",
       "      <td>...</td>\n",
       "      <td>0</td>\n",
       "      <td>0</td>\n",
       "      <td>43</td>\n",
       "      <td>0</td>\n",
       "      <td>0</td>\n",
       "      <td>0</td>\n",
       "      <td>0</td>\n",
       "      <td>0</td>\n",
       "      <td>0</td>\n",
       "      <td>0</td>\n",
       "    </tr>\n",
       "    <tr>\n",
       "      <th>3</th>\n",
       "      <td>12805959</td>\n",
       "      <td>12036103</td>\n",
       "      <td>1</td>\n",
       "      <td>2</td>\n",
       "      <td>8</td>\n",
       "      <td>14</td>\n",
       "      <td>14</td>\n",
       "      <td>14</td>\n",
       "      <td>0</td>\n",
       "      <td>0</td>\n",
       "      <td>...</td>\n",
       "      <td>0</td>\n",
       "      <td>0</td>\n",
       "      <td>0</td>\n",
       "      <td>0</td>\n",
       "      <td>0</td>\n",
       "      <td>0</td>\n",
       "      <td>0</td>\n",
       "      <td>0</td>\n",
       "      <td>0</td>\n",
       "      <td>0</td>\n",
       "    </tr>\n",
       "    <tr>\n",
       "      <th>4</th>\n",
       "      <td>14530206</td>\n",
       "      <td>5275323</td>\n",
       "      <td>0</td>\n",
       "      <td>0</td>\n",
       "      <td>0</td>\n",
       "      <td>0</td>\n",
       "      <td>2</td>\n",
       "      <td>2</td>\n",
       "      <td>0</td>\n",
       "      <td>0</td>\n",
       "      <td>...</td>\n",
       "      <td>0</td>\n",
       "      <td>0</td>\n",
       "      <td>29</td>\n",
       "      <td>0</td>\n",
       "      <td>0</td>\n",
       "      <td>0</td>\n",
       "      <td>0</td>\n",
       "      <td>0</td>\n",
       "      <td>0</td>\n",
       "      <td>0</td>\n",
       "    </tr>\n",
       "    <tr>\n",
       "      <th>5</th>\n",
       "      <td>14915165</td>\n",
       "      <td>23537652</td>\n",
       "      <td>0</td>\n",
       "      <td>0</td>\n",
       "      <td>0</td>\n",
       "      <td>0</td>\n",
       "      <td>1</td>\n",
       "      <td>1</td>\n",
       "      <td>0</td>\n",
       "      <td>0</td>\n",
       "      <td>...</td>\n",
       "      <td>0</td>\n",
       "      <td>0</td>\n",
       "      <td>18</td>\n",
       "      <td>0</td>\n",
       "      <td>0</td>\n",
       "      <td>0</td>\n",
       "      <td>0</td>\n",
       "      <td>0</td>\n",
       "      <td>0</td>\n",
       "      <td>0</td>\n",
       "    </tr>\n",
       "    <tr>\n",
       "      <th>6</th>\n",
       "      <td>16202430</td>\n",
       "      <td>23110924</td>\n",
       "      <td>0</td>\n",
       "      <td>0</td>\n",
       "      <td>0</td>\n",
       "      <td>0</td>\n",
       "      <td>0</td>\n",
       "      <td>1</td>\n",
       "      <td>0</td>\n",
       "      <td>0</td>\n",
       "      <td>...</td>\n",
       "      <td>0</td>\n",
       "      <td>2</td>\n",
       "      <td>43</td>\n",
       "      <td>43</td>\n",
       "      <td>0</td>\n",
       "      <td>0</td>\n",
       "      <td>0</td>\n",
       "      <td>0</td>\n",
       "      <td>0</td>\n",
       "      <td>0</td>\n",
       "    </tr>\n",
       "    <tr>\n",
       "      <th>7</th>\n",
       "      <td>21776440</td>\n",
       "      <td>7180760</td>\n",
       "      <td>0</td>\n",
       "      <td>0</td>\n",
       "      <td>0</td>\n",
       "      <td>0</td>\n",
       "      <td>0</td>\n",
       "      <td>1</td>\n",
       "      <td>0</td>\n",
       "      <td>0</td>\n",
       "      <td>...</td>\n",
       "      <td>0</td>\n",
       "      <td>0</td>\n",
       "      <td>43</td>\n",
       "      <td>0</td>\n",
       "      <td>0</td>\n",
       "      <td>0</td>\n",
       "      <td>0</td>\n",
       "      <td>0</td>\n",
       "      <td>0</td>\n",
       "      <td>0</td>\n",
       "    </tr>\n",
       "    <tr>\n",
       "      <th>8</th>\n",
       "      <td>22769152</td>\n",
       "      <td>137975</td>\n",
       "      <td>0</td>\n",
       "      <td>0</td>\n",
       "      <td>0</td>\n",
       "      <td>0</td>\n",
       "      <td>0</td>\n",
       "      <td>1</td>\n",
       "      <td>0</td>\n",
       "      <td>0</td>\n",
       "      <td>...</td>\n",
       "      <td>0</td>\n",
       "      <td>0</td>\n",
       "      <td>43</td>\n",
       "      <td>0</td>\n",
       "      <td>0</td>\n",
       "      <td>0</td>\n",
       "      <td>0</td>\n",
       "      <td>0</td>\n",
       "      <td>0</td>\n",
       "      <td>1</td>\n",
       "    </tr>\n",
       "    <tr>\n",
       "      <th>9</th>\n",
       "      <td>31407570</td>\n",
       "      <td>665901</td>\n",
       "      <td>0</td>\n",
       "      <td>0</td>\n",
       "      <td>1</td>\n",
       "      <td>2</td>\n",
       "      <td>3</td>\n",
       "      <td>6</td>\n",
       "      <td>0</td>\n",
       "      <td>0</td>\n",
       "      <td>...</td>\n",
       "      <td>0</td>\n",
       "      <td>0</td>\n",
       "      <td>4</td>\n",
       "      <td>0</td>\n",
       "      <td>0</td>\n",
       "      <td>0</td>\n",
       "      <td>1</td>\n",
       "      <td>2</td>\n",
       "      <td>2</td>\n",
       "      <td>4</td>\n",
       "    </tr>\n",
       "  </tbody>\n",
       "</table>\n",
       "<p>10 rows × 22 columns</p>\n",
       "</div>"
      ],
      "text/plain": [
       "        uid   song_id  freq_P_last_1  freq_P_last_3  freq_P_last_7  \\\n",
       "0   6871077  22399766              0              0              0   \n",
       "1   9644453   6819013              0              0              0   \n",
       "2  12781898   4757745              0              0              0   \n",
       "3  12805959  12036103              1              2              8   \n",
       "4  14530206   5275323              0              0              0   \n",
       "5  14915165  23537652              0              0              0   \n",
       "6  16202430  23110924              0              0              0   \n",
       "7  21776440   7180760              0              0              0   \n",
       "8  22769152    137975              0              0              0   \n",
       "9  31407570    665901              0              0              1   \n",
       "\n",
       "   freq_P_last_14  freq_P_last_30  freq_P_last_44  freq_D_last_1  \\\n",
       "0               0               2               2              0   \n",
       "1               0               0               1              0   \n",
       "2               0               0               1              0   \n",
       "3              14              14              14              0   \n",
       "4               0               2               2              0   \n",
       "5               0               1               1              0   \n",
       "6               0               0               1              0   \n",
       "7               0               0               1              0   \n",
       "8               0               0               1              0   \n",
       "9               2               3               6              0   \n",
       "\n",
       "   freq_D_last_3        ...          freq_D_last_30  freq_D_last_44  rec_P  \\\n",
       "0              0        ...                       0               0     18   \n",
       "1              0        ...                       0               0     40   \n",
       "2              0        ...                       0               0     43   \n",
       "3              0        ...                       0               0      0   \n",
       "4              0        ...                       0               0     29   \n",
       "5              0        ...                       0               0     18   \n",
       "6              0        ...                       0               2     43   \n",
       "7              0        ...                       0               0     43   \n",
       "8              0        ...                       0               0     43   \n",
       "9              0        ...                       0               0      4   \n",
       "\n",
       "   rec_D  rela_freq_last_1  rela_freq_last_3  rela_freq_last_7  \\\n",
       "0      0                 0                 0                 0   \n",
       "1      0                 0                 0                 0   \n",
       "2      0                 0                 0                 0   \n",
       "3      0                 0                 0                 0   \n",
       "4      0                 0                 0                 0   \n",
       "5      0                 0                 0                 0   \n",
       "6     43                 0                 0                 0   \n",
       "7      0                 0                 0                 0   \n",
       "8      0                 0                 0                 0   \n",
       "9      0                 0                 0                 1   \n",
       "\n",
       "   rela_freq_last_14  rela_freq_last_30  rela_freq_last_44  \n",
       "0                  0                  0                  0  \n",
       "1                  0                  0                  1  \n",
       "2                  0                  0                  0  \n",
       "3                  0                  0                  0  \n",
       "4                  0                  0                  0  \n",
       "5                  0                  0                  0  \n",
       "6                  0                  0                  0  \n",
       "7                  0                  0                  0  \n",
       "8                  0                  0                  1  \n",
       "9                  2                  2                  4  \n",
       "\n",
       "[10 rows x 22 columns]"
      ]
     },
     "execution_count": 3,
     "metadata": {},
     "output_type": "execute_result"
    }
   ],
   "source": [
    "df.head(10)"
   ]
  },
  {
   "cell_type": "markdown",
   "metadata": {},
   "source": [
    "## 2. User Cleaning and Implicit Rating Generation"
   ]
  },
  {
   "cell_type": "code",
   "execution_count": 4,
   "metadata": {
    "collapsed": false
   },
   "outputs": [
    {
     "data": {
      "text/plain": [
       "168611409    1882\n",
       "168584901    1745\n",
       "168543021    1323\n",
       "168909986    1234\n",
       "168775506    1226\n",
       "168822524    1104\n",
       "168664158    1088\n",
       "168754788    1084\n",
       "168822909    1076\n",
       "168721874    1049\n",
       "Name: uid, dtype: int64"
      ]
     },
     "execution_count": 4,
     "metadata": {},
     "output_type": "execute_result"
    }
   ],
   "source": [
    "df_user_counts = df['uid'].value_counts()\n",
    "df_user_counts.head(10)"
   ]
  },
  {
   "cell_type": "markdown",
   "metadata": {},
   "source": [
    "There are many users with **few** records. It is necessary to remove those invincible records."
   ]
  },
  {
   "cell_type": "code",
   "execution_count": 5,
   "metadata": {
    "collapsed": false
   },
   "outputs": [
    {
     "data": {
      "image/png": "[encoded data removed]",
      "text/plain": [
       "<matplotlib.figure.Figure at 0x10669ed10>"
      ]
     },
     "metadata": {},
     "output_type": "display_data"
    }
   ],
   "source": [
    "df_user_counts.apply(np.log10).hist()\n",
    "plt.show()"
   ]
  },
  {
   "cell_type": "code",
   "execution_count": 6,
   "metadata": {
    "collapsed": true
   },
   "outputs": [],
   "source": [
    "df_users = df_user_counts[df_user_counts > 5]"
   ]
  },
  {
   "cell_type": "code",
   "execution_count": 7,
   "metadata": {
    "collapsed": true
   },
   "outputs": [],
   "source": [
    "# df_song_counts = df['song_id'].value_counts()\n",
    "# df_song_counts.head(10)\n",
    "# df_song_counts.apply(np.log10).hist()\n",
    "# plt.show()\n",
    "# df_songs = df_song_counts[df_song_counts > 5]"
   ]
  },
  {
   "cell_type": "code",
   "execution_count": 8,
   "metadata": {
    "collapsed": false
   },
   "outputs": [
    {
     "name": "stdout",
     "output_type": "stream",
     "text": [
      "<class 'pandas.core.frame.DataFrame'>\n",
      "RangeIndex: 547741 entries, 0 to 547740\n",
      "Data columns (total 22 columns):\n",
      "uid                  547741 non-null int64\n",
      "song_id              547741 non-null int64\n",
      "freq_P_last_1        547741 non-null int64\n",
      "freq_P_last_3        547741 non-null int64\n",
      "freq_P_last_7        547741 non-null int64\n",
      "freq_P_last_14       547741 non-null int64\n",
      "freq_P_last_30       547741 non-null int64\n",
      "freq_P_last_44       547741 non-null int64\n",
      "freq_D_last_1        547741 non-null int64\n",
      "freq_D_last_3        547741 non-null int64\n",
      "freq_D_last_7        547741 non-null int64\n",
      "freq_D_last_14       547741 non-null int64\n",
      "freq_D_last_30       547741 non-null int64\n",
      "freq_D_last_44       547741 non-null int64\n",
      "rec_P                547741 non-null int64\n",
      "rec_D                547741 non-null int64\n",
      "rela_freq_last_1     547741 non-null int64\n",
      "rela_freq_last_3     547741 non-null int64\n",
      "rela_freq_last_7     547741 non-null int64\n",
      "rela_freq_last_14    547741 non-null int64\n",
      "rela_freq_last_30    547741 non-null int64\n",
      "rela_freq_last_44    547741 non-null int64\n",
      "dtypes: int64(22)\n",
      "memory usage: 91.9 MB\n"
     ]
    }
   ],
   "source": [
    "\n",
    "df_tidy = df.set_index('uid').loc[df_users.index].reset_index()\n",
    "# df_tidy = df.set_index('uid').loc[df_users.index].reset_index()\\\n",
    "#             .set_index('song_id').loc[df_songs.index].reset_index()\n",
    "df_tidy.info()"
   ]
  },
  {
   "cell_type": "code",
   "execution_count": 9,
   "metadata": {
    "collapsed": true
   },
   "outputs": [],
   "source": [
    "reco_features = ['freq_P_last_44', 'freq_D_last_44', 'rela_freq_last_44']\n",
    "df_1 = df_tidy[reco_features]\n",
    "\n",
    "# filter the data without downloading record\n",
    "df_1 = df_1.loc[(df.freq_D_last_44!=0) & ((df.freq_P_last_44!=0) | (df.rela_freq_last_44!=0))]"
   ]
  },
  {
   "cell_type": "markdown",
   "metadata": {},
   "source": [
    "### Outlier Detection\n",
    "The Data has a long tail. It is reasonable to remove both very small and big values, which are both invincible. \n",
    "However, from the descriptive statistic below, the maximum values of the features fall in a normal interval. "
   ]
  },
  {
   "cell_type": "code",
   "execution_count": 10,
   "metadata": {
    "collapsed": false
   },
   "outputs": [
    {
     "data": {
      "text/html": [
       "<div>\n",
       "<table border=\"1\" class=\"dataframe\">\n",
       "  <thead>\n",
       "    <tr style=\"text-align: right;\">\n",
       "      <th></th>\n",
       "      <th>freq_P_last_44</th>\n",
       "      <th>freq_D_last_44</th>\n",
       "      <th>rela_freq_last_44</th>\n",
       "    </tr>\n",
       "  </thead>\n",
       "  <tbody>\n",
       "    <tr>\n",
       "      <th>count</th>\n",
       "      <td>72310.000000</td>\n",
       "      <td>72310.000000</td>\n",
       "      <td>72310.000000</td>\n",
       "    </tr>\n",
       "    <tr>\n",
       "      <th>mean</th>\n",
       "      <td>3.404868</td>\n",
       "      <td>0.146536</td>\n",
       "      <td>1.113000</td>\n",
       "    </tr>\n",
       "    <tr>\n",
       "      <th>std</th>\n",
       "      <td>11.874277</td>\n",
       "      <td>0.401482</td>\n",
       "      <td>5.244973</td>\n",
       "    </tr>\n",
       "    <tr>\n",
       "      <th>min</th>\n",
       "      <td>1.000000</td>\n",
       "      <td>0.000000</td>\n",
       "      <td>0.000000</td>\n",
       "    </tr>\n",
       "    <tr>\n",
       "      <th>25%</th>\n",
       "      <td>1.000000</td>\n",
       "      <td>0.000000</td>\n",
       "      <td>0.000000</td>\n",
       "    </tr>\n",
       "    <tr>\n",
       "      <th>50%</th>\n",
       "      <td>1.000000</td>\n",
       "      <td>0.000000</td>\n",
       "      <td>0.000000</td>\n",
       "    </tr>\n",
       "    <tr>\n",
       "      <th>75%</th>\n",
       "      <td>2.000000</td>\n",
       "      <td>0.000000</td>\n",
       "      <td>1.000000</td>\n",
       "    </tr>\n",
       "    <tr>\n",
       "      <th>max</th>\n",
       "      <td>1496.000000</td>\n",
       "      <td>7.000000</td>\n",
       "      <td>1091.000000</td>\n",
       "    </tr>\n",
       "  </tbody>\n",
       "</table>\n",
       "</div>"
      ],
      "text/plain": [
       "       freq_P_last_44  freq_D_last_44  rela_freq_last_44\n",
       "count    72310.000000    72310.000000       72310.000000\n",
       "mean         3.404868        0.146536           1.113000\n",
       "std         11.874277        0.401482           5.244973\n",
       "min          1.000000        0.000000           0.000000\n",
       "25%          1.000000        0.000000           0.000000\n",
       "50%          1.000000        0.000000           0.000000\n",
       "75%          2.000000        0.000000           1.000000\n",
       "max       1496.000000        7.000000        1091.000000"
      ]
     },
     "execution_count": 10,
     "metadata": {},
     "output_type": "execute_result"
    }
   ],
   "source": [
    "df_1.describe()"
   ]
  },
  {
   "cell_type": "code",
   "execution_count": 11,
   "metadata": {
    "collapsed": false
   },
   "outputs": [
    {
     "data": {
      "text/html": [
       "<div>\n",
       "<table border=\"1\" class=\"dataframe\">\n",
       "  <thead>\n",
       "    <tr style=\"text-align: right;\">\n",
       "      <th></th>\n",
       "      <th>freq_P_last_44</th>\n",
       "      <th>freq_D_last_44</th>\n",
       "      <th>rela_freq_last_44</th>\n",
       "    </tr>\n",
       "  </thead>\n",
       "  <tbody>\n",
       "    <tr>\n",
       "      <th>count</th>\n",
       "      <td>72310.000000</td>\n",
       "      <td>72310.000000</td>\n",
       "      <td>72310.000000</td>\n",
       "    </tr>\n",
       "    <tr>\n",
       "      <th>mean</th>\n",
       "      <td>0.472922</td>\n",
       "      <td>0.042400</td>\n",
       "      <td>0.191721</td>\n",
       "    </tr>\n",
       "    <tr>\n",
       "      <th>std</th>\n",
       "      <td>0.287242</td>\n",
       "      <td>0.109528</td>\n",
       "      <td>0.273981</td>\n",
       "    </tr>\n",
       "    <tr>\n",
       "      <th>min</th>\n",
       "      <td>0.301030</td>\n",
       "      <td>0.000000</td>\n",
       "      <td>0.000000</td>\n",
       "    </tr>\n",
       "    <tr>\n",
       "      <th>25%</th>\n",
       "      <td>0.301030</td>\n",
       "      <td>0.000000</td>\n",
       "      <td>0.000000</td>\n",
       "    </tr>\n",
       "    <tr>\n",
       "      <th>50%</th>\n",
       "      <td>0.301030</td>\n",
       "      <td>0.000000</td>\n",
       "      <td>0.000000</td>\n",
       "    </tr>\n",
       "    <tr>\n",
       "      <th>75%</th>\n",
       "      <td>0.477121</td>\n",
       "      <td>0.000000</td>\n",
       "      <td>0.301030</td>\n",
       "    </tr>\n",
       "    <tr>\n",
       "      <th>max</th>\n",
       "      <td>3.175222</td>\n",
       "      <td>0.903090</td>\n",
       "      <td>3.038223</td>\n",
       "    </tr>\n",
       "  </tbody>\n",
       "</table>\n",
       "</div>"
      ],
      "text/plain": [
       "       freq_P_last_44  freq_D_last_44  rela_freq_last_44\n",
       "count    72310.000000    72310.000000       72310.000000\n",
       "mean         0.472922        0.042400           0.191721\n",
       "std          0.287242        0.109528           0.273981\n",
       "min          0.301030        0.000000           0.000000\n",
       "25%          0.301030        0.000000           0.000000\n",
       "50%          0.301030        0.000000           0.000000\n",
       "75%          0.477121        0.000000           0.301030\n",
       "max          3.175222        0.903090           3.038223"
      ]
     },
     "execution_count": 11,
     "metadata": {},
     "output_type": "execute_result"
    }
   ],
   "source": [
    "df_1 = df_1.apply(lambda x: np.log10(x+1))\n",
    "df_1.describe()"
   ]
  },
  {
   "cell_type": "code",
   "execution_count": 12,
   "metadata": {
    "collapsed": false
   },
   "outputs": [
    {
     "data": {
      "image/png": "[encoded data removed]",
      "text/plain": [
       "<matplotlib.figure.Figure at 0x106412850>"
      ]
     },
     "metadata": {},
     "output_type": "display_data"
    }
   ],
   "source": [
    "plt.rcParams['figure.figsize'] = [10, 5]\n",
    "df_1.hist()\n",
    "plt.show()\n",
    "%matplotlib inline"
   ]
  },
  {
   "cell_type": "code",
   "execution_count": 13,
   "metadata": {
    "collapsed": true
   },
   "outputs": [],
   "source": [
    "min_max_scaler = preprocessing.MinMaxScaler()\n",
    "df_1 = pd.DataFrame(min_max_scaler.fit_transform(df_1))"
   ]
  },
  {
   "cell_type": "markdown",
   "metadata": {},
   "source": [
    "### Utility Matrix"
   ]
  },
  {
   "cell_type": "code",
   "execution_count": 14,
   "metadata": {
    "collapsed": true
   },
   "outputs": [],
   "source": [
    "df_utility = df[['uid', 'song_id']].copy()\n",
    "df_utility[['freq_P_last_44_log10_scale', \n",
    "            'freq_D_last_44_log10_scale', \n",
    "            'rela_freq_last_44_log10_scale']] = df_1\n",
    "df_utility['composite_eval'] = 0.2*df_utility['freq_P_last_44_log10_scale'] \\\n",
    "                                + 0.5*df_utility['freq_D_last_44_log10_scale'] \\\n",
    "                                + 0.3*df_utility['rela_freq_last_44_log10_scale']"
   ]
  },
  {
   "cell_type": "code",
   "execution_count": 15,
   "metadata": {
    "collapsed": false
   },
   "outputs": [
    {
     "data": {
      "image/png": "[encoded data removed]",
      "text/plain": [
       "<matplotlib.figure.Figure at 0x11c5dacd0>"
      ]
     },
     "metadata": {},
     "output_type": "display_data"
    }
   ],
   "source": [
    "plt.rcParams['figure.figsize'] = [10, 5]\n",
    "df_utility['composite_eval'].hist()\n",
    "plt.show()\n",
    "%matplotlib inline"
   ]
  },
  {
   "cell_type": "code",
   "execution_count": 16,
   "metadata": {
    "collapsed": true
   },
   "outputs": [],
   "source": [
    "rat_min = np.min(df_utility['composite_eval'])\n",
    "rat_max = np.max(df_utility['composite_eval'])\n",
    "# rat_step = (rat_max - rat_min)/5\n",
    "# rat_bins = np.append(np.arange(rat_min, rat_max, rat_step), rat_max)\n",
    "\n",
    "rat_step = (rat_max - rat_min)/15\n",
    "rat_bins = np.array([rat_min, rat_min+rat_step*.5, rat_min+rat_step*1, \n",
    "                      rat_min+rat_step*5, rat_min+rat_step*7, rat_max])"
   ]
  },
  {
   "cell_type": "code",
   "execution_count": 17,
   "metadata": {
    "collapsed": false
   },
   "outputs": [
    {
     "data": {
      "text/plain": [
       "2    15950\n",
       "3    14693\n",
       "1     7088\n",
       "4     3673\n",
       "5     1795\n",
       "dtype: int64"
      ]
     },
     "execution_count": 17,
     "metadata": {},
     "output_type": "execute_result"
    }
   ],
   "source": [
    "df_utility['implicit_rating'] = pd.cut(df_utility['composite_eval'], rat_bins, labels=np.arange(1, 6))\n",
    "df_utility['implicit_rating'].value_counts()"
   ]
  },
  {
   "cell_type": "code",
   "execution_count": 18,
   "metadata": {
    "collapsed": false
   },
   "outputs": [
    {
     "data": {
      "image/png": "[encoded data removed]",
      "text/plain": [
       "<matplotlib.figure.Figure at 0x11c5cfed0>"
      ]
     },
     "metadata": {},
     "output_type": "display_data"
    }
   ],
   "source": [
    "df_utility['implicit_rating'].value_counts().sort_index().plot(kind='bar')\n",
    "plt.title('Histogram of ratings')\n",
    "plt.show()"
   ]
  },
  {
   "cell_type": "code",
   "execution_count": 19,
   "metadata": {
    "collapsed": false
   },
   "outputs": [
    {
     "name": "stdout",
     "output_type": "stream",
     "text": [
      "<class 'pandas.core.frame.DataFrame'>\n",
      "RangeIndex: 553324 entries, 0 to 553323\n",
      "Data columns (total 3 columns):\n",
      "uid                553324 non-null int64\n",
      "song_id            553324 non-null int64\n",
      "implicit_rating    43199 non-null category\n",
      "dtypes: category(1), int64(2)\n",
      "memory usage: 9.0 MB\n"
     ]
    }
   ],
   "source": [
    "df_ratings = df_utility[['uid', 'song_id', 'implicit_rating']]\n",
    "df_ratings.info()"
   ]
  },
  {
   "cell_type": "code",
   "execution_count": 20,
   "metadata": {
    "collapsed": false,
    "scrolled": true
   },
   "outputs": [
    {
     "name": "stdout",
     "output_type": "stream",
     "text": [
      "<class 'pandas.core.frame.DataFrame'>\n",
      "Int64Index: 43199 entries, 0 to 72309\n",
      "Data columns (total 3 columns):\n",
      "uid                43199 non-null int64\n",
      "song_id            43199 non-null int64\n",
      "implicit_rating    43199 non-null int64\n",
      "dtypes: int64(3)\n",
      "memory usage: 1.3 MB\n"
     ]
    }
   ],
   "source": [
    "df_ratings = df_ratings[df_ratings['implicit_rating'].notnull()]\n",
    "df_ratings['implicit_rating'] = df_ratings['implicit_rating'].astype('int')\n",
    "df_ratings.info()"
   ]
  },
  {
   "cell_type": "code",
   "execution_count": null,
   "metadata": {
    "collapsed": true
   },
   "outputs": [],
   "source": []
  },
  {
   "cell_type": "markdown",
   "metadata": {},
   "source": [
    "## 3. Item-Item Recommender (GraphLab)"
   ]
  },
  {
   "cell_type": "code",
   "execution_count": 21,
   "metadata": {
    "collapsed": true
   },
   "outputs": [],
   "source": [
    "import graphlab"
   ]
  },
  {
   "cell_type": "code",
   "execution_count": 22,
   "metadata": {
    "collapsed": false
   },
   "outputs": [
    {
     "name": "stderr",
     "output_type": "stream",
     "text": [
      "[INFO] graphlab.cython.cy_server: GraphLab Create v2.1 started. Logging: /tmp/graphlab_server_1531075412.log\n"
     ]
    },
    {
     "name": "stdout",
     "output_type": "stream",
     "text": [
      "This non-commercial license of GraphLab Create for academic use is assigned to pli3@tulane.edu and will expire on May 22, 2019.\n"
     ]
    },
    {
     "data": {
      "text/html": [
       "<div style=\"max-height:1000px;max-width:1500px;overflow:auto;\"><table frame=\"box\" rules=\"cols\">\n",
       "    <tr>\n",
       "        <th style=\"padding-left: 1em; padding-right: 1em; text-align: center\">uid</th>\n",
       "        <th style=\"padding-left: 1em; padding-right: 1em; text-align: center\">song_id</th>\n",
       "        <th style=\"padding-left: 1em; padding-right: 1em; text-align: center\">implicit_rating</th>\n",
       "    </tr>\n",
       "    <tr>\n",
       "        <td style=\"padding-left: 1em; padding-right: 1em; text-align: center; vertical-align: top\">6871077</td>\n",
       "        <td style=\"padding-left: 1em; padding-right: 1em; text-align: center; vertical-align: top\">22399766</td>\n",
       "        <td style=\"padding-left: 1em; padding-right: 1em; text-align: center; vertical-align: top\">3</td>\n",
       "    </tr>\n",
       "    <tr>\n",
       "        <td style=\"padding-left: 1em; padding-right: 1em; text-align: center; vertical-align: top\">9644453</td>\n",
       "        <td style=\"padding-left: 1em; padding-right: 1em; text-align: center; vertical-align: top\">6819013</td>\n",
       "        <td style=\"padding-left: 1em; padding-right: 1em; text-align: center; vertical-align: top\">3</td>\n",
       "    </tr>\n",
       "    <tr>\n",
       "        <td style=\"padding-left: 1em; padding-right: 1em; text-align: center; vertical-align: top\">12781898</td>\n",
       "        <td style=\"padding-left: 1em; padding-right: 1em; text-align: center; vertical-align: top\">4757745</td>\n",
       "        <td style=\"padding-left: 1em; padding-right: 1em; text-align: center; vertical-align: top\">2</td>\n",
       "    </tr>\n",
       "    <tr>\n",
       "        <td style=\"padding-left: 1em; padding-right: 1em; text-align: center; vertical-align: top\">12805959</td>\n",
       "        <td style=\"padding-left: 1em; padding-right: 1em; text-align: center; vertical-align: top\">12036103</td>\n",
       "        <td style=\"padding-left: 1em; padding-right: 1em; text-align: center; vertical-align: top\">1</td>\n",
       "    </tr>\n",
       "    <tr>\n",
       "        <td style=\"padding-left: 1em; padding-right: 1em; text-align: center; vertical-align: top\">14530206</td>\n",
       "        <td style=\"padding-left: 1em; padding-right: 1em; text-align: center; vertical-align: top\">5275323</td>\n",
       "        <td style=\"padding-left: 1em; padding-right: 1em; text-align: center; vertical-align: top\">2</td>\n",
       "    </tr>\n",
       "    <tr>\n",
       "        <td style=\"padding-left: 1em; padding-right: 1em; text-align: center; vertical-align: top\">14915165</td>\n",
       "        <td style=\"padding-left: 1em; padding-right: 1em; text-align: center; vertical-align: top\">23537652</td>\n",
       "        <td style=\"padding-left: 1em; padding-right: 1em; text-align: center; vertical-align: top\">3</td>\n",
       "    </tr>\n",
       "    <tr>\n",
       "        <td style=\"padding-left: 1em; padding-right: 1em; text-align: center; vertical-align: top\">16202430</td>\n",
       "        <td style=\"padding-left: 1em; padding-right: 1em; text-align: center; vertical-align: top\">23110924</td>\n",
       "        <td style=\"padding-left: 1em; padding-right: 1em; text-align: center; vertical-align: top\">3</td>\n",
       "    </tr>\n",
       "    <tr>\n",
       "        <td style=\"padding-left: 1em; padding-right: 1em; text-align: center; vertical-align: top\">21776440</td>\n",
       "        <td style=\"padding-left: 1em; padding-right: 1em; text-align: center; vertical-align: top\">7180760</td>\n",
       "        <td style=\"padding-left: 1em; padding-right: 1em; text-align: center; vertical-align: top\">3</td>\n",
       "    </tr>\n",
       "    <tr>\n",
       "        <td style=\"padding-left: 1em; padding-right: 1em; text-align: center; vertical-align: top\">22769152</td>\n",
       "        <td style=\"padding-left: 1em; padding-right: 1em; text-align: center; vertical-align: top\">137975</td>\n",
       "        <td style=\"padding-left: 1em; padding-right: 1em; text-align: center; vertical-align: top\">2</td>\n",
       "    </tr>\n",
       "    <tr>\n",
       "        <td style=\"padding-left: 1em; padding-right: 1em; text-align: center; vertical-align: top\">31407570</td>\n",
       "        <td style=\"padding-left: 1em; padding-right: 1em; text-align: center; vertical-align: top\">665901</td>\n",
       "        <td style=\"padding-left: 1em; padding-right: 1em; text-align: center; vertical-align: top\">3</td>\n",
       "    </tr>\n",
       "</table>\n",
       "[43199 rows x 3 columns]<br/>Note: Only the head of the SFrame is printed.<br/>You can use print_rows(num_rows=m, num_columns=n) to print more rows and columns.\n",
       "</div>"
      ],
      "text/plain": [
       "Columns:\n",
       "\tuid\tint\n",
       "\tsong_id\tint\n",
       "\timplicit_rating\tint\n",
       "\n",
       "Rows: 43199\n",
       "\n",
       "Data:\n",
       "+----------+----------+-----------------+\n",
       "|   uid    | song_id  | implicit_rating |\n",
       "+----------+----------+-----------------+\n",
       "| 6871077  | 22399766 |        3        |\n",
       "| 9644453  | 6819013  |        3        |\n",
       "| 12781898 | 4757745  |        2        |\n",
       "| 12805959 | 12036103 |        1        |\n",
       "| 14530206 | 5275323  |        2        |\n",
       "| 14915165 | 23537652 |        3        |\n",
       "| 16202430 | 23110924 |        3        |\n",
       "| 21776440 | 7180760  |        3        |\n",
       "| 22769152 |  137975  |        2        |\n",
       "| 31407570 |  665901  |        3        |\n",
       "+----------+----------+-----------------+\n",
       "[43199 rows x 3 columns]\n",
       "Note: Only the head of the SFrame is printed.\n",
       "You can use print_rows(num_rows=m, num_columns=n) to print more rows and columns."
      ]
     },
     "execution_count": 22,
     "metadata": {},
     "output_type": "execute_result"
    }
   ],
   "source": [
    "sf_ratings = graphlab.SFrame(df_ratings)\n",
    "sf_ratings # SFrame similar to DataFrame"
   ]
  },
  {
   "cell_type": "code",
   "execution_count": 23,
   "metadata": {
    "collapsed": false
   },
   "outputs": [
    {
     "data": {
      "text/html": [
       "<pre>Recsys training: model = item_similarity</pre>"
      ],
      "text/plain": [
       "Recsys training: model = item_similarity"
      ]
     },
     "metadata": {},
     "output_type": "display_data"
    },
    {
     "data": {
      "text/html": [
       "<pre>Preparing data set.</pre>"
      ],
      "text/plain": [
       "Preparing data set."
      ]
     },
     "metadata": {},
     "output_type": "display_data"
    },
    {
     "data": {
      "text/html": [
       "<pre>    Data has 43199 observations with 6536 users and 24239 items.</pre>"
      ],
      "text/plain": [
       "    Data has 43199 observations with 6536 users and 24239 items."
      ]
     },
     "metadata": {},
     "output_type": "display_data"
    },
    {
     "data": {
      "text/html": [
       "<pre>    Data prepared in: 0.069568s</pre>"
      ],
      "text/plain": [
       "    Data prepared in: 0.069568s"
      ]
     },
     "metadata": {},
     "output_type": "display_data"
    },
    {
     "data": {
      "text/html": [
       "<pre>Training model from provided data.</pre>"
      ],
      "text/plain": [
       "Training model from provided data."
      ]
     },
     "metadata": {},
     "output_type": "display_data"
    },
    {
     "data": {
      "text/html": [
       "<pre>Gathering per-item and per-user statistics.</pre>"
      ],
      "text/plain": [
       "Gathering per-item and per-user statistics."
      ]
     },
     "metadata": {},
     "output_type": "display_data"
    },
    {
     "data": {
      "text/html": [
       "<pre>+--------------------------------+------------+</pre>"
      ],
      "text/plain": [
       "+--------------------------------+------------+"
      ]
     },
     "metadata": {},
     "output_type": "display_data"
    },
    {
     "data": {
      "text/html": [
       "<pre>| Elapsed Time (Item Statistics) | % Complete |</pre>"
      ],
      "text/plain": [
       "| Elapsed Time (Item Statistics) | % Complete |"
      ]
     },
     "metadata": {},
     "output_type": "display_data"
    },
    {
     "data": {
      "text/html": [
       "<pre>+--------------------------------+------------+</pre>"
      ],
      "text/plain": [
       "+--------------------------------+------------+"
      ]
     },
     "metadata": {},
     "output_type": "display_data"
    },
    {
     "data": {
      "text/html": [
       "<pre>| 1.37ms                         | 15.25      |</pre>"
      ],
      "text/plain": [
       "| 1.37ms                         | 15.25      |"
      ]
     },
     "metadata": {},
     "output_type": "display_data"
    },
    {
     "data": {
      "text/html": [
       "<pre>| 3.326ms                        | 100        |</pre>"
      ],
      "text/plain": [
       "| 3.326ms                        | 100        |"
      ]
     },
     "metadata": {},
     "output_type": "display_data"
    },
    {
     "data": {
      "text/html": [
       "<pre>+--------------------------------+------------+</pre>"
      ],
      "text/plain": [
       "+--------------------------------+------------+"
      ]
     },
     "metadata": {},
     "output_type": "display_data"
    },
    {
     "data": {
      "text/html": [
       "<pre>Setting up lookup tables.</pre>"
      ],
      "text/plain": [
       "Setting up lookup tables."
      ]
     },
     "metadata": {},
     "output_type": "display_data"
    },
    {
     "data": {
      "text/html": [
       "<pre>Processing data in one pass using dense lookup tables.</pre>"
      ],
      "text/plain": [
       "Processing data in one pass using dense lookup tables."
      ]
     },
     "metadata": {},
     "output_type": "display_data"
    },
    {
     "data": {
      "text/html": [
       "<pre>+-------------------------------------+------------------+-----------------+</pre>"
      ],
      "text/plain": [
       "+-------------------------------------+------------------+-----------------+"
      ]
     },
     "metadata": {},
     "output_type": "display_data"
    },
    {
     "data": {
      "text/html": [
       "<pre>| Elapsed Time (Constructing Lookups) | Total % Complete | Items Processed |</pre>"
      ],
      "text/plain": [
       "| Elapsed Time (Constructing Lookups) | Total % Complete | Items Processed |"
      ]
     },
     "metadata": {},
     "output_type": "display_data"
    },
    {
     "data": {
      "text/html": [
       "<pre>+-------------------------------------+------------------+-----------------+</pre>"
      ],
      "text/plain": [
       "+-------------------------------------+------------------+-----------------+"
      ]
     },
     "metadata": {},
     "output_type": "display_data"
    },
    {
     "data": {
      "text/html": [
       "<pre>| 1.49s                               | 0                | 4               |</pre>"
      ],
      "text/plain": [
       "| 1.49s                               | 0                | 4               |"
      ]
     },
     "metadata": {},
     "output_type": "display_data"
    },
    {
     "data": {
      "text/html": [
       "<pre>| 4.16s                               | 100              | 24239           |</pre>"
      ],
      "text/plain": [
       "| 4.16s                               | 100              | 24239           |"
      ]
     },
     "metadata": {},
     "output_type": "display_data"
    },
    {
     "data": {
      "text/html": [
       "<pre>+-------------------------------------+------------------+-----------------+</pre>"
      ],
      "text/plain": [
       "+-------------------------------------+------------------+-----------------+"
      ]
     },
     "metadata": {},
     "output_type": "display_data"
    },
    {
     "data": {
      "text/html": [
       "<pre>Finalizing lookup tables.</pre>"
      ],
      "text/plain": [
       "Finalizing lookup tables."
      ]
     },
     "metadata": {},
     "output_type": "display_data"
    },
    {
     "data": {
      "text/html": [
       "<pre>Generating candidate set for working with new users.</pre>"
      ],
      "text/plain": [
       "Generating candidate set for working with new users."
      ]
     },
     "metadata": {},
     "output_type": "display_data"
    },
    {
     "data": {
      "text/html": [
       "<pre>Finished training in 5.19455s</pre>"
      ],
      "text/plain": [
       "Finished training in 5.19455s"
      ]
     },
     "metadata": {},
     "output_type": "display_data"
    }
   ],
   "source": [
    "# item-item recommender\n",
    "item_item_rec = graphlab.recommender.item_similarity_recommender.create(sf_ratings,\n",
    "                                                                        user_id='uid',\n",
    "                                                                        item_id='song_id',\n",
    "                                                                        target = 'implicit_rating')"
   ]
  },
  {
   "cell_type": "code",
   "execution_count": 24,
   "metadata": {
    "collapsed": false
   },
   "outputs": [
    {
     "data": {
      "text/html": [
       "<div style=\"max-height:1000px;max-width:1500px;overflow:auto;\"><table frame=\"box\" rules=\"cols\">\n",
       "    <tr>\n",
       "        <th style=\"padding-left: 1em; padding-right: 1em; text-align: center\">uid</th>\n",
       "        <th style=\"padding-left: 1em; padding-right: 1em; text-align: center\">song_id</th>\n",
       "        <th style=\"padding-left: 1em; padding-right: 1em; text-align: center\">score</th>\n",
       "        <th style=\"padding-left: 1em; padding-right: 1em; text-align: center\">rank</th>\n",
       "    </tr>\n",
       "    <tr>\n",
       "        <td style=\"padding-left: 1em; padding-right: 1em; text-align: center; vertical-align: top\">6871077</td>\n",
       "        <td style=\"padding-left: 1em; padding-right: 1em; text-align: center; vertical-align: top\">6435758</td>\n",
       "        <td style=\"padding-left: 1em; padding-right: 1em; text-align: center; vertical-align: top\">0.0384615384615</td>\n",
       "        <td style=\"padding-left: 1em; padding-right: 1em; text-align: center; vertical-align: top\">1</td>\n",
       "    </tr>\n",
       "    <tr>\n",
       "        <td style=\"padding-left: 1em; padding-right: 1em; text-align: center; vertical-align: top\">6871077</td>\n",
       "        <td style=\"padding-left: 1em; padding-right: 1em; text-align: center; vertical-align: top\">58118</td>\n",
       "        <td style=\"padding-left: 1em; padding-right: 1em; text-align: center; vertical-align: top\">0.0384615384615</td>\n",
       "        <td style=\"padding-left: 1em; padding-right: 1em; text-align: center; vertical-align: top\">2</td>\n",
       "    </tr>\n",
       "    <tr>\n",
       "        <td style=\"padding-left: 1em; padding-right: 1em; text-align: center; vertical-align: top\">6871077</td>\n",
       "        <td style=\"padding-left: 1em; padding-right: 1em; text-align: center; vertical-align: top\">9561562</td>\n",
       "        <td style=\"padding-left: 1em; padding-right: 1em; text-align: center; vertical-align: top\">0.0384615384615</td>\n",
       "        <td style=\"padding-left: 1em; padding-right: 1em; text-align: center; vertical-align: top\">3</td>\n",
       "    </tr>\n",
       "    <tr>\n",
       "        <td style=\"padding-left: 1em; padding-right: 1em; text-align: center; vertical-align: top\">6871077</td>\n",
       "        <td style=\"padding-left: 1em; padding-right: 1em; text-align: center; vertical-align: top\">6451058</td>\n",
       "        <td style=\"padding-left: 1em; padding-right: 1em; text-align: center; vertical-align: top\">0.0384615384615</td>\n",
       "        <td style=\"padding-left: 1em; padding-right: 1em; text-align: center; vertical-align: top\">4</td>\n",
       "    </tr>\n",
       "    <tr>\n",
       "        <td style=\"padding-left: 1em; padding-right: 1em; text-align: center; vertical-align: top\">6871077</td>\n",
       "        <td style=\"padding-left: 1em; padding-right: 1em; text-align: center; vertical-align: top\">4756523</td>\n",
       "        <td style=\"padding-left: 1em; padding-right: 1em; text-align: center; vertical-align: top\">0.0384615384615</td>\n",
       "        <td style=\"padding-left: 1em; padding-right: 1em; text-align: center; vertical-align: top\">5</td>\n",
       "    </tr>\n",
       "    <tr>\n",
       "        <td style=\"padding-left: 1em; padding-right: 1em; text-align: center; vertical-align: top\">9644453</td>\n",
       "        <td style=\"padding-left: 1em; padding-right: 1em; text-align: center; vertical-align: top\">6206361</td>\n",
       "        <td style=\"padding-left: 1em; padding-right: 1em; text-align: center; vertical-align: top\">0.025</td>\n",
       "        <td style=\"padding-left: 1em; padding-right: 1em; text-align: center; vertical-align: top\">1</td>\n",
       "    </tr>\n",
       "    <tr>\n",
       "        <td style=\"padding-left: 1em; padding-right: 1em; text-align: center; vertical-align: top\">9644453</td>\n",
       "        <td style=\"padding-left: 1em; padding-right: 1em; text-align: center; vertical-align: top\">3418566</td>\n",
       "        <td style=\"padding-left: 1em; padding-right: 1em; text-align: center; vertical-align: top\">0.025</td>\n",
       "        <td style=\"padding-left: 1em; padding-right: 1em; text-align: center; vertical-align: top\">2</td>\n",
       "    </tr>\n",
       "    <tr>\n",
       "        <td style=\"padding-left: 1em; padding-right: 1em; text-align: center; vertical-align: top\">9644453</td>\n",
       "        <td style=\"padding-left: 1em; padding-right: 1em; text-align: center; vertical-align: top\">20110102</td>\n",
       "        <td style=\"padding-left: 1em; padding-right: 1em; text-align: center; vertical-align: top\">0.025</td>\n",
       "        <td style=\"padding-left: 1em; padding-right: 1em; text-align: center; vertical-align: top\">3</td>\n",
       "    </tr>\n",
       "    <tr>\n",
       "        <td style=\"padding-left: 1em; padding-right: 1em; text-align: center; vertical-align: top\">9644453</td>\n",
       "        <td style=\"padding-left: 1em; padding-right: 1em; text-align: center; vertical-align: top\">363294</td>\n",
       "        <td style=\"padding-left: 1em; padding-right: 1em; text-align: center; vertical-align: top\">0.025</td>\n",
       "        <td style=\"padding-left: 1em; padding-right: 1em; text-align: center; vertical-align: top\">4</td>\n",
       "    </tr>\n",
       "    <tr>\n",
       "        <td style=\"padding-left: 1em; padding-right: 1em; text-align: center; vertical-align: top\">9644453</td>\n",
       "        <td style=\"padding-left: 1em; padding-right: 1em; text-align: center; vertical-align: top\">6300485</td>\n",
       "        <td style=\"padding-left: 1em; padding-right: 1em; text-align: center; vertical-align: top\">0.025</td>\n",
       "        <td style=\"padding-left: 1em; padding-right: 1em; text-align: center; vertical-align: top\">5</td>\n",
       "    </tr>\n",
       "</table>\n",
       "[32680 rows x 4 columns]<br/>Note: Only the head of the SFrame is printed.<br/>You can use print_rows(num_rows=m, num_columns=n) to print more rows and columns.\n",
       "</div>"
      ],
      "text/plain": [
       "Columns:\n",
       "\tuid\tint\n",
       "\tsong_id\tint\n",
       "\tscore\tfloat\n",
       "\trank\tint\n",
       "\n",
       "Rows: 32680\n",
       "\n",
       "Data:\n",
       "+---------+----------+-----------------+------+\n",
       "|   uid   | song_id  |      score      | rank |\n",
       "+---------+----------+-----------------+------+\n",
       "| 6871077 | 6435758  | 0.0384615384615 |  1   |\n",
       "| 6871077 |  58118   | 0.0384615384615 |  2   |\n",
       "| 6871077 | 9561562  | 0.0384615384615 |  3   |\n",
       "| 6871077 | 6451058  | 0.0384615384615 |  4   |\n",
       "| 6871077 | 4756523  | 0.0384615384615 |  5   |\n",
       "| 9644453 | 6206361  |      0.025      |  1   |\n",
       "| 9644453 | 3418566  |      0.025      |  2   |\n",
       "| 9644453 | 20110102 |      0.025      |  3   |\n",
       "| 9644453 |  363294  |      0.025      |  4   |\n",
       "| 9644453 | 6300485  |      0.025      |  5   |\n",
       "+---------+----------+-----------------+------+\n",
       "[32680 rows x 4 columns]\n",
       "Note: Only the head of the SFrame is printed.\n",
       "You can use print_rows(num_rows=m, num_columns=n) to print more rows and columns."
      ]
     },
     "execution_count": 24,
     "metadata": {},
     "output_type": "execute_result"
    }
   ],
   "source": [
    "# For every user, recommend top 3 songs\n",
    "item_item_rec_result = item_item_rec.recommend(k=5, verbose=False)\n",
    "item_item_rec_result"
   ]
  },
  {
   "cell_type": "code",
   "execution_count": 25,
   "metadata": {
    "collapsed": false
   },
   "outputs": [
    {
     "data": {
      "text/html": [
       "<div style=\"max-height:1000px;max-width:1500px;overflow:auto;\"><table frame=\"box\" rules=\"cols\">\n",
       "    <tr>\n",
       "        <th style=\"padding-left: 1em; padding-right: 1em; text-align: center\">uid</th>\n",
       "        <th style=\"padding-left: 1em; padding-right: 1em; text-align: center\">song_id</th>\n",
       "        <th style=\"padding-left: 1em; padding-right: 1em; text-align: center\">score</th>\n",
       "        <th style=\"padding-left: 1em; padding-right: 1em; text-align: center\">rank</th>\n",
       "    </tr>\n",
       "    <tr>\n",
       "        <td style=\"padding-left: 1em; padding-right: 1em; text-align: center; vertical-align: top\">6871077</td>\n",
       "        <td style=\"padding-left: 1em; padding-right: 1em; text-align: center; vertical-align: top\">6435758</td>\n",
       "        <td style=\"padding-left: 1em; padding-right: 1em; text-align: center; vertical-align: top\">0.0384615384615</td>\n",
       "        <td style=\"padding-left: 1em; padding-right: 1em; text-align: center; vertical-align: top\">1</td>\n",
       "    </tr>\n",
       "    <tr>\n",
       "        <td style=\"padding-left: 1em; padding-right: 1em; text-align: center; vertical-align: top\">6871077</td>\n",
       "        <td style=\"padding-left: 1em; padding-right: 1em; text-align: center; vertical-align: top\">58118</td>\n",
       "        <td style=\"padding-left: 1em; padding-right: 1em; text-align: center; vertical-align: top\">0.0384615384615</td>\n",
       "        <td style=\"padding-left: 1em; padding-right: 1em; text-align: center; vertical-align: top\">2</td>\n",
       "    </tr>\n",
       "    <tr>\n",
       "        <td style=\"padding-left: 1em; padding-right: 1em; text-align: center; vertical-align: top\">6871077</td>\n",
       "        <td style=\"padding-left: 1em; padding-right: 1em; text-align: center; vertical-align: top\">9561562</td>\n",
       "        <td style=\"padding-left: 1em; padding-right: 1em; text-align: center; vertical-align: top\">0.0384615384615</td>\n",
       "        <td style=\"padding-left: 1em; padding-right: 1em; text-align: center; vertical-align: top\">3</td>\n",
       "    </tr>\n",
       "    <tr>\n",
       "        <td style=\"padding-left: 1em; padding-right: 1em; text-align: center; vertical-align: top\">6871077</td>\n",
       "        <td style=\"padding-left: 1em; padding-right: 1em; text-align: center; vertical-align: top\">6451058</td>\n",
       "        <td style=\"padding-left: 1em; padding-right: 1em; text-align: center; vertical-align: top\">0.0384615384615</td>\n",
       "        <td style=\"padding-left: 1em; padding-right: 1em; text-align: center; vertical-align: top\">4</td>\n",
       "    </tr>\n",
       "    <tr>\n",
       "        <td style=\"padding-left: 1em; padding-right: 1em; text-align: center; vertical-align: top\">6871077</td>\n",
       "        <td style=\"padding-left: 1em; padding-right: 1em; text-align: center; vertical-align: top\">4756523</td>\n",
       "        <td style=\"padding-left: 1em; padding-right: 1em; text-align: center; vertical-align: top\">0.0384615384615</td>\n",
       "        <td style=\"padding-left: 1em; padding-right: 1em; text-align: center; vertical-align: top\">5</td>\n",
       "    </tr>\n",
       "</table>\n",
       "[5 rows x 4 columns]<br/>\n",
       "</div>"
      ],
      "text/plain": [
       "Columns:\n",
       "\tuid\tint\n",
       "\tsong_id\tint\n",
       "\tscore\tfloat\n",
       "\trank\tint\n",
       "\n",
       "Rows: 5\n",
       "\n",
       "Data:\n",
       "+---------+---------+-----------------+------+\n",
       "|   uid   | song_id |      score      | rank |\n",
       "+---------+---------+-----------------+------+\n",
       "| 6871077 | 6435758 | 0.0384615384615 |  1   |\n",
       "| 6871077 |  58118  | 0.0384615384615 |  2   |\n",
       "| 6871077 | 9561562 | 0.0384615384615 |  3   |\n",
       "| 6871077 | 6451058 | 0.0384615384615 |  4   |\n",
       "| 6871077 | 4756523 | 0.0384615384615 |  5   |\n",
       "+---------+---------+-----------------+------+\n",
       "[5 rows x 4 columns]"
      ]
     },
     "execution_count": 25,
     "metadata": {},
     "output_type": "execute_result"
    }
   ],
   "source": [
    "# For a specific user, \n",
    "item_item_rec_result_spe = item_item_rec.recommend(users=[sf_ratings['uid'][0]], k=5, verbose=False)\n",
    "item_item_rec_result_spe"
   ]
  },
  {
   "cell_type": "markdown",
   "metadata": {},
   "source": [
    "## 4. Popularity-Based Recommender"
   ]
  },
  {
   "cell_type": "code",
   "execution_count": 26,
   "metadata": {
    "collapsed": false
   },
   "outputs": [
    {
     "data": {
      "text/html": [
       "<pre>Recsys training: model = popularity</pre>"
      ],
      "text/plain": [
       "Recsys training: model = popularity"
      ]
     },
     "metadata": {},
     "output_type": "display_data"
    },
    {
     "data": {
      "text/html": [
       "<pre>Preparing data set.</pre>"
      ],
      "text/plain": [
       "Preparing data set."
      ]
     },
     "metadata": {},
     "output_type": "display_data"
    },
    {
     "data": {
      "text/html": [
       "<pre>    Data has 43199 observations with 6536 users and 24239 items.</pre>"
      ],
      "text/plain": [
       "    Data has 43199 observations with 6536 users and 24239 items."
      ]
     },
     "metadata": {},
     "output_type": "display_data"
    },
    {
     "data": {
      "text/html": [
       "<pre>    Data prepared in: 0.097465s</pre>"
      ],
      "text/plain": [
       "    Data prepared in: 0.097465s"
      ]
     },
     "metadata": {},
     "output_type": "display_data"
    },
    {
     "data": {
      "text/html": [
       "<pre>43199 observations to process; with 24239 unique items.</pre>"
      ],
      "text/plain": [
       "43199 observations to process; with 24239 unique items."
      ]
     },
     "metadata": {},
     "output_type": "display_data"
    }
   ],
   "source": [
    "# build recommendation system\n",
    "pop_rec = graphlab.popularity_recommender.create(sf_ratings, \n",
    "                                                 user_id = 'uid', \n",
    "                                                 item_id = 'song_id',\n",
    "                                                 target = 'implicit_rating')"
   ]
  },
  {
   "cell_type": "code",
   "execution_count": 27,
   "metadata": {
    "collapsed": false
   },
   "outputs": [
    {
     "data": {
      "text/html": [
       "<pre>recommendations finished on 1000/6536 queries. users per second: 17592.3</pre>"
      ],
      "text/plain": [
       "recommendations finished on 1000/6536 queries. users per second: 17592.3"
      ]
     },
     "metadata": {},
     "output_type": "display_data"
    },
    {
     "data": {
      "text/html": [
       "<pre>recommendations finished on 2000/6536 queries. users per second: 17192</pre>"
      ],
      "text/plain": [
       "recommendations finished on 2000/6536 queries. users per second: 17192"
      ]
     },
     "metadata": {},
     "output_type": "display_data"
    },
    {
     "data": {
      "text/html": [
       "<pre>recommendations finished on 3000/6536 queries. users per second: 19087.7</pre>"
      ],
      "text/plain": [
       "recommendations finished on 3000/6536 queries. users per second: 19087.7"
      ]
     },
     "metadata": {},
     "output_type": "display_data"
    },
    {
     "data": {
      "text/html": [
       "<pre>recommendations finished on 4000/6536 queries. users per second: 19039.8</pre>"
      ],
      "text/plain": [
       "recommendations finished on 4000/6536 queries. users per second: 19039.8"
      ]
     },
     "metadata": {},
     "output_type": "display_data"
    },
    {
     "data": {
      "text/html": [
       "<pre>recommendations finished on 5000/6536 queries. users per second: 19190.3</pre>"
      ],
      "text/plain": [
       "recommendations finished on 5000/6536 queries. users per second: 19190.3"
      ]
     },
     "metadata": {},
     "output_type": "display_data"
    },
    {
     "data": {
      "text/html": [
       "<pre>recommendations finished on 6000/6536 queries. users per second: 18728.4</pre>"
      ],
      "text/plain": [
       "recommendations finished on 6000/6536 queries. users per second: 18728.4"
      ]
     },
     "metadata": {},
     "output_type": "display_data"
    }
   ],
   "source": [
    "# get recommendation\n",
    "pop_result = pop_rec.recommend()"
   ]
  },
  {
   "cell_type": "markdown",
   "metadata": {},
   "source": [
    "As we can see, in the popularity based model, the recommendations for every user are the same. "
   ]
  },
  {
   "cell_type": "code",
   "execution_count": 28,
   "metadata": {
    "collapsed": false
   },
   "outputs": [
    {
     "name": "stdout",
     "output_type": "stream",
     "text": [
      "+----------+----------+-------+------+\n",
      "|   uid    | song_id  | score | rank |\n",
      "+----------+----------+-------+------+\n",
      "| 6871077  | 4391923  |  5.0  |  1   |\n",
      "| 6871077  | 7097037  |  5.0  |  2   |\n",
      "| 6871077  | 6729063  |  5.0  |  3   |\n",
      "| 6871077  | 6054540  |  5.0  |  4   |\n",
      "| 6871077  | 3219291  |  5.0  |  5   |\n",
      "| 6871077  | 20870140 |  5.0  |  6   |\n",
      "| 6871077  | 3591502  |  5.0  |  7   |\n",
      "| 6871077  | 3296328  |  5.0  |  8   |\n",
      "| 6871077  |  353224  |  5.0  |  9   |\n",
      "| 6871077  |  981660  |  5.0  |  10  |\n",
      "| 9644453  | 4391923  |  5.0  |  1   |\n",
      "| 9644453  | 7097037  |  5.0  |  2   |\n",
      "| 9644453  | 6729063  |  5.0  |  3   |\n",
      "| 9644453  | 6054540  |  5.0  |  4   |\n",
      "| 9644453  | 3219291  |  5.0  |  5   |\n",
      "| 9644453  | 20870140 |  5.0  |  6   |\n",
      "| 9644453  | 3591502  |  5.0  |  7   |\n",
      "| 9644453  | 3296328  |  5.0  |  8   |\n",
      "| 9644453  |  353224  |  5.0  |  9   |\n",
      "| 9644453  |  981660  |  5.0  |  10  |\n",
      "| 12781898 | 4391923  |  5.0  |  1   |\n",
      "| 12781898 | 7097037  |  5.0  |  2   |\n",
      "| 12781898 | 6729063  |  5.0  |  3   |\n",
      "| 12781898 | 6054540  |  5.0  |  4   |\n",
      "| 12781898 | 3219291  |  5.0  |  5   |\n",
      "| 12781898 | 20870140 |  5.0  |  6   |\n",
      "| 12781898 | 3591502  |  5.0  |  7   |\n",
      "| 12781898 | 3296328  |  5.0  |  8   |\n",
      "| 12781898 |  353224  |  5.0  |  9   |\n",
      "| 12781898 |  981660  |  5.0  |  10  |\n",
      "+----------+----------+-------+------+\n",
      "[65360 rows x 4 columns]\n",
      "\n"
     ]
    }
   ],
   "source": [
    "pop_result.print_rows(num_rows=30)"
   ]
  },
  {
   "cell_type": "code",
   "execution_count": 29,
   "metadata": {
    "collapsed": false
   },
   "outputs": [
    {
     "data": {
      "text/html": [
       "<div style=\"max-height:1000px;max-width:1500px;overflow:auto;\"><table frame=\"box\" rules=\"cols\">\n",
       "    <tr>\n",
       "        <th style=\"padding-left: 1em; padding-right: 1em; text-align: center\">uid</th>\n",
       "        <th style=\"padding-left: 1em; padding-right: 1em; text-align: center\">song_id</th>\n",
       "        <th style=\"padding-left: 1em; padding-right: 1em; text-align: center\">score</th>\n",
       "        <th style=\"padding-left: 1em; padding-right: 1em; text-align: center\">rank</th>\n",
       "    </tr>\n",
       "    <tr>\n",
       "        <td style=\"padding-left: 1em; padding-right: 1em; text-align: center; vertical-align: top\">6871077</td>\n",
       "        <td style=\"padding-left: 1em; padding-right: 1em; text-align: center; vertical-align: top\">20870140</td>\n",
       "        <td style=\"padding-left: 1em; padding-right: 1em; text-align: center; vertical-align: top\">5.0</td>\n",
       "        <td style=\"padding-left: 1em; padding-right: 1em; text-align: center; vertical-align: top\">1</td>\n",
       "    </tr>\n",
       "    <tr>\n",
       "        <td style=\"padding-left: 1em; padding-right: 1em; text-align: center; vertical-align: top\">6871077</td>\n",
       "        <td style=\"padding-left: 1em; padding-right: 1em; text-align: center; vertical-align: top\">3591502</td>\n",
       "        <td style=\"padding-left: 1em; padding-right: 1em; text-align: center; vertical-align: top\">5.0</td>\n",
       "        <td style=\"padding-left: 1em; padding-right: 1em; text-align: center; vertical-align: top\">2</td>\n",
       "    </tr>\n",
       "    <tr>\n",
       "        <td style=\"padding-left: 1em; padding-right: 1em; text-align: center; vertical-align: top\">6871077</td>\n",
       "        <td style=\"padding-left: 1em; padding-right: 1em; text-align: center; vertical-align: top\">3296328</td>\n",
       "        <td style=\"padding-left: 1em; padding-right: 1em; text-align: center; vertical-align: top\">5.0</td>\n",
       "        <td style=\"padding-left: 1em; padding-right: 1em; text-align: center; vertical-align: top\">3</td>\n",
       "    </tr>\n",
       "    <tr>\n",
       "        <td style=\"padding-left: 1em; padding-right: 1em; text-align: center; vertical-align: top\">6871077</td>\n",
       "        <td style=\"padding-left: 1em; padding-right: 1em; text-align: center; vertical-align: top\">353224</td>\n",
       "        <td style=\"padding-left: 1em; padding-right: 1em; text-align: center; vertical-align: top\">5.0</td>\n",
       "        <td style=\"padding-left: 1em; padding-right: 1em; text-align: center; vertical-align: top\">4</td>\n",
       "    </tr>\n",
       "    <tr>\n",
       "        <td style=\"padding-left: 1em; padding-right: 1em; text-align: center; vertical-align: top\">6871077</td>\n",
       "        <td style=\"padding-left: 1em; padding-right: 1em; text-align: center; vertical-align: top\">981660</td>\n",
       "        <td style=\"padding-left: 1em; padding-right: 1em; text-align: center; vertical-align: top\">5.0</td>\n",
       "        <td style=\"padding-left: 1em; padding-right: 1em; text-align: center; vertical-align: top\">5</td>\n",
       "    </tr>\n",
       "    <tr>\n",
       "        <td style=\"padding-left: 1em; padding-right: 1em; text-align: center; vertical-align: top\">9644453</td>\n",
       "        <td style=\"padding-left: 1em; padding-right: 1em; text-align: center; vertical-align: top\">20870140</td>\n",
       "        <td style=\"padding-left: 1em; padding-right: 1em; text-align: center; vertical-align: top\">5.0</td>\n",
       "        <td style=\"padding-left: 1em; padding-right: 1em; text-align: center; vertical-align: top\">1</td>\n",
       "    </tr>\n",
       "    <tr>\n",
       "        <td style=\"padding-left: 1em; padding-right: 1em; text-align: center; vertical-align: top\">9644453</td>\n",
       "        <td style=\"padding-left: 1em; padding-right: 1em; text-align: center; vertical-align: top\">3591502</td>\n",
       "        <td style=\"padding-left: 1em; padding-right: 1em; text-align: center; vertical-align: top\">5.0</td>\n",
       "        <td style=\"padding-left: 1em; padding-right: 1em; text-align: center; vertical-align: top\">2</td>\n",
       "    </tr>\n",
       "    <tr>\n",
       "        <td style=\"padding-left: 1em; padding-right: 1em; text-align: center; vertical-align: top\">9644453</td>\n",
       "        <td style=\"padding-left: 1em; padding-right: 1em; text-align: center; vertical-align: top\">3296328</td>\n",
       "        <td style=\"padding-left: 1em; padding-right: 1em; text-align: center; vertical-align: top\">5.0</td>\n",
       "        <td style=\"padding-left: 1em; padding-right: 1em; text-align: center; vertical-align: top\">3</td>\n",
       "    </tr>\n",
       "    <tr>\n",
       "        <td style=\"padding-left: 1em; padding-right: 1em; text-align: center; vertical-align: top\">9644453</td>\n",
       "        <td style=\"padding-left: 1em; padding-right: 1em; text-align: center; vertical-align: top\">353224</td>\n",
       "        <td style=\"padding-left: 1em; padding-right: 1em; text-align: center; vertical-align: top\">5.0</td>\n",
       "        <td style=\"padding-left: 1em; padding-right: 1em; text-align: center; vertical-align: top\">4</td>\n",
       "    </tr>\n",
       "    <tr>\n",
       "        <td style=\"padding-left: 1em; padding-right: 1em; text-align: center; vertical-align: top\">9644453</td>\n",
       "        <td style=\"padding-left: 1em; padding-right: 1em; text-align: center; vertical-align: top\">981660</td>\n",
       "        <td style=\"padding-left: 1em; padding-right: 1em; text-align: center; vertical-align: top\">5.0</td>\n",
       "        <td style=\"padding-left: 1em; padding-right: 1em; text-align: center; vertical-align: top\">5</td>\n",
       "    </tr>\n",
       "</table>\n",
       "[10 rows x 4 columns]<br/>\n",
       "</div>"
      ],
      "text/plain": [
       "Columns:\n",
       "\tuid\tint\n",
       "\tsong_id\tint\n",
       "\tscore\tfloat\n",
       "\trank\tint\n",
       "\n",
       "Rows: 10\n",
       "\n",
       "Data:\n",
       "+---------+----------+-------+------+\n",
       "|   uid   | song_id  | score | rank |\n",
       "+---------+----------+-------+------+\n",
       "| 6871077 | 20870140 |  5.0  |  1   |\n",
       "| 6871077 | 3591502  |  5.0  |  2   |\n",
       "| 6871077 | 3296328  |  5.0  |  3   |\n",
       "| 6871077 |  353224  |  5.0  |  4   |\n",
       "| 6871077 |  981660  |  5.0  |  5   |\n",
       "| 9644453 | 20870140 |  5.0  |  1   |\n",
       "| 9644453 | 3591502  |  5.0  |  2   |\n",
       "| 9644453 | 3296328  |  5.0  |  3   |\n",
       "| 9644453 |  353224  |  5.0  |  4   |\n",
       "| 9644453 |  981660  |  5.0  |  5   |\n",
       "+---------+----------+-------+------+\n",
       "[10 rows x 4 columns]"
      ]
     },
     "execution_count": 29,
     "metadata": {},
     "output_type": "execute_result"
    }
   ],
   "source": [
    "pop_rec.recommend(users = sf_ratings['uid'][ :2], k=5)"
   ]
  },
  {
   "cell_type": "markdown",
   "metadata": {},
   "source": [
    "## 5. Matrix Factorization Recommender "
   ]
  },
  {
   "cell_type": "code",
   "execution_count": 30,
   "metadata": {
    "collapsed": false
   },
   "outputs": [
    {
     "data": {
      "text/html": [
       "<pre>Recsys training: model = factorization_recommender</pre>"
      ],
      "text/plain": [
       "Recsys training: model = factorization_recommender"
      ]
     },
     "metadata": {},
     "output_type": "display_data"
    },
    {
     "data": {
      "text/html": [
       "<pre>Preparing data set.</pre>"
      ],
      "text/plain": [
       "Preparing data set."
      ]
     },
     "metadata": {},
     "output_type": "display_data"
    },
    {
     "data": {
      "text/html": [
       "<pre>    Data has 43199 observations with 6536 users and 24239 items.</pre>"
      ],
      "text/plain": [
       "    Data has 43199 observations with 6536 users and 24239 items."
      ]
     },
     "metadata": {},
     "output_type": "display_data"
    },
    {
     "data": {
      "text/html": [
       "<pre>    Data prepared in: 0.074193s</pre>"
      ],
      "text/plain": [
       "    Data prepared in: 0.074193s"
      ]
     },
     "metadata": {},
     "output_type": "display_data"
    },
    {
     "data": {
      "text/html": [
       "<pre>Training factorization_recommender for recommendations.</pre>"
      ],
      "text/plain": [
       "Training factorization_recommender for recommendations."
      ]
     },
     "metadata": {},
     "output_type": "display_data"
    },
    {
     "data": {
      "text/html": [
       "<pre>+------------------------------+--------------------------------------------------+----------+</pre>"
      ],
      "text/plain": [
       "+------------------------------+--------------------------------------------------+----------+"
      ]
     },
     "metadata": {},
     "output_type": "display_data"
    },
    {
     "data": {
      "text/html": [
       "<pre>| Parameter                    | Description                                      | Value    |</pre>"
      ],
      "text/plain": [
       "| Parameter                    | Description                                      | Value    |"
      ]
     },
     "metadata": {},
     "output_type": "display_data"
    },
    {
     "data": {
      "text/html": [
       "<pre>+------------------------------+--------------------------------------------------+----------+</pre>"
      ],
      "text/plain": [
       "+------------------------------+--------------------------------------------------+----------+"
      ]
     },
     "metadata": {},
     "output_type": "display_data"
    },
    {
     "data": {
      "text/html": [
       "<pre>| num_factors                  | Factor Dimension                                 | 8        |</pre>"
      ],
      "text/plain": [
       "| num_factors                  | Factor Dimension                                 | 8        |"
      ]
     },
     "metadata": {},
     "output_type": "display_data"
    },
    {
     "data": {
      "text/html": [
       "<pre>| regularization               | L2 Regularization on Factors                     | 1e-08    |</pre>"
      ],
      "text/plain": [
       "| regularization               | L2 Regularization on Factors                     | 1e-08    |"
      ]
     },
     "metadata": {},
     "output_type": "display_data"
    },
    {
     "data": {
      "text/html": [
       "<pre>| max_iterations               | Maximum Number of Iterations                     | 50       |</pre>"
      ],
      "text/plain": [
       "| max_iterations               | Maximum Number of Iterations                     | 50       |"
      ]
     },
     "metadata": {},
     "output_type": "display_data"
    },
    {
     "data": {
      "text/html": [
       "<pre>| solver                       | Solver used for training                         | als      |</pre>"
      ],
      "text/plain": [
       "| solver                       | Solver used for training                         | als      |"
      ]
     },
     "metadata": {},
     "output_type": "display_data"
    },
    {
     "data": {
      "text/html": [
       "<pre>+------------------------------+--------------------------------------------------+----------+</pre>"
      ],
      "text/plain": [
       "+------------------------------+--------------------------------------------------+----------+"
      ]
     },
     "metadata": {},
     "output_type": "display_data"
    },
    {
     "data": {
      "text/html": [
       "<pre>+---------+--------------+------------------------+</pre>"
      ],
      "text/plain": [
       "+---------+--------------+------------------------+"
      ]
     },
     "metadata": {},
     "output_type": "display_data"
    },
    {
     "data": {
      "text/html": [
       "<pre>| Iter.   | Elapsed time | RMSE                   |</pre>"
      ],
      "text/plain": [
       "| Iter.   | Elapsed time | RMSE                   |"
      ]
     },
     "metadata": {},
     "output_type": "display_data"
    },
    {
     "data": {
      "text/html": [
       "<pre>+---------+--------------+------------------------+</pre>"
      ],
      "text/plain": [
       "+---------+--------------+------------------------+"
      ]
     },
     "metadata": {},
     "output_type": "display_data"
    },
    {
     "data": {
      "text/html": [
       "<pre>| Initial | 73us         | NA                     |</pre>"
      ],
      "text/plain": [
       "| Initial | 73us         | NA                     |"
      ]
     },
     "metadata": {},
     "output_type": "display_data"
    },
    {
     "data": {
      "text/html": [
       "<pre>+---------+--------------+------------------------+</pre>"
      ],
      "text/plain": [
       "+---------+--------------+------------------------+"
      ]
     },
     "metadata": {},
     "output_type": "display_data"
    },
    {
     "data": {
      "text/html": [
       "<pre>| 0       | 50.967ms     | 0.235844               |</pre>"
      ],
      "text/plain": [
       "| 0       | 50.967ms     | 0.235844               |"
      ]
     },
     "metadata": {},
     "output_type": "display_data"
    },
    {
     "data": {
      "text/html": [
       "<pre>| 1       | 121.85ms     | 0.0790017              |</pre>"
      ],
      "text/plain": [
       "| 1       | 121.85ms     | 0.0790017              |"
      ]
     },
     "metadata": {},
     "output_type": "display_data"
    },
    {
     "data": {
      "text/html": [
       "<pre>| 2       | 175.396ms    | 0.0545694              |</pre>"
      ],
      "text/plain": [
       "| 2       | 175.396ms    | 0.0545694              |"
      ]
     },
     "metadata": {},
     "output_type": "display_data"
    },
    {
     "data": {
      "text/html": [
       "<pre>| 3       | 236.922ms    | 0.0426304              |</pre>"
      ],
      "text/plain": [
       "| 3       | 236.922ms    | 0.0426304              |"
      ]
     },
     "metadata": {},
     "output_type": "display_data"
    },
    {
     "data": {
      "text/html": [
       "<pre>| 4       | 286.405ms    | 0.035278               |</pre>"
      ],
      "text/plain": [
       "| 4       | 286.405ms    | 0.035278               |"
      ]
     },
     "metadata": {},
     "output_type": "display_data"
    },
    {
     "data": {
      "text/html": [
       "<pre>| 5       | 360.358ms    | 0.0299735              |</pre>"
      ],
      "text/plain": [
       "| 5       | 360.358ms    | 0.0299735              |"
      ]
     },
     "metadata": {},
     "output_type": "display_data"
    },
    {
     "data": {
      "text/html": [
       "<pre>| 6       | 409.62ms     | 0.0259233              |</pre>"
      ],
      "text/plain": [
       "| 6       | 409.62ms     | 0.0259233              |"
      ]
     },
     "metadata": {},
     "output_type": "display_data"
    },
    {
     "data": {
      "text/html": [
       "<pre>| 7       | 450.208ms    | 0.022702               |</pre>"
      ],
      "text/plain": [
       "| 7       | 450.208ms    | 0.022702               |"
      ]
     },
     "metadata": {},
     "output_type": "display_data"
    },
    {
     "data": {
      "text/html": [
       "<pre>| 8       | 513.77ms     | 0.0201221              |</pre>"
      ],
      "text/plain": [
       "| 8       | 513.77ms     | 0.0201221              |"
      ]
     },
     "metadata": {},
     "output_type": "display_data"
    },
    {
     "data": {
      "text/html": [
       "<pre>| 9       | 576.191ms    | 0.0180504              |</pre>"
      ],
      "text/plain": [
       "| 9       | 576.191ms    | 0.0180504              |"
      ]
     },
     "metadata": {},
     "output_type": "display_data"
    },
    {
     "data": {
      "text/html": [
       "<pre>| 10      | 625.311ms    | 0.0163554              |</pre>"
      ],
      "text/plain": [
       "| 10      | 625.311ms    | 0.0163554              |"
      ]
     },
     "metadata": {},
     "output_type": "display_data"
    },
    {
     "data": {
      "text/html": [
       "<pre>| 11      | 698.002ms    | 0.014947               |</pre>"
      ],
      "text/plain": [
       "| 11      | 698.002ms    | 0.014947               |"
      ]
     },
     "metadata": {},
     "output_type": "display_data"
    },
    {
     "data": {
      "text/html": [
       "<pre>| 12      | 743.366ms    | 0.0137617              |</pre>"
      ],
      "text/plain": [
       "| 12      | 743.366ms    | 0.0137617              |"
      ]
     },
     "metadata": {},
     "output_type": "display_data"
    },
    {
     "data": {
      "text/html": [
       "<pre>| 13      | 805.789ms    | 0.0127494              |</pre>"
      ],
      "text/plain": [
       "| 13      | 805.789ms    | 0.0127494              |"
      ]
     },
     "metadata": {},
     "output_type": "display_data"
    },
    {
     "data": {
      "text/html": [
       "<pre>| 14      | 844.368ms    | 0.0118759              |</pre>"
      ],
      "text/plain": [
       "| 14      | 844.368ms    | 0.0118759              |"
      ]
     },
     "metadata": {},
     "output_type": "display_data"
    },
    {
     "data": {
      "text/html": [
       "<pre>| 15      | 906.184ms    | 0.0111164              |</pre>"
      ],
      "text/plain": [
       "| 15      | 906.184ms    | 0.0111164              |"
      ]
     },
     "metadata": {},
     "output_type": "display_data"
    },
    {
     "data": {
      "text/html": [
       "<pre>| 16      | 962.76ms     | 0.0104495              |</pre>"
      ],
      "text/plain": [
       "| 16      | 962.76ms     | 0.0104495              |"
      ]
     },
     "metadata": {},
     "output_type": "display_data"
    },
    {
     "data": {
      "text/html": [
       "<pre>| 17      | 999.525ms    | 0.0098592              |</pre>"
      ],
      "text/plain": [
       "| 17      | 999.525ms    | 0.0098592              |"
      ]
     },
     "metadata": {},
     "output_type": "display_data"
    },
    {
     "data": {
      "text/html": [
       "<pre>| 18      | 1.05s        | 0.00933046             |</pre>"
      ],
      "text/plain": [
       "| 18      | 1.05s        | 0.00933046             |"
      ]
     },
     "metadata": {},
     "output_type": "display_data"
    },
    {
     "data": {
      "text/html": [
       "<pre>| 19      | 1.10s        | 0.00885336             |</pre>"
      ],
      "text/plain": [
       "| 19      | 1.10s        | 0.00885336             |"
      ]
     },
     "metadata": {},
     "output_type": "display_data"
    },
    {
     "data": {
      "text/html": [
       "<pre>| 20      | 1.15s        | 0.00841947             |</pre>"
      ],
      "text/plain": [
       "| 20      | 1.15s        | 0.00841947             |"
      ]
     },
     "metadata": {},
     "output_type": "display_data"
    },
    {
     "data": {
      "text/html": [
       "<pre>| 21      | 1.21s        | 0.00801883             |</pre>"
      ],
      "text/plain": [
       "| 21      | 1.21s        | 0.00801883             |"
      ]
     },
     "metadata": {},
     "output_type": "display_data"
    },
    {
     "data": {
      "text/html": [
       "<pre>| 22      | 1.27s        | 0.00764756             |</pre>"
      ],
      "text/plain": [
       "| 22      | 1.27s        | 0.00764756             |"
      ]
     },
     "metadata": {},
     "output_type": "display_data"
    },
    {
     "data": {
      "text/html": [
       "<pre>| 23      | 1.33s        | 0.00729914             |</pre>"
      ],
      "text/plain": [
       "| 23      | 1.33s        | 0.00729914             |"
      ]
     },
     "metadata": {},
     "output_type": "display_data"
    },
    {
     "data": {
      "text/html": [
       "<pre>| 24      | 1.40s        | 0.00696891             |</pre>"
      ],
      "text/plain": [
       "| 24      | 1.40s        | 0.00696891             |"
      ]
     },
     "metadata": {},
     "output_type": "display_data"
    },
    {
     "data": {
      "text/html": [
       "<pre>| 25      | 1.44s        | 0.00665437             |</pre>"
      ],
      "text/plain": [
       "| 25      | 1.44s        | 0.00665437             |"
      ]
     },
     "metadata": {},
     "output_type": "display_data"
    },
    {
     "data": {
      "text/html": [
       "<pre>| 26      | 1.51s        | 0.00635279             |</pre>"
      ],
      "text/plain": [
       "| 26      | 1.51s        | 0.00635279             |"
      ]
     },
     "metadata": {},
     "output_type": "display_data"
    },
    {
     "data": {
      "text/html": [
       "<pre>| 27      | 1.57s        | 0.00606355             |</pre>"
      ],
      "text/plain": [
       "| 27      | 1.57s        | 0.00606355             |"
      ]
     },
     "metadata": {},
     "output_type": "display_data"
    },
    {
     "data": {
      "text/html": [
       "<pre>| 28      | 1.62s        | 0.00578591             |</pre>"
      ],
      "text/plain": [
       "| 28      | 1.62s        | 0.00578591             |"
      ]
     },
     "metadata": {},
     "output_type": "display_data"
    },
    {
     "data": {
      "text/html": [
       "<pre>| 29      | 1.70s        | 0.00551978             |</pre>"
      ],
      "text/plain": [
       "| 29      | 1.70s        | 0.00551978             |"
      ]
     },
     "metadata": {},
     "output_type": "display_data"
    },
    {
     "data": {
      "text/html": [
       "<pre>| 30      | 1.74s        | 0.00526571             |</pre>"
      ],
      "text/plain": [
       "| 30      | 1.74s        | 0.00526571             |"
      ]
     },
     "metadata": {},
     "output_type": "display_data"
    },
    {
     "data": {
      "text/html": [
       "<pre>| 31      | 1.80s        | 0.00502372             |</pre>"
      ],
      "text/plain": [
       "| 31      | 1.80s        | 0.00502372             |"
      ]
     },
     "metadata": {},
     "output_type": "display_data"
    },
    {
     "data": {
      "text/html": [
       "<pre>| 32      | 1.85s        | 0.00479277             |</pre>"
      ],
      "text/plain": [
       "| 32      | 1.85s        | 0.00479277             |"
      ]
     },
     "metadata": {},
     "output_type": "display_data"
    },
    {
     "data": {
      "text/html": [
       "<pre>| 33      | 1.90s        | 0.00457458             |</pre>"
      ],
      "text/plain": [
       "| 33      | 1.90s        | 0.00457458             |"
      ]
     },
     "metadata": {},
     "output_type": "display_data"
    },
    {
     "data": {
      "text/html": [
       "<pre>| 34      | 1.98s        | 0.00437026             |</pre>"
      ],
      "text/plain": [
       "| 34      | 1.98s        | 0.00437026             |"
      ]
     },
     "metadata": {},
     "output_type": "display_data"
    },
    {
     "data": {
      "text/html": [
       "<pre>| 35      | 2.03s        | 0.0041791              |</pre>"
      ],
      "text/plain": [
       "| 35      | 2.03s        | 0.0041791              |"
      ]
     },
     "metadata": {},
     "output_type": "display_data"
    },
    {
     "data": {
      "text/html": [
       "<pre>| 36      | 2.09s        | 0.00399853             |</pre>"
      ],
      "text/plain": [
       "| 36      | 2.09s        | 0.00399853             |"
      ]
     },
     "metadata": {},
     "output_type": "display_data"
    },
    {
     "data": {
      "text/html": [
       "<pre>| 37      | 2.13s        | 0.00383146             |</pre>"
      ],
      "text/plain": [
       "| 37      | 2.13s        | 0.00383146             |"
      ]
     },
     "metadata": {},
     "output_type": "display_data"
    },
    {
     "data": {
      "text/html": [
       "<pre>| 38      | 2.19s        | 0.00367551             |</pre>"
      ],
      "text/plain": [
       "| 38      | 2.19s        | 0.00367551             |"
      ]
     },
     "metadata": {},
     "output_type": "display_data"
    },
    {
     "data": {
      "text/html": [
       "<pre>| 39      | 2.25s        | 0.0035313              |</pre>"
      ],
      "text/plain": [
       "| 39      | 2.25s        | 0.0035313              |"
      ]
     },
     "metadata": {},
     "output_type": "display_data"
    },
    {
     "data": {
      "text/html": [
       "<pre>| 40      | 2.30s        | 0.003396               |</pre>"
      ],
      "text/plain": [
       "| 40      | 2.30s        | 0.003396               |"
      ]
     },
     "metadata": {},
     "output_type": "display_data"
    },
    {
     "data": {
      "text/html": [
       "<pre>| 41      | 2.38s        | 0.00327129             |</pre>"
      ],
      "text/plain": [
       "| 41      | 2.38s        | 0.00327129             |"
      ]
     },
     "metadata": {},
     "output_type": "display_data"
    },
    {
     "data": {
      "text/html": [
       "<pre>| 42      | 2.43s        | 0.00315418             |</pre>"
      ],
      "text/plain": [
       "| 42      | 2.43s        | 0.00315418             |"
      ]
     },
     "metadata": {},
     "output_type": "display_data"
    },
    {
     "data": {
      "text/html": [
       "<pre>| 43      | 2.47s        | 0.00304526             |</pre>"
      ],
      "text/plain": [
       "| 43      | 2.47s        | 0.00304526             |"
      ]
     },
     "metadata": {},
     "output_type": "display_data"
    },
    {
     "data": {
      "text/html": [
       "<pre>| 44      | 2.57s        | 0.00294318             |</pre>"
      ],
      "text/plain": [
       "| 44      | 2.57s        | 0.00294318             |"
      ]
     },
     "metadata": {},
     "output_type": "display_data"
    },
    {
     "data": {
      "text/html": [
       "<pre>| 45      | 2.64s        | 0.00284732             |</pre>"
      ],
      "text/plain": [
       "| 45      | 2.64s        | 0.00284732             |"
      ]
     },
     "metadata": {},
     "output_type": "display_data"
    },
    {
     "data": {
      "text/html": [
       "<pre>| 46      | 2.76s        | 0.00275667             |</pre>"
      ],
      "text/plain": [
       "| 46      | 2.76s        | 0.00275667             |"
      ]
     },
     "metadata": {},
     "output_type": "display_data"
    },
    {
     "data": {
      "text/html": [
       "<pre>| 47      | 2.83s        | 0.00267227             |</pre>"
      ],
      "text/plain": [
       "| 47      | 2.83s        | 0.00267227             |"
      ]
     },
     "metadata": {},
     "output_type": "display_data"
    },
    {
     "data": {
      "text/html": [
       "<pre>| 48      | 2.88s        | 0.00259229             |</pre>"
      ],
      "text/plain": [
       "| 48      | 2.88s        | 0.00259229             |"
      ]
     },
     "metadata": {},
     "output_type": "display_data"
    },
    {
     "data": {
      "text/html": [
       "<pre>| 49      | 2.96s        | 0.00251598             |</pre>"
      ],
      "text/plain": [
       "| 49      | 2.96s        | 0.00251598             |"
      ]
     },
     "metadata": {},
     "output_type": "display_data"
    },
    {
     "data": {
      "text/html": [
       "<pre>| FINAL   | 2.96s        | 0.00251598             |</pre>"
      ],
      "text/plain": [
       "| FINAL   | 2.96s        | 0.00251598             |"
      ]
     },
     "metadata": {},
     "output_type": "display_data"
    },
    {
     "data": {
      "text/html": [
       "<pre>+---------+--------------+------------------------+</pre>"
      ],
      "text/plain": [
       "+---------+--------------+------------------------+"
      ]
     },
     "metadata": {},
     "output_type": "display_data"
    },
    {
     "data": {
      "text/html": [
       "<pre>Optimization Complete: Iteration limit reached.</pre>"
      ],
      "text/plain": [
       "Optimization Complete: Iteration limit reached."
      ]
     },
     "metadata": {},
     "output_type": "display_data"
    }
   ],
   "source": [
    "# build the MF model\n",
    "rec = graphlab.recommender.factorization_recommender.create(\n",
    "            sf_ratings,\n",
    "            user_id='uid',\n",
    "            item_id='song_id',\n",
    "            target='implicit_rating',\n",
    "            solver='als',\n",
    "            side_data_factorization=False)"
   ]
  },
  {
   "cell_type": "markdown",
   "metadata": {},
   "source": [
    "###  See the prediction rating for a user on a song "
   ]
  },
  {
   "cell_type": "code",
   "execution_count": 31,
   "metadata": {
    "collapsed": false
   },
   "outputs": [
    {
     "data": {
      "text/html": [
       "<div style=\"max-height:1000px;max-width:1500px;overflow:auto;\"><table frame=\"box\" rules=\"cols\">\n",
       "    <tr>\n",
       "        <th style=\"padding-left: 1em; padding-right: 1em; text-align: center\">song_id</th>\n",
       "        <th style=\"padding-left: 1em; padding-right: 1em; text-align: center\">uid</th>\n",
       "    </tr>\n",
       "    <tr>\n",
       "        <td style=\"padding-left: 1em; padding-right: 1em; text-align: center; vertical-align: top\">2268517</td>\n",
       "        <td style=\"padding-left: 1em; padding-right: 1em; text-align: center; vertical-align: top\">6871077</td>\n",
       "    </tr>\n",
       "</table>\n",
       "[1 rows x 2 columns]<br/>\n",
       "</div>"
      ],
      "text/plain": [
       "Columns:\n",
       "\tsong_id\tint\n",
       "\tuid\tint\n",
       "\n",
       "Rows: 1\n",
       "\n",
       "Data:\n",
       "+---------+---------+\n",
       "| song_id |   uid   |\n",
       "+---------+---------+\n",
       "| 2268517 | 6871077 |\n",
       "+---------+---------+\n",
       "[1 rows x 2 columns]"
      ]
     },
     "execution_count": 31,
     "metadata": {},
     "output_type": "execute_result"
    }
   ],
   "source": [
    "one_datapoint_sf = graphlab.SFrame({'uid': [sf_ratings['uid'][0]], 'song_id': [sf_ratings['song_id'][10]]}) \n",
    "one_datapoint_sf"
   ]
  },
  {
   "cell_type": "code",
   "execution_count": 32,
   "metadata": {
    "collapsed": false
   },
   "outputs": [
    {
     "name": "stdout",
     "output_type": "stream",
     "text": [
      "rating for datapoint\n",
      "+---------+---------+\n",
      "| song_id |   uid   |\n",
      "+---------+---------+\n",
      "| 2268517 | 6871077 |\n",
      "+---------+---------+\n",
      "[1 rows x 2 columns]\n",
      " \n",
      ": 2.3839258274\n"
     ]
    }
   ],
   "source": [
    "print \"rating for datapoint\\n\", one_datapoint_sf, \"\\n:\", rec.predict(one_datapoint_sf)[0] "
   ]
  },
  {
   "cell_type": "code",
   "execution_count": 33,
   "metadata": {
    "collapsed": false
   },
   "outputs": [
    {
     "data": {
      "text/html": [
       "<div style=\"max-height:1000px;max-width:1500px;overflow:auto;\"><table frame=\"box\" rules=\"cols\">\n",
       "    <tr>\n",
       "        <th style=\"padding-left: 1em; padding-right: 1em; text-align: center\">uid</th>\n",
       "        <th style=\"padding-left: 1em; padding-right: 1em; text-align: center\">song_id</th>\n",
       "        <th style=\"padding-left: 1em; padding-right: 1em; text-align: center\">score</th>\n",
       "        <th style=\"padding-left: 1em; padding-right: 1em; text-align: center\">rank</th>\n",
       "    </tr>\n",
       "    <tr>\n",
       "        <td style=\"padding-left: 1em; padding-right: 1em; text-align: center; vertical-align: top\">6871077</td>\n",
       "        <td style=\"padding-left: 1em; padding-right: 1em; text-align: center; vertical-align: top\">405670</td>\n",
       "        <td style=\"padding-left: 1em; padding-right: 1em; text-align: center; vertical-align: top\">40.3687275594</td>\n",
       "        <td style=\"padding-left: 1em; padding-right: 1em; text-align: center; vertical-align: top\">1</td>\n",
       "    </tr>\n",
       "    <tr>\n",
       "        <td style=\"padding-left: 1em; padding-right: 1em; text-align: center; vertical-align: top\">6871077</td>\n",
       "        <td style=\"padding-left: 1em; padding-right: 1em; text-align: center; vertical-align: top\">23485496</td>\n",
       "        <td style=\"padding-left: 1em; padding-right: 1em; text-align: center; vertical-align: top\">33.3061131185</td>\n",
       "        <td style=\"padding-left: 1em; padding-right: 1em; text-align: center; vertical-align: top\">2</td>\n",
       "    </tr>\n",
       "    <tr>\n",
       "        <td style=\"padding-left: 1em; padding-right: 1em; text-align: center; vertical-align: top\">6871077</td>\n",
       "        <td style=\"padding-left: 1em; padding-right: 1em; text-align: center; vertical-align: top\">9952428</td>\n",
       "        <td style=\"padding-left: 1em; padding-right: 1em; text-align: center; vertical-align: top\">17.6620873159</td>\n",
       "        <td style=\"padding-left: 1em; padding-right: 1em; text-align: center; vertical-align: top\">3</td>\n",
       "    </tr>\n",
       "    <tr>\n",
       "        <td style=\"padding-left: 1em; padding-right: 1em; text-align: center; vertical-align: top\">6871077</td>\n",
       "        <td style=\"padding-left: 1em; padding-right: 1em; text-align: center; vertical-align: top\">9102791</td>\n",
       "        <td style=\"padding-left: 1em; padding-right: 1em; text-align: center; vertical-align: top\">16.8748463338</td>\n",
       "        <td style=\"padding-left: 1em; padding-right: 1em; text-align: center; vertical-align: top\">4</td>\n",
       "    </tr>\n",
       "    <tr>\n",
       "        <td style=\"padding-left: 1em; padding-right: 1em; text-align: center; vertical-align: top\">6871077</td>\n",
       "        <td style=\"padding-left: 1em; padding-right: 1em; text-align: center; vertical-align: top\">6288512</td>\n",
       "        <td style=\"padding-left: 1em; padding-right: 1em; text-align: center; vertical-align: top\">14.7377642339</td>\n",
       "        <td style=\"padding-left: 1em; padding-right: 1em; text-align: center; vertical-align: top\">5</td>\n",
       "    </tr>\n",
       "</table>\n",
       "[5 rows x 4 columns]<br/>\n",
       "</div>"
      ],
      "text/plain": [
       "Columns:\n",
       "\tuid\tint\n",
       "\tsong_id\tint\n",
       "\tscore\tfloat\n",
       "\trank\tint\n",
       "\n",
       "Rows: 5\n",
       "\n",
       "Data:\n",
       "+---------+----------+---------------+------+\n",
       "|   uid   | song_id  |     score     | rank |\n",
       "+---------+----------+---------------+------+\n",
       "| 6871077 |  405670  | 40.3687275594 |  1   |\n",
       "| 6871077 | 23485496 | 33.3061131185 |  2   |\n",
       "| 6871077 | 9952428  | 17.6620873159 |  3   |\n",
       "| 6871077 | 9102791  | 16.8748463338 |  4   |\n",
       "| 6871077 | 6288512  | 14.7377642339 |  5   |\n",
       "+---------+----------+---------------+------+\n",
       "[5 rows x 4 columns]"
      ]
     },
     "execution_count": 33,
     "metadata": {},
     "output_type": "execute_result"
    }
   ],
   "source": [
    "# For a specic user\n",
    "rec.recommend(users=[sf_ratings['uid'][0]], k=5)"
   ]
  },
  {
   "cell_type": "markdown",
   "metadata": {},
   "source": [
    "### Training Root Mean Squared Error"
   ]
  },
  {
   "cell_type": "code",
   "execution_count": 34,
   "metadata": {
    "collapsed": false
   },
   "outputs": [
    {
     "name": "stdout",
     "output_type": "stream",
     "text": [
      "The training rmse: 0.00251598315907\n"
     ]
    }
   ],
   "source": [
    "print \"The training rmse:\", rec['training_rmse']"
   ]
  },
  {
   "cell_type": "markdown",
   "metadata": {},
   "source": [
    "### Regularization Method for MF Recommender "
   ]
  },
  {
   "cell_type": "code",
   "execution_count": 35,
   "metadata": {
    "collapsed": false
   },
   "outputs": [
    {
     "data": {
      "text/html": [
       "<pre>Recsys training: model = factorization_recommender</pre>"
      ],
      "text/plain": [
       "Recsys training: model = factorization_recommender"
      ]
     },
     "metadata": {},
     "output_type": "display_data"
    },
    {
     "name": "stdout",
     "output_type": "stream",
     "text": [
      "training rmse with regularization 10: 0.998329523228\n"
     ]
    }
   ],
   "source": [
    "random_seed = 0\n",
    "regularization_param = 10\n",
    "rec_regularized = graphlab.recommender.factorization_recommender.create(\n",
    "                    sf_ratings,\n",
    "                    user_id='uid',\n",
    "                    item_id='song_id',\n",
    "                    target='implicit_rating',\n",
    "                    solver='als',\n",
    "                    side_data_factorization=False,\n",
    "                    regularization=regularization_param,\n",
    "                    random_seed=random_seed,\n",
    "                    verbose=False) \n",
    "print \"training rmse with regularization %s:\"%regularization_param, rec_regularized['training_rmse']"
   ]
  },
  {
   "cell_type": "markdown",
   "metadata": {},
   "source": [
    "## Model Tune via Cross-validation\n",
    "<font color = red>\n",
    "However, as we can see, the training rmse above is very small, it is very likely for them to suffer a serious over-fitting problem."
   ]
  },
  {
   "cell_type": "code",
   "execution_count": 36,
   "metadata": {
    "collapsed": false
   },
   "outputs": [
    {
     "name": "stderr",
     "output_type": "stream",
     "text": [
      "[INFO] graphlab.deploy.job: Validating job.\n",
      "[INFO] graphlab.deploy.job: Creating a LocalAsync environment called 'async'.\n",
      "[INFO] graphlab.deploy.map_job: Validation complete. Job: 'Model-Parameter-Search-Jul-08-2018-13-43-4600000' ready for execution\n",
      "[INFO] graphlab.deploy.map_job: Job: 'Model-Parameter-Search-Jul-08-2018-13-43-4600000' scheduled.\n",
      "[INFO] graphlab.deploy.job: Validating job.\n",
      "[INFO] graphlab.deploy.map_job: A job with name 'Model-Parameter-Search-Jul-08-2018-13-43-4600000' already exists. Renaming the job to 'Model-Parameter-Search-Jul-08-2018-13-43-4600000-30600'.\n",
      "[INFO] graphlab.deploy.map_job: Validation complete. Job: 'Model-Parameter-Search-Jul-08-2018-13-43-4600000-30600' ready for execution\n",
      "[INFO] graphlab.deploy.map_job: Job: 'Model-Parameter-Search-Jul-08-2018-13-43-4600000-30600' scheduled.\n",
      "[INFO] graphlab.deploy.job: Validating job.\n",
      "[INFO] graphlab.deploy.map_job: Validation complete. Job: 'Model-Parameter-Search-Jul-08-2018-13-43-4600001' ready for execution\n",
      "[INFO] graphlab.deploy.map_job: Job: 'Model-Parameter-Search-Jul-08-2018-13-43-4600001' scheduled.\n",
      "[INFO] graphlab.deploy.job: Validating job.\n",
      "[INFO] graphlab.deploy.map_job: Validation complete. Job: 'Model-Parameter-Search-Jul-08-2018-13-43-4600002' ready for execution\n",
      "[INFO] graphlab.deploy.map_job: Job: 'Model-Parameter-Search-Jul-08-2018-13-43-4600002' scheduled.\n"
     ]
    }
   ],
   "source": [
    "kfolds = graphlab.cross_validation.KFold(sf_ratings, 5)\n",
    "params = dict(user_id='uid', \n",
    "              item_id='song_id', \n",
    "              target='implicit_rating',\n",
    "              solver='als', \n",
    "              side_data_factorization=False)\n",
    "paramsearch = graphlab.model_parameter_search.create(\n",
    "                    kfolds,\n",
    "                    graphlab.recommender.factorization_recommender.create,\n",
    "                    params)"
   ]
  },
  {
   "cell_type": "code",
   "execution_count": 37,
   "metadata": {
    "collapsed": false
   },
   "outputs": [
    {
     "data": {
      "text/plain": [
       "{'item_id': 'song_id',\n",
       " 'linear_regularization': 1e-09,\n",
       " 'max_iterations': 50,\n",
       " 'num_factors': 32,\n",
       " 'regularization': 0.0001,\n",
       " 'side_data_factorization': False,\n",
       " 'solver': 'als',\n",
       " 'target': 'implicit_rating',\n",
       " 'user_id': 'uid'}"
      ]
     },
     "execution_count": 37,
     "metadata": {},
     "output_type": "execute_result"
    }
   ],
   "source": [
    "best_params = paramsearch.get_best_params('mean_validation_rmse', ascending=True)\n",
    "best_params"
   ]
  },
  {
   "cell_type": "code",
   "execution_count": 38,
   "metadata": {
    "collapsed": false
   },
   "outputs": [
    {
     "name": "stdout",
     "output_type": "stream",
     "text": [
      "The params of the best model are: \n",
      "{'side_data_factorization': False, 'regularization': 0.0001, 'user_id': 'uid', 'target': 'implicit_rating', 'solver': 'als', 'num_factors': 32, 'item_id': 'song_id', 'max_iterations': 50, 'linear_regularization': 1e-09} \n",
      " The mean training rmse is: \n",
      " 0.762248670377 \n",
      " The mean validation rmse is: \n",
      " 1.00255490695\n"
     ]
    }
   ],
   "source": [
    "results_df = paramsearch.get_results().to_dataframe()\n",
    "results_df_sorted = results_df.sort_values('mean_validation_rmse')\n",
    "print 'The params of the best model are: \\n', best_params, \\\n",
    "       '\\n The mean training rmse is: \\n %s'%results_df_sorted['mean_training_rmse'].iloc[0], \\\n",
    "       '\\n The mean validation rmse is: \\n %s'%results_df_sorted['mean_validation_rmse'].iloc[0]"
   ]
  },
  {
   "cell_type": "markdown",
   "metadata": {},
   "source": [
    "After tuning the model we finally acquire is fairly robust. "
   ]
  },
  {
   "cell_type": "code",
   "execution_count": null,
   "metadata": {
    "collapsed": true
   },
   "outputs": [],
   "source": []
  }
 ],
 "metadata": {
  "kernelspec": {
   "display_name": "Python 2",
   "language": "python",
   "name": "python2"
  },
  "language_info": {
   "codemirror_mode": {
    "name": "ipython",
    "version": 2
   },
   "file_extension": ".py",
   "mimetype": "text/x-python",
   "name": "python",
   "nbconvert_exporter": "python",
   "pygments_lexer": "ipython2",
   "version": "2.7.11"
  }
 },
 "nbformat": 4,
 "nbformat_minor": 2
}
