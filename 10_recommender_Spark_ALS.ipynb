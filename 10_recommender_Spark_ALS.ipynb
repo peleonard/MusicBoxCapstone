{
 "cells": [
  {
   "cell_type": "code",
   "execution_count": 1,
   "metadata": {},
   "outputs": [
    {
     "name": "stdout",
     "output_type": "stream",
     "text": [
      "Welcome to\n",
      "      ____              __\n",
      "     / __/__  ___ _____/ /__\n",
      "    _\\ \\/ _ \\/ _ `/ __/  '_/\n",
      "   /__ / .__/\\_,_/_/ /_/\\_\\   version 2.3.1\n",
      "      /_/\n",
      "\n",
      "Using Python version 3.6.5 (default, Mar 29 2018 13:14:23)\n",
      "SparkSession available as 'spark'.\n"
     ]
    },
    {
     "data": {
      "text/html": [
       "\n",
       "        <div>\n",
       "            <p><b>SparkContext</b></p>\n",
       "\n",
       "            <p><a href=\"http://192.168.0.4:4040\">Spark UI</a></p>\n",
       "\n",
       "            <dl>\n",
       "              <dt>Version</dt>\n",
       "                <dd><code>v2.3.1</code></dd>\n",
       "              <dt>Master</dt>\n",
       "                <dd><code>local[*]</code></dd>\n",
       "              <dt>AppName</dt>\n",
       "                <dd><code>pyspark-shell</code></dd>\n",
       "            </dl>\n",
       "        </div>\n",
       "        "
      ],
      "text/plain": [
       "<SparkContext master=local[*] appName=pyspark-shell>"
      ]
     },
     "execution_count": 1,
     "metadata": {},
     "output_type": "execute_result"
    }
   ],
   "source": [
    "import os\n",
    "# os.environ[\"SPARK_HOME\"]\n",
    "exec(open(os.path.join(os.environ[\"SPARK_HOME\"], 'python/pyspark/shell.py')).read())\n",
    "sc"
   ]
  },
  {
   "cell_type": "markdown",
   "metadata": {},
   "source": [
    "## Load Dataset"
   ]
  },
  {
   "cell_type": "markdown",
   "metadata": {},
   "source": [
    "### Create Implicit Rating"
   ]
  },
  {
   "cell_type": "code",
   "execution_count": 2,
   "metadata": {},
   "outputs": [],
   "source": [
    "import pyspark.sql.functions as F\n",
    "\n",
    "from pyspark.ml import Pipeline\n",
    "from pyspark.ml.feature import Bucketizer, MinMaxScaler, VectorAssembler\n",
    "\n",
    "from pyspark.sql.types import DoubleType\n",
    "\n",
    "from pyspark.ml.evaluation import RegressionEvaluator\n",
    "from pyspark.ml.recommendation import ALS"
   ]
  },
  {
   "cell_type": "code",
   "execution_count": 3,
   "metadata": {},
   "outputs": [
    {
     "name": "stdout",
     "output_type": "stream",
     "text": [
      "root\n",
      " |-- uid: integer (nullable = true)\n",
      " |-- song_id: integer (nullable = true)\n",
      " |-- freq_P_last_1: integer (nullable = true)\n",
      " |-- freq_P_last_3: integer (nullable = true)\n",
      " |-- freq_P_last_7: integer (nullable = true)\n",
      " |-- freq_P_last_14: integer (nullable = true)\n",
      " |-- freq_P_last_30: integer (nullable = true)\n",
      " |-- freq_P_last_44: integer (nullable = true)\n",
      " |-- freq_D_last_1: integer (nullable = true)\n",
      " |-- freq_D_last_3: integer (nullable = true)\n",
      " |-- freq_D_last_7: integer (nullable = true)\n",
      " |-- freq_D_last_14: integer (nullable = true)\n",
      " |-- freq_D_last_30: integer (nullable = true)\n",
      " |-- freq_D_last_44: integer (nullable = true)\n",
      " |-- rec_P: integer (nullable = true)\n",
      " |-- rec_D: integer (nullable = true)\n",
      " |-- rela_freq_last_1: integer (nullable = true)\n",
      " |-- rela_freq_last_3: integer (nullable = true)\n",
      " |-- rela_freq_last_7: integer (nullable = true)\n",
      " |-- rela_freq_last_14: integer (nullable = true)\n",
      " |-- rela_freq_last_30: integer (nullable = true)\n",
      " |-- rela_freq_last_44: integer (nullable = true)\n",
      "\n"
     ]
    },
    {
     "data": {
      "text/plain": [
       "553324"
      ]
     },
     "execution_count": 3,
     "metadata": {},
     "output_type": "execute_result"
    }
   ],
   "source": [
    "df = spark.read.csv('../data/df_reco_final.csv',header=True,inferSchema=True).cache()\n",
    "df.printSchema()\n",
    "df.count()"
   ]
  },
  {
   "cell_type": "code",
   "execution_count": 4,
   "metadata": {},
   "outputs": [],
   "source": [
    "# user record greater than 5\n",
    "df_user_gt5 = df.groupBy('uid').count().where(F.col('count')>5)"
   ]
  },
  {
   "cell_type": "code",
   "execution_count": 5,
   "metadata": {},
   "outputs": [
    {
     "name": "stdout",
     "output_type": "stream",
     "text": [
      "+-------+-----+\n",
      "|    uid|count|\n",
      "+-------+-----+\n",
      "|6871077|  176|\n",
      "+-------+-----+\n",
      "\n"
     ]
    }
   ],
   "source": [
    "df_user_gt5.where(F.col('uid')==6871077).show()"
   ]
  },
  {
   "cell_type": "code",
   "execution_count": 6,
   "metadata": {},
   "outputs": [],
   "source": [
    "df = df_user_gt5.join(df, on=['uid'], how='left')"
   ]
  },
  {
   "cell_type": "code",
   "execution_count": 7,
   "metadata": {},
   "outputs": [
    {
     "name": "stdout",
     "output_type": "stream",
     "text": [
      "+-------+-----+--------+-------------+-------------+-------------+--------------+--------------+--------------+-------------+-------------+-------------+--------------+--------------+--------------+-----+-----+----------------+----------------+----------------+-----------------+-----------------+-----------------+\n",
      "|    uid|count| song_id|freq_P_last_1|freq_P_last_3|freq_P_last_7|freq_P_last_14|freq_P_last_30|freq_P_last_44|freq_D_last_1|freq_D_last_3|freq_D_last_7|freq_D_last_14|freq_D_last_30|freq_D_last_44|rec_P|rec_D|rela_freq_last_1|rela_freq_last_3|rela_freq_last_7|rela_freq_last_14|rela_freq_last_30|rela_freq_last_44|\n",
      "+-------+-----+--------+-------------+-------------+-------------+--------------+--------------+--------------+-------------+-------------+-------------+--------------+--------------+--------------+-----+-----+----------------+----------------+----------------+-----------------+-----------------+-----------------+\n",
      "|6871077|  176|22399766|            0|            0|            0|             0|             2|             2|            0|            0|            0|             0|             0|             0|   18|    0|               0|               0|               0|                0|                0|                0|\n",
      "|6871077|  176| 2767779|            0|            0|            0|             0|             2|             2|            0|            0|            0|             0|             0|             0|   18|    0|               0|               0|               0|                0|                0|                0|\n",
      "|6871077|  176|  116273|            0|            0|            0|             0|             1|             1|            0|            0|            0|             0|             0|             0|   18|    0|               0|               0|               0|                0|                0|                0|\n",
      "|6871077|  176|12174438|            0|            0|            0|             0|             0|             1|            0|            0|            0|             0|             0|             0|   43|    0|               0|               0|               0|                0|                0|                0|\n",
      "|6871077|  176| 1915653|            0|            0|            0|             0|             1|             1|            0|            0|            0|             0|             0|             0|   18|    0|               0|               0|               0|                0|                0|                0|\n",
      "|6871077|  176| 4380439|            0|            0|            0|             0|             2|             3|            0|            0|            0|             0|             0|             0|   28|    0|               0|               0|               0|                0|                0|                0|\n",
      "|6871077|  176|   97656|            0|            0|            0|             0|             1|             1|            0|            0|            0|             0|             0|             0|   28|    0|               0|               0|               0|                0|                0|                0|\n",
      "|6871077|  176|  551441|            0|            0|            0|             0|             1|             1|            0|            0|            0|             0|             0|             0|   28|    0|               0|               0|               0|                0|                0|                0|\n",
      "|6871077|  176|   76518|            0|            0|            0|             0|             1|             1|            0|            0|            0|             0|             0|             0|   22|    0|               0|               0|               0|                0|                0|                0|\n",
      "|6871077|  176|   64490|            0|            0|            0|             0|             2|             2|            0|            0|            0|             0|             0|             0|   22|    0|               0|               0|               0|                0|                0|                0|\n",
      "|6871077|  176| 1080114|            0|            0|            0|             0|             1|             1|            0|            0|            0|             0|             0|             0|   18|    0|               0|               0|               0|                0|                0|                0|\n",
      "|6871077|  176| 5053019|            0|            0|            0|             0|             1|             1|            0|            0|            0|             0|             0|             0|   22|    0|               0|               0|               0|                0|                0|                0|\n",
      "|6871077|  176| 2802172|            0|            0|            0|             0|             1|             1|            0|            0|            0|             0|             0|             0|   22|    0|               0|               0|               0|                0|                0|                0|\n",
      "|6871077|  176| 6418102|            0|            0|            0|             0|             0|             1|            0|            0|            0|             0|             0|             0|   43|    0|               0|               0|               0|                0|                0|                0|\n",
      "|6871077|  176|15197272|            0|            0|            0|             0|             2|             3|            0|            0|            0|             0|             0|             0|   28|    0|               0|               0|               0|                0|                0|                0|\n",
      "|6871077|  176| 6610473|            0|            0|            0|             0|             2|             2|            0|            0|            0|             0|             0|             0|   18|    0|               0|               0|               0|                0|                0|                0|\n",
      "|6871077|  176|   84360|            0|            0|            0|             0|             1|             1|            0|            0|            0|             0|             0|             0|   22|    0|               0|               0|               0|                0|                0|                0|\n",
      "|6871077|  176|  231323|            0|            0|            0|             0|             4|             5|            0|            0|            0|             0|             0|             0|   18|    0|               0|               0|               0|                0|                1|                1|\n",
      "|6871077|  176| 3419822|            0|            0|            0|             0|             1|             1|            0|            0|            0|             0|             0|             0|   28|    0|               0|               0|               0|                0|                0|                0|\n",
      "|6871077|  176|  466227|            0|            0|            0|             0|             2|             3|            0|            0|            0|             0|             0|             0|   28|    0|               0|               0|               0|                0|                0|                0|\n",
      "+-------+-----+--------+-------------+-------------+-------------+--------------+--------------+--------------+-------------+-------------+-------------+--------------+--------------+--------------+-----+-----+----------------+----------------+----------------+-----------------+-----------------+-----------------+\n",
      "only showing top 20 rows\n",
      "\n"
     ]
    }
   ],
   "source": [
    "df.where(F.col('uid')==6871077).show()"
   ]
  },
  {
   "cell_type": "code",
   "execution_count": 8,
   "metadata": {},
   "outputs": [],
   "source": [
    "df_reco = df.select('uid', 'song_id', 'freq_P_last_44', 'freq_D_last_44', 'rela_freq_last_44') \\\n",
    "            .where((F.col('freq_D_last_44')!=0) & ((F.col('freq_P_last_44')!=0)|(F.col('rela_freq_last_44')!=0)))"
   ]
  },
  {
   "cell_type": "code",
   "execution_count": 9,
   "metadata": {},
   "outputs": [
    {
     "name": "stdout",
     "output_type": "stream",
     "text": [
      "root\n",
      " |-- uid: integer (nullable = true)\n",
      " |-- song_id: integer (nullable = true)\n",
      " |-- freq_P_last_44: integer (nullable = true)\n",
      " |-- freq_D_last_44: integer (nullable = true)\n",
      " |-- rela_freq_last_44: integer (nullable = true)\n",
      " |-- freq_P_last_44_log10: double (nullable = true)\n",
      " |-- freq_D_last_44_log10: double (nullable = true)\n",
      " |-- rela_freq_last_44_log10: double (nullable = true)\n",
      " |-- rating: double (nullable = true)\n",
      "\n"
     ]
    }
   ],
   "source": [
    "df_reco = df_reco.withColumn('freq_P_last_44_log10', F.log10(F.col('freq_P_last_44')+1)) \\\n",
    "                .withColumn('freq_D_last_44_log10', F.log10(F.col('freq_D_last_44')+1)) \\\n",
    "                .withColumn('rela_freq_last_44_log10', F.log10(F.col('rela_freq_last_44')+1)) \\\n",
    "                .withColumn('rating', 0.2*F.col('freq_P_last_44_log10')+0.5*F.col('freq_D_last_44_log10')\\\n",
    "                            +0.3*F.col('rela_freq_last_44_log10'))\n",
    "df_reco.printSchema()"
   ]
  },
  {
   "cell_type": "code",
   "execution_count": 10,
   "metadata": {},
   "outputs": [],
   "source": [
    "assembler = VectorAssembler(inputCols=['rating'], outputCol='rating_assembled')\n",
    "scaler = MinMaxScaler(inputCol='rating_assembled', outputCol='rating_scaled')\n",
    "\n",
    "## pp: pipeline\n",
    "pp = Pipeline(stages=[assembler, scaler])\n",
    "pp_model = pp.fit(df_reco)\n",
    "df_reco= pp_model.transform(df_reco)\n",
    "# df_reco.show(1)"
   ]
  },
  {
   "cell_type": "code",
   "execution_count": 11,
   "metadata": {},
   "outputs": [],
   "source": [
    "## Convert column type back to double\n",
    "Vec2num_udf = F.udf(lambda x: float(x[0]), DoubleType())\n",
    "df_reco = df_reco.withColumn('rating_scaled_num', Vec2num_udf('rating_scaled'))\n",
    "# df_reco.show()"
   ]
  },
  {
   "cell_type": "code",
   "execution_count": 12,
   "metadata": {},
   "outputs": [],
   "source": [
    "splits = [.0, 1/30, 1/15, 5/15, 7/15, 1]\n",
    "bucketizer = Bucketizer(splits=splits, inputCol='rating_scaled_num', outputCol='rating_final')\n",
    "df_reco= bucketizer.transform(df_reco)\n",
    "df_reco = df_reco.withColumn('rating_final', F.col('rating_final')+1)"
   ]
  },
  {
   "cell_type": "code",
   "execution_count": 13,
   "metadata": {},
   "outputs": [
    {
     "name": "stdout",
     "output_type": "stream",
     "text": [
      "+--------+--------+-------------------+------------+\n",
      "|     uid| song_id|  rating_scaled_num|rating_final|\n",
      "+--------+--------+-------------------+------------+\n",
      "|16202430|23110924| 0.0857279276377621|         3.0|\n",
      "|46307155| 9950164| 0.2816640595599923|         3.0|\n",
      "|66767310| 4384363| 0.5713650852501141|         5.0|\n",
      "|66767310|15706618| 0.5361336318936317|         5.0|\n",
      "|76151459|  711119|0.21686141010778345|         3.0|\n",
      "+--------+--------+-------------------+------------+\n",
      "only showing top 5 rows\n",
      "\n"
     ]
    }
   ],
   "source": [
    "df_reco_spark = df_reco.select('uid', 'song_id', 'rating_scaled_num', 'rating_final')\n",
    "df_reco_spark.show(5)"
   ]
  },
  {
   "cell_type": "markdown",
   "metadata": {},
   "source": [
    "Remember that we don't handle the \"cold-start\". The <font color = red>cold start </font> strategy is following the strategy of Spark MLlib."
   ]
  },
  {
   "cell_type": "code",
   "execution_count": 14,
   "metadata": {},
   "outputs": [
    {
     "name": "stdout",
     "output_type": "stream",
     "text": [
      "+------------+-----+\n",
      "|rating_final|count|\n",
      "+------------+-----+\n",
      "|         1.0|11983|\n",
      "|         4.0| 9124|\n",
      "|         3.0|37548|\n",
      "|         2.0| 6624|\n",
      "|         5.0| 7168|\n",
      "+------------+-----+\n",
      "\n"
     ]
    }
   ],
   "source": [
    "df_reco_spark.groupBy('rating_final').count().show()"
   ]
  },
  {
   "cell_type": "code",
   "execution_count": 15,
   "metadata": {},
   "outputs": [
    {
     "name": "stdout",
     "output_type": "stream",
     "text": [
      "+---+-------+-----------------+------------+\n",
      "|uid|song_id|rating_scaled_num|rating_final|\n",
      "+---+-------+-----------------+------------+\n",
      "+---+-------+-----------------+------------+\n",
      "\n"
     ]
    }
   ],
   "source": [
    "df_reco_spark.where(F.col('uid')==6871077).show()"
   ]
  },
  {
   "cell_type": "markdown",
   "metadata": {},
   "source": [
    "## Collaborative Filtering (PySpark ALS)"
   ]
  },
  {
   "cell_type": "markdown",
   "metadata": {},
   "source": [
    "### Train Test Split"
   ]
  },
  {
   "cell_type": "code",
   "execution_count": 16,
   "metadata": {},
   "outputs": [],
   "source": [
    "split_seed = 301\n",
    "train, test = df_reco_spark.randomSplit(weights=[.7,.3],seed=split_seed)"
   ]
  },
  {
   "cell_type": "markdown",
   "metadata": {},
   "source": [
    "### Spark ALS Recommender"
   ]
  },
  {
   "cell_type": "code",
   "execution_count": 17,
   "metadata": {},
   "outputs": [
    {
     "name": "stdout",
     "output_type": "stream",
     "text": [
      "Root-mean-square error = 1.1888604993089464\n"
     ]
    }
   ],
   "source": [
    "# Build the recommendation model using ALS on the training data\n",
    "# Note we set cold start strategy to 'drop' to ensure we don't get NaN evaluation metrics\n",
    "als = ALS(maxIter=10, regParam=0.2, userCol=\"uid\", itemCol=\"song_id\", ratingCol=\"rating_final\",\n",
    "          coldStartStrategy=\"drop\")\n",
    "model = als.fit(train)\n",
    "\n",
    "# Evaluate the model by computing the RMSE on the test data\n",
    "predictions = model.transform(test)\n",
    "evaluator = RegressionEvaluator(metricName=\"rmse\", labelCol=\"rating_final\",\n",
    "                                predictionCol=\"prediction\")\n",
    "rmse = evaluator.evaluate(predictions)\n",
    "print(\"Root-mean-square error = \" + str(rmse))"
   ]
  },
  {
   "cell_type": "code",
   "execution_count": 18,
   "metadata": {},
   "outputs": [],
   "source": [
    "# Generate top 10 movie recommendations for each user\n",
    "userRecs = model.recommendForAllUsers(10)\n",
    "# Generate top 10 user recommendations for each movie\n",
    "movieRecs = model.recommendForAllItems(10)"
   ]
  },
  {
   "cell_type": "code",
   "execution_count": 19,
   "metadata": {},
   "outputs": [
    {
     "name": "stdout",
     "output_type": "stream",
     "text": [
      "+--------+------------------------------------------------------------------------------------------------------------------------------------------------------------------------------------------------------------------------------+\n",
      "|uid     |recommendations                                                                                                                                                                                                               |\n",
      "+--------+------------------------------------------------------------------------------------------------------------------------------------------------------------------------------------------------------------------------------+\n",
      "|16202430|[[7052957, 3.2940733], [6854188, 3.227839], [11359814, 3.1276214], [11170240, 3.1276214], [12233050, 3.1276214], [10817575, 3.1276214], [22828525, 3.1276214], [6240020, 3.0941505], [824701, 3.0319943], [532945, 3.0319943]]|\n",
      "+--------+------------------------------------------------------------------------------------------------------------------------------------------------------------------------------------------------------------------------------+\n",
      "\n"
     ]
    }
   ],
   "source": [
    "userRecs.where(F.col('uid')==16202430).show(truncate=False)"
   ]
  },
  {
   "cell_type": "code",
   "execution_count": 20,
   "metadata": {},
   "outputs": [],
   "source": [
    "# Generate top 10 movie recommendations for a specified set of users\n",
    "users = df_reco_spark.select(als.getUserCol()).distinct().limit(3)\n",
    "userSubsetRecs = model.recommendForUserSubset(users, 10)\n",
    "# Generate top 10 user recommendations for a specified set of movies\n",
    "movies = df_reco_spark.select(als.getItemCol()).distinct().limit(3)\n",
    "movieSubSetRecs = model.recommendForItemSubset(movies, 10)"
   ]
  },
  {
   "cell_type": "code",
   "execution_count": 21,
   "metadata": {},
   "outputs": [
    {
     "name": "stdout",
     "output_type": "stream",
     "text": [
      "+---------+--------------------------------------------------------------------------------------------------------------------------------------------------------------------------------------------------------------------------+\n",
      "|uid      |recommendations                                                                                                                                                                                                           |\n",
      "+---------+--------------------------------------------------------------------------------------------------------------------------------------------------------------------------------------------------------------------------+\n",
      "|168914470|[[1865786, 3.7717478], [22840950, 3.741018], [4135731, 3.6468449], [6855406, 3.6468449], [4316348, 3.6468449], [6953665, 3.645421], [22810480, 3.645421], [1137753, 3.645421], [2288377, 3.6043441], [4173999, 3.6043441]]|\n",
      "|168886705|[[6188952, 2.7968771], [5383825, 2.7342765], [815176, 2.7132921], [280883, 2.7132921], [525304, 2.7132921], [513240, 2.7132921], [295636, 2.7132921], [284993, 2.7132921], [6246984, 2.7132921], [2637618, 2.7132921]]    |\n",
      "|168842497|[[6568552, 4.7012577], [1030204, 4.7012577], [9929155, 4.7012577], [9827967, 4.5461335], [21765720, 4.4993024], [9838655, 4.231812], [23659194, 4.1052184], [7044786, 4.075074], [3419360, 4.075074], [6896344, 4.075074]]|\n",
      "+---------+--------------------------------------------------------------------------------------------------------------------------------------------------------------------------------------------------------------------------+\n",
      "\n"
     ]
    }
   ],
   "source": [
    "userSubsetRecs.show(truncate=False)"
   ]
  },
  {
   "cell_type": "code",
   "execution_count": null,
   "metadata": {},
   "outputs": [],
   "source": []
  }
 ],
 "metadata": {
  "kernelspec": {
   "display_name": "Python 3",
   "language": "python",
   "name": "python3"
  },
  "language_info": {
   "codemirror_mode": {
    "name": "ipython",
    "version": 3
   },
   "file_extension": ".py",
   "mimetype": "text/x-python",
   "name": "python",
   "nbconvert_exporter": "python",
   "pygments_lexer": "ipython3",
   "version": "3.6.5"
  }
 },
 "nbformat": 4,
 "nbformat_minor": 2
}
